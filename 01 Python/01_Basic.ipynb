{
 "cells": [
  {
   "cell_type": "markdown",
   "id": "fc8a5864",
   "metadata": {},
   "source": [
    "# `Variables`\n",
    "Temporary storage values in a program are called variables. Variables are used to store data that can be used in a program."
   ]
  },
  {
   "cell_type": "code",
   "execution_count": 1,
   "id": "71a1a0c7",
   "metadata": {},
   "outputs": [
    {
     "name": "stdout",
     "output_type": "stream",
     "text": [
      "hello word\n"
     ]
    }
   ],
   "source": [
    "a = \"hello word\"\n",
    "print(a)"
   ]
  },
  {
   "cell_type": "code",
   "execution_count": 2,
   "id": "597ca0ed",
   "metadata": {},
   "outputs": [
    {
     "name": "stdout",
     "output_type": "stream",
     "text": [
      "20\n"
     ]
    }
   ],
   "source": [
    "age = 20\n",
    "print(age)"
   ]
  },
  {
   "cell_type": "markdown",
   "id": "12181311",
   "metadata": {},
   "source": [
    "# `Keywords`\n",
    "Special reserved words in the language that have a specific meaning. Keywords are used to define the structure of the program."
   ]
  },
  {
   "cell_type": "code",
   "execution_count": null,
   "id": "6632686f",
   "metadata": {},
   "outputs": [
    {
     "ename": "TypeError",
     "evalue": "'int' object is not callable",
     "output_type": "error",
     "traceback": [
      "\u001b[31m---------------------------------------------------------------------------\u001b[39m",
      "\u001b[31mTypeError\u001b[39m                                 Traceback (most recent call last)",
      "\u001b[36mCell\u001b[39m\u001b[36m \u001b[39m\u001b[32mIn[10]\u001b[39m\u001b[32m, line 2\u001b[39m\n\u001b[32m      1\u001b[39m \u001b[38;5;28mprint\u001b[39m = \u001b[32m10\u001b[39m\n\u001b[32m----> \u001b[39m\u001b[32m2\u001b[39m \u001b[38;5;28;43mprint\u001b[39;49m\u001b[43m(\u001b[49m\u001b[38;5;28;43mprint\u001b[39;49m\u001b[43m)\u001b[49m\n",
      "\u001b[31mTypeError\u001b[39m: 'int' object is not callable"
     ]
    }
   ],
   "source": [
    "print = 10\n",
    "print(print)"
   ]
  },
  {
   "cell_type": "markdown",
   "id": "4d86f866",
   "metadata": {},
   "source": [
    "# `Data Types`\n",
    "There are several data types in Python, including: \n",
    "#### **`Numeric`** (Integers, Floats, Complex)\n",
    "*   **`Integers`**: Whole numbers, either positive, negative, or zero. For example: 1, -5, 0.\n",
    "*   **`Floats`**: Decimal numbers. For example: 3.14, -0.\n",
    "*   **`Complex`**: Numbers with a real and imaginary part. For example: 3+4j. \n",
    "#### **`Sequence`** (Strings, Lists, Tuples)\n",
    "*   **`Strings`**: Sequences of characters. For example: \"hello\", 'hello', or 'hello world'.\n",
    "*   **`List`**: An ordered collection of items that can be of any data type, including strings , integers, floats, and other lists. For example: [1, 2, 3], [\"a\", \"b\", \"c \"], or [1, 2, 3, \"a\", \"b\", \"c\"]\n",
    "*   **`Tuple`**: An ordered, immutable collection of items that can be of any data type, including strings, integers, floats, and other tuples. For example: (1, 2, 3), (\"a\", \"b\", \"c\"), or (1, 2, 3, \"a\", \"b\", \"c\")\n",
    "####   **`Boolean`**: \n",
    "A logical value that can be either True or False.\n",
    "####   **`Dictionary`**: \n",
    "An unordered collection of key-value pairs. For example: {\"name\": \" John\", \"age\": 30}, {\"city\": \"New York\", \"country\": \"USA \"}, or {\"1\": \"one\", \"2\": \"two\", \"3\": \"three\"}\n",
    "####   **`Set`**: \n",
    "An unordered collection of unique items. For example: {1, 2, 3}, {\"a\", \"b\", \"c\"}, or {1, 2, 3, \"a\", \"b\", \"c\"}\n",
    "####   **`NoneType`**: \n",
    "A special data type that represents the absence of a value. For example : None "
   ]
  },
  {
   "cell_type": "code",
   "execution_count": null,
   "id": "b58671a9",
   "metadata": {},
   "outputs": [
    {
     "data": {
      "text/plain": [
       "int"
      ]
     },
     "execution_count": 5,
     "metadata": {},
     "output_type": "execute_result"
    }
   ],
   "source": [
    "age = 20\n",
    "type(age)"
   ]
  },
  {
   "cell_type": "code",
   "execution_count": null,
   "id": "7fd9419b",
   "metadata": {},
   "outputs": [
    {
     "data": {
      "text/plain": [
       "str"
      ]
     },
     "execution_count": 6,
     "metadata": {},
     "output_type": "execute_result"
    }
   ],
   "source": [
    "name = 'Manharan Kaur'\n",
    "type(name)"
   ]
  },
  {
   "cell_type": "code",
   "execution_count": null,
   "id": "63687f6c",
   "metadata": {},
   "outputs": [
    {
     "data": {
      "text/plain": [
       "float"
      ]
     },
     "execution_count": 7,
     "metadata": {},
     "output_type": "execute_result"
    }
   ],
   "source": [
    "score = 89.5\n",
    "type(score)"
   ]
  },
  {
   "cell_type": "code",
   "execution_count": null,
   "id": "0d16d711",
   "metadata": {},
   "outputs": [
    {
     "data": {
      "text/plain": [
       "str"
      ]
     },
     "execution_count": 8,
     "metadata": {},
     "output_type": "execute_result"
    }
   ],
   "source": [
    "x = \"10.5\"\n",
    "type(x)"
   ]
  },
  {
   "cell_type": "code",
   "execution_count": null,
   "id": "ec41b6c8",
   "metadata": {},
   "outputs": [
    {
     "data": {
      "text/plain": [
       "str"
      ]
     },
     "execution_count": 9,
     "metadata": {},
     "output_type": "execute_result"
    }
   ],
   "source": [
    "a = 'True'\n",
    "type(a)"
   ]
  },
  {
   "cell_type": "code",
   "execution_count": null,
   "id": "0ae8e428",
   "metadata": {},
   "outputs": [
    {
     "data": {
      "text/plain": [
       "bool"
      ]
     },
     "execution_count": 10,
     "metadata": {},
     "output_type": "execute_result"
    }
   ],
   "source": [
    "a = True\n",
    "type(a)"
   ]
  },
  {
   "cell_type": "code",
   "execution_count": null,
   "id": "c0353bdf",
   "metadata": {},
   "outputs": [
    {
     "ename": "SyntaxError",
     "evalue": "invalid decimal literal (2591580758.py, line 1)",
     "output_type": "error",
     "traceback": [
      "\u001b[0;36m  Cell \u001b[0;32mIn[11], line 1\u001b[0;36m\u001b[0m\n\u001b[0;31m    5a = 7\u001b[0m\n\u001b[0m    ^\u001b[0m\n\u001b[0;31mSyntaxError\u001b[0m\u001b[0;31m:\u001b[0m invalid decimal literal\n"
     ]
    }
   ],
   "source": [
    "5a = 7 \n",
    "# Error can't start variables names from a number"
   ]
  },
  {
   "cell_type": "code",
   "execution_count": null,
   "id": "9e914c68",
   "metadata": {},
   "outputs": [
    {
     "name": "stdout",
     "output_type": "stream",
     "text": [
      "9\n"
     ]
    }
   ],
   "source": [
    "a = 4\n",
    "b = 5\n",
    "c = a + b\n",
    "print(c)  "
   ]
  },
  {
   "cell_type": "markdown",
   "id": "bc9d532c",
   "metadata": {},
   "source": [
    "# `Functions`\n",
    "Functions are a way to group a set of related statements together to perform a specific task. They can take arguments, return values, and be reused throughout your code."
   ]
  },
  {
   "cell_type": "code",
   "execution_count": null,
   "id": "a5b60039",
   "metadata": {},
   "outputs": [],
   "source": [
    "def sum(a,b):\n",
    "    return a+b"
   ]
  },
  {
   "cell_type": "code",
   "execution_count": null,
   "id": "00be5bc3",
   "metadata": {},
   "outputs": [
    {
     "name": "stdout",
     "output_type": "stream",
     "text": [
      "11\n"
     ]
    }
   ],
   "source": [
    "print(sum(5,6))"
   ]
  },
  {
   "cell_type": "markdown",
   "id": "43afd4d7",
   "metadata": {},
   "source": [
    "# `Operators` & `Operands`\n",
    "- **`Operators`**: These are the symbols used to perform operations on operands. Examples include `+`, `-`, `*`, `/`, etc. \n",
    "- **`Operands`**: These are the values on which the operators are applied. Examples include `2 `, `5`, `10`, etc. \n",
    "- **`Expression`**: A combination of operators and operands that results in a value. Examples include `2 + 5`, `10 * 2`, etc.\n",
    "- **`Order of Precedenc`**: The order in which operators are applied when there are multiple operators in an expression. For example, in the expression `2 + 3 * 4`, the multiplication is performed first, then the addition .\n",
    "- **`Associativity`**: The order in which operators are applied when there are multiple operators of the same precedence in an expression. For example, in the expression `2 + 3 + 4`, the addition is performed from left to right.\n",
    "- **`BODMAS`**: A mnemonic used to remember the order of precedence of operators. It stands for `Brackets`, `Orders`, `Division`, `Multiplication`, `Addition`, and `Subtraction`. \n",
    "- ** `PEMD` **: A mnemonic used to remember the order of precedence of operators. It stands for `Parentheses`, `Exponents`, `Multiplication` and `Division`, and `Addition` and `Subtraction`. "
   ]
  },
  {
   "cell_type": "code",
   "execution_count": null,
   "id": "166b70a1",
   "metadata": {},
   "outputs": [],
   "source": [
    "name = input(\"Enter name:\")\n",
    "print(name)\n",
    "print(type(name))"
   ]
  },
  {
   "cell_type": "markdown",
   "id": "849c7878",
   "metadata": {},
   "source": [
    "# `Typecasting`\n",
    "It is the process of converting a variable from one data type to another. For example, converting an integer to a string or a float to an integer."
   ]
  },
  {
   "cell_type": "code",
   "execution_count": 3,
   "id": "f4b230f7",
   "metadata": {},
   "outputs": [
    {
     "name": "stdout",
     "output_type": "stream",
     "text": [
      "<class 'int'>\n"
     ]
    }
   ],
   "source": [
    "a = 2.556\n",
    "b = int(a)\n",
    "print(type(b))"
   ]
  },
  {
   "cell_type": "code",
   "execution_count": null,
   "id": "f79b9b59",
   "metadata": {},
   "outputs": [
    {
     "name": "stdout",
     "output_type": "stream",
     "text": [
      "2\n"
     ]
    }
   ],
   "source": [
    "string = \"2.5\"\n",
    "print(int(float(string)))\n",
    "# print(int(string)) is not valid because string has float value \n",
    "# the string \"2.5\" is not directly convertible to int"
   ]
  },
  {
   "cell_type": "code",
   "execution_count": null,
   "id": "1040a1b3",
   "metadata": {},
   "outputs": [
    {
     "name": "stdout",
     "output_type": "stream",
     "text": [
      "h\n",
      "o\n"
     ]
    }
   ],
   "source": [
    "string = \"hello\"\n",
    "print(string[0]) # first index\n",
    "print(string[-1]) # last index"
   ]
  },
  {
   "cell_type": "code",
   "execution_count": 1,
   "id": "4b6fcac6",
   "metadata": {},
   "outputs": [
    {
     "ename": "NameError",
     "evalue": "name 'string' is not defined",
     "output_type": "error",
     "traceback": [
      "\u001b[31m---------------------------------------------------------------------------\u001b[39m",
      "\u001b[31mNameError\u001b[39m                                 Traceback (most recent call last)",
      "\u001b[36mCell\u001b[39m\u001b[36m \u001b[39m\u001b[32mIn[1]\u001b[39m\u001b[32m, line 1\u001b[39m\n\u001b[32m----> \u001b[39m\u001b[32m1\u001b[39m \u001b[43mstring\u001b[49m[\u001b[32m0\u001b[39m] = \u001b[33m\"\u001b[39m\u001b[33mY\u001b[39m\u001b[33m\"\u001b[39m\n\u001b[32m      2\u001b[39m \u001b[38;5;66;03m# string are immutable\u001b[39;00m\n",
      "\u001b[31mNameError\u001b[39m: name 'string' is not defined"
     ]
    }
   ],
   "source": [
    "string[0] = \"Y\"\n",
    "# string are immutable"
   ]
  },
  {
   "cell_type": "code",
   "execution_count": 2,
   "id": "80941dcf",
   "metadata": {},
   "outputs": [
    {
     "name": "stdout",
     "output_type": "stream",
     "text": [
      "Yellow\n"
     ]
    }
   ],
   "source": [
    "str1 = \"Hello\"\n",
    "str1 = \"Yellow\"\n",
    "print(str1)\n",
    "# reassigning string is possible, but not changing the string"
   ]
  },
  {
   "cell_type": "markdown",
   "id": "450eb118",
   "metadata": {},
   "source": [
    "# `Basic Operations`"
   ]
  },
  {
   "cell_type": "code",
   "execution_count": 4,
   "id": "953f3528",
   "metadata": {},
   "outputs": [],
   "source": [
    "a = 20\n",
    "b = 15"
   ]
  },
  {
   "cell_type": "markdown",
   "id": "dd4fc35d",
   "metadata": {},
   "source": [
    "#### `Addition` "
   ]
  },
  {
   "cell_type": "code",
   "execution_count": null,
   "id": "28f06fbb",
   "metadata": {},
   "outputs": [
    {
     "data": {
      "text/plain": [
       "35"
      ]
     },
     "execution_count": 5,
     "metadata": {},
     "output_type": "execute_result"
    }
   ],
   "source": [
    "a + b"
   ]
  },
  {
   "cell_type": "markdown",
   "id": "54a78b30",
   "metadata": {},
   "source": [
    "#### `Subtraction`"
   ]
  },
  {
   "cell_type": "code",
   "execution_count": 6,
   "id": "2908ce2e",
   "metadata": {},
   "outputs": [
    {
     "data": {
      "text/plain": [
       "5"
      ]
     },
     "execution_count": 6,
     "metadata": {},
     "output_type": "execute_result"
    }
   ],
   "source": [
    "a - b"
   ]
  },
  {
   "cell_type": "markdown",
   "id": "629aa5e5",
   "metadata": {},
   "source": [
    "#### `Multiplication`"
   ]
  },
  {
   "cell_type": "code",
   "execution_count": 7,
   "id": "e5d9f685",
   "metadata": {},
   "outputs": [
    {
     "data": {
      "text/plain": [
       "300"
      ]
     },
     "execution_count": 7,
     "metadata": {},
     "output_type": "execute_result"
    }
   ],
   "source": [
    "a * b"
   ]
  },
  {
   "cell_type": "markdown",
   "id": "88e8ee14",
   "metadata": {},
   "source": [
    "#### `Simple Division`:\n",
    "Give answer in decimal form."
   ]
  },
  {
   "cell_type": "code",
   "execution_count": 8,
   "id": "7688e89e",
   "metadata": {},
   "outputs": [
    {
     "data": {
      "text/plain": [
       "1.3333333333333333"
      ]
     },
     "execution_count": 8,
     "metadata": {},
     "output_type": "execute_result"
    }
   ],
   "source": [
    "a / b"
   ]
  },
  {
   "cell_type": "markdown",
   "id": "dd7cf998",
   "metadata": {},
   "source": [
    "#### `Floor Division`:\n",
    "The `//` operator performs floor division, which returns the largest whole number less than or equal to the result of the division. For example, `5 // 2` returns `2`, and `5 // -2` returns `-3`."
   ]
  },
  {
   "cell_type": "code",
   "execution_count": 9,
   "id": "8dc49281",
   "metadata": {},
   "outputs": [
    {
     "data": {
      "text/plain": [
       "1"
      ]
     },
     "execution_count": 9,
     "metadata": {},
     "output_type": "execute_result"
    }
   ],
   "source": [
    "a // b"
   ]
  },
  {
   "cell_type": "markdown",
   "id": "8f7e1421",
   "metadata": {},
   "source": [
    "#### `Modulus`:\n",
    "The `Modulus` function is used to calculate the remainder of a division operation. It takes two arguments: the dividend and the divisor. The result is the remainder of the division of the dividend by the divisor."
   ]
  },
  {
   "cell_type": "code",
   "execution_count": 10,
   "id": "8a8d676b",
   "metadata": {},
   "outputs": [
    {
     "data": {
      "text/plain": [
       "5"
      ]
     },
     "execution_count": 10,
     "metadata": {},
     "output_type": "execute_result"
    }
   ],
   "source": [
    "a % b"
   ]
  },
  {
   "cell_type": "markdown",
   "id": "a89baa84",
   "metadata": {},
   "source": [
    "#### `Power`"
   ]
  },
  {
   "cell_type": "code",
   "execution_count": 11,
   "id": "d78ddf9c",
   "metadata": {},
   "outputs": [
    {
     "data": {
      "text/plain": [
       "32768000000000000000"
      ]
     },
     "execution_count": 11,
     "metadata": {},
     "output_type": "execute_result"
    }
   ],
   "source": [
    "a ** b"
   ]
  },
  {
   "cell_type": "code",
   "execution_count": null,
   "id": "c47bbe35",
   "metadata": {},
   "outputs": [
    {
     "name": "stdout",
     "output_type": "stream",
     "text": [
      "-2\n"
     ]
    }
   ],
   "source": [
    "print(4% (1 + 9)**2 - 60 // (7 + 2))"
   ]
  },
  {
   "cell_type": "markdown",
   "id": "0c88a3ce",
   "metadata": {},
   "source": [
    "# `Conditionals`\n",
    "- **`if`** : **`if`** is a conditional statement that allows you to execute a block of code if a certain condition is met. The syntax is as follows:<br> `if (condition)`<br>    `{ code to be executed }`.<br> The condition is a boolean expression that evaluates to either `true` or `false`. If the condition is `true`, the code inside the block is executed. If the condition is `false`, the code inside the block is skipped.\n",
    "- **`else`** : **`else`** is a conditional statement that allows you to execute a block of code if a certain condition is not met. The syntax is as follows:<br> `if (condition)`<br>    ` { code to be executed }`<br>    `  else`<br>    `  { alternative code to be executed }`. \n",
    "- **`elif`** : **`elif`** is a conditional statement that allows you to execute a block of code if a certain condition is met, but only if the previous conditions are not met. The syntax is as follows:<br> `if (condition1)`<br>    `  { code to be executed }`<br>    `  elif (condition2) { alternative code to be executed }`.\n",
    "- **`match`** : **`match`** is a conditional statement that allows you to execute a block of code based on the value of a variable. The syntax is as follows:<br> `match (variable)`<br>    `  { case value1 => code to be executed; `<br>    ` case value2 => alternative code to be executed; }`."
   ]
  },
  {
   "cell_type": "code",
   "execution_count": 1,
   "id": "672ec8bf",
   "metadata": {},
   "outputs": [
    {
     "name": "stdout",
     "output_type": "stream",
     "text": [
      "90 is even\n"
     ]
    }
   ],
   "source": [
    "# check whether a number is odd or even\n",
    "x = 90\n",
    "if x % 2 == 0:\n",
    "    print(x, \"is even\")\n",
    "else:\n",
    "    print(x, \"is odd\")"
   ]
  },
  {
   "cell_type": "code",
   "execution_count": 2,
   "id": "e7ae253d",
   "metadata": {},
   "outputs": [
    {
     "name": "stdout",
     "output_type": "stream",
     "text": [
      "x is zero\n"
     ]
    }
   ],
   "source": [
    "# if a number is negative, positive or zero\n",
    "x = 0\n",
    "if x < 0:\n",
    "    print(\"x is negative\")\n",
    "elif x == 0:\n",
    "    print(\"x is zero\")\n",
    "else:\n",
    "    print(\"x is positive\")"
   ]
  },
  {
   "cell_type": "code",
   "execution_count": 5,
   "id": "6ad8eb0b",
   "metadata": {},
   "outputs": [
    {
     "name": "stdout",
     "output_type": "stream",
     "text": [
      "Good\n"
     ]
    }
   ],
   "source": [
    "# match case example. Grade system\n",
    "marks = 85\n",
    "\n",
    "match marks:\n",
    "    case _ if 90 <= marks <= 100:\n",
    "        print(\"Excellent\")\n",
    "    case _ if 80 <= marks < 90:\n",
    "        print(\"Good\")\n",
    "    case _ if 70 <= marks < 80:\n",
    "        print(\"Fair\")\n",
    "    case _ if 60 <= marks < 70:\n",
    "        print(\"Pass\")\n",
    "    case _:\n",
    "        print(\"Fail\")\n"
   ]
  },
  {
   "cell_type": "markdown",
   "id": "5f4136df",
   "metadata": {},
   "source": [
    "# `Loops and Iterations`\n",
    "- **For Loops**: Used to execute a block of code repeatedly for a specified number of times. Eg. `for i in range(5): print(i)`\n",
    "- **While Loops**: Used to execute a block of code repeatedly while a certain condition is met . Eg. `i = 0; while i: print(i); i += 1`\n",
    "- **Iterators**: Used to iterate over a sequence (like a list or a string) Eg . `for char in \"hello\": print(char)` \n",
    "- **Enumerate**: Used to iterate over a sequence and get both the index and the value Eg . `for i, char in enumerate(\"hello\"): print(i, char)` \n",
    "- **Zip**: Used to iterate over two or more sequences in parallel Eg . `for a, b in zip([1, 2, 3], [\"a\", \"b\", \"c \"]): print(a, b)` \n"
   ]
  },
  {
   "cell_type": "markdown",
   "id": "dd3ee806",
   "metadata": {},
   "source": [
    "Iterating over a LIST or TUPLE"
   ]
  },
  {
   "cell_type": "code",
   "execution_count": 6,
   "id": "1c5310c6",
   "metadata": {},
   "outputs": [],
   "source": [
    "fruits = [\"apple\", \"banana\", \"cherry\", \"date\"]"
   ]
  },
  {
   "cell_type": "code",
   "execution_count": 7,
   "id": "ab129635",
   "metadata": {},
   "outputs": [
    {
     "name": "stdout",
     "output_type": "stream",
     "text": [
      "apple\n",
      "banana\n",
      "cherry\n",
      "date\n"
     ]
    }
   ],
   "source": [
    "for fruit in fruits:\n",
    "    print(fruit)"
   ]
  },
  {
   "cell_type": "code",
   "execution_count": null,
   "id": "1a706a99",
   "metadata": {},
   "outputs": [
    {
     "name": "stdout",
     "output_type": "stream",
     "text": [
      "apple\n",
      "banana\n",
      "cherry\n",
      "date\n"
     ]
    }
   ],
   "source": [
    "for i in range(len(fruits)):\n",
    "    print(fruits[i])"
   ]
  },
  {
   "cell_type": "code",
   "execution_count": 9,
   "id": "068c2324",
   "metadata": {},
   "outputs": [
    {
     "name": "stdout",
     "output_type": "stream",
     "text": [
      "0 apple\n",
      "1 banana\n",
      "2 cherry\n",
      "3 date\n"
     ]
    }
   ],
   "source": [
    "for index, fruit in enumerate(fruits):\n",
    "    print(index, fruit)"
   ]
  },
  {
   "cell_type": "code",
   "execution_count": 10,
   "id": "60818ca7",
   "metadata": {},
   "outputs": [
    {
     "name": "stdout",
     "output_type": "stream",
     "text": [
      "apple\n",
      "banana\n",
      "cherry\n",
      "date\n"
     ]
    }
   ],
   "source": [
    "i = 0\n",
    "while i < len(fruits):\n",
    "    print(fruits[i])\n",
    "    i += 1"
   ]
  },
  {
   "cell_type": "code",
   "execution_count": 11,
   "id": "f0c6c1cd",
   "metadata": {},
   "outputs": [
    {
     "name": "stdout",
     "output_type": "stream",
     "text": [
      "apple\n",
      "banana\n",
      "cherry\n",
      "date\n"
     ]
    },
    {
     "data": {
      "text/plain": [
       "[None, None, None, None]"
      ]
     },
     "execution_count": 11,
     "metadata": {},
     "output_type": "execute_result"
    }
   ],
   "source": [
    "[print(fruit) for fruit in fruits]"
   ]
  },
  {
   "cell_type": "markdown",
   "id": "d3777ae9",
   "metadata": {},
   "source": [
    "Iterate over STRING"
   ]
  },
  {
   "cell_type": "code",
   "execution_count": 13,
   "id": "ac7adcc7",
   "metadata": {},
   "outputs": [],
   "source": [
    "text = \"hello\""
   ]
  },
  {
   "cell_type": "code",
   "execution_count": 14,
   "id": "7f6a18ca",
   "metadata": {},
   "outputs": [
    {
     "name": "stdout",
     "output_type": "stream",
     "text": [
      "h\n",
      "e\n",
      "l\n",
      "l\n",
      "o\n"
     ]
    }
   ],
   "source": [
    "for char in text:\n",
    "    print(char)"
   ]
  },
  {
   "cell_type": "code",
   "execution_count": 15,
   "id": "b34f2f7c",
   "metadata": {},
   "outputs": [
    {
     "name": "stdout",
     "output_type": "stream",
     "text": [
      "h\n",
      "e\n",
      "l\n",
      "l\n",
      "o\n"
     ]
    }
   ],
   "source": [
    "for i in range(len(text)):\n",
    "    print(text[i])"
   ]
  },
  {
   "cell_type": "code",
   "execution_count": 16,
   "id": "0ab26062",
   "metadata": {},
   "outputs": [
    {
     "name": "stdout",
     "output_type": "stream",
     "text": [
      "0 h\n",
      "1 e\n",
      "2 l\n",
      "3 l\n",
      "4 o\n"
     ]
    }
   ],
   "source": [
    "for index, char in enumerate(text):\n",
    "    print(index, char)"
   ]
  },
  {
   "cell_type": "markdown",
   "id": "0b606dbb",
   "metadata": {},
   "source": [
    "Iterate over a SET"
   ]
  },
  {
   "cell_type": "code",
   "execution_count": 17,
   "id": "1c004e33",
   "metadata": {},
   "outputs": [],
   "source": [
    "colors = {\"red\", \"green\", \"blue\"}"
   ]
  },
  {
   "cell_type": "code",
   "execution_count": 18,
   "id": "0ef80287",
   "metadata": {},
   "outputs": [
    {
     "name": "stdout",
     "output_type": "stream",
     "text": [
      "green\n",
      "red\n",
      "blue\n"
     ]
    }
   ],
   "source": [
    "for color in colors:\n",
    "    print(color)"
   ]
  },
  {
   "cell_type": "code",
   "execution_count": 19,
   "id": "c4b87494",
   "metadata": {},
   "outputs": [
    {
     "name": "stdout",
     "output_type": "stream",
     "text": [
      "0 green\n",
      "1 red\n",
      "2 blue\n"
     ]
    }
   ],
   "source": [
    "for index, color in enumerate(colors):\n",
    "    print(index, color)"
   ]
  },
  {
   "cell_type": "markdown",
   "id": "56875ed1",
   "metadata": {},
   "source": [
    "Iterate over a DICTIONARY"
   ]
  },
  {
   "cell_type": "code",
   "execution_count": 20,
   "id": "f259847d",
   "metadata": {},
   "outputs": [],
   "source": [
    "student = {\"name\": \"Aman\", \"age\": 21, \"grade\": \"A\"}"
   ]
  },
  {
   "cell_type": "code",
   "execution_count": 21,
   "id": "33ca8225",
   "metadata": {},
   "outputs": [
    {
     "name": "stdout",
     "output_type": "stream",
     "text": [
      "name\n",
      "age\n",
      "grade\n"
     ]
    }
   ],
   "source": [
    "# Iterate over keys:\n",
    "for key in student:\n",
    "    print(key)  # prints keys"
   ]
  },
  {
   "cell_type": "code",
   "execution_count": 22,
   "id": "e045c4c0",
   "metadata": {},
   "outputs": [
    {
     "name": "stdout",
     "output_type": "stream",
     "text": [
      "name\n",
      "age\n",
      "grade\n"
     ]
    }
   ],
   "source": [
    "for key in student.keys():\n",
    "    print(key)"
   ]
  },
  {
   "cell_type": "code",
   "execution_count": 23,
   "id": "57ee0c7f",
   "metadata": {},
   "outputs": [
    {
     "name": "stdout",
     "output_type": "stream",
     "text": [
      "Aman\n",
      "21\n",
      "A\n"
     ]
    }
   ],
   "source": [
    "# Iterate over Values\n",
    "for value in student.values():\n",
    "    print(value)"
   ]
  },
  {
   "cell_type": "code",
   "execution_count": 24,
   "id": "f72e1f54",
   "metadata": {},
   "outputs": [
    {
     "name": "stdout",
     "output_type": "stream",
     "text": [
      "name: Aman\n",
      "age: 21\n",
      "grade: A\n"
     ]
    }
   ],
   "source": [
    "for key, value in student.items():\n",
    "    print(f\"{key}: {value}\")"
   ]
  },
  {
   "cell_type": "markdown",
   "id": "c1bbfe4f",
   "metadata": {},
   "source": [
    "# `Functions`\n",
    "- Functions are blocks of code that can be called multiple times from different parts of a program. They can take arguments and return values. Functions are useful for organizing code, reducing repetition, and improving code readability. \n",
    "- `Types of Functions`: User define and built-in functions.\n",
    "- `User -defined functions`: These are functions that are created by the user to perform a specific task. They can be defined using the `def` keyword. For example: `def greet(name): print(f\"Hello, {name}!\")` \n",
    "- `Built-in functions`: These are functions that are already available in Python and can be used directly without defining them. For example: `len()`, `type()`, `print()`, etc.\n",
    "- `Return Statement`: The `return` statement is used to return a value from a function. If a function does not contain a `return` statement, it will return `None` by default. For example: `def greet(name): return f\"Hello, {name}!\"` "
   ]
  },
  {
   "cell_type": "code",
   "execution_count": 25,
   "id": "c744d142",
   "metadata": {},
   "outputs": [],
   "source": [
    "# function to calculate the sum of all elements in the list\n",
    "def sum_of_elements(lst):\n",
    "    return sum(lst)"
   ]
  },
  {
   "cell_type": "code",
   "execution_count": 26,
   "id": "072c5fbd",
   "metadata": {},
   "outputs": [
    {
     "name": "stdout",
     "output_type": "stream",
     "text": [
      "55\n"
     ]
    }
   ],
   "source": [
    "l = [1,2,3,4,5,6,7,8,9,10]\n",
    "print(sum_of_elements(l))"
   ]
  },
  {
   "cell_type": "markdown",
   "id": "84acfd6d",
   "metadata": {},
   "source": [
    "#### `Types of Arguments`\n",
    "- **`Positional Arguments`**: These are the arguments that are passed to a function in the order they are defined in the function definition. They are required and must be provided in the correct order."
   ]
  },
  {
   "cell_type": "code",
   "execution_count": 1,
   "id": "0a6f6682",
   "metadata": {},
   "outputs": [
    {
     "name": "stdout",
     "output_type": "stream",
     "text": [
      "20\n"
     ]
    }
   ],
   "source": [
    "def multiply(a, b):\n",
    "    return a * b\n",
    "\n",
    "print(multiply(4, 5))\n"
   ]
  },
  {
   "cell_type": "markdown",
   "id": "7a60c7da",
   "metadata": {},
   "source": [
    "- **`Keyword Arguments`**: These are arguments that are specified after the function name and are preceded by a keyword. They are used to pass values to the function that are not part of the function's name. Keyword arguments are optional and can be used to make the function more flexible. "
   ]
  },
  {
   "cell_type": "code",
   "execution_count": 2,
   "id": "d6e4ff02",
   "metadata": {},
   "outputs": [
    {
     "name": "stdout",
     "output_type": "stream",
     "text": [
      "Name: Manharan\n",
      "Age: 20\n"
     ]
    }
   ],
   "source": [
    "def student(name, age):\n",
    "    print(\"Name:\", name)\n",
    "    print(\"Age:\", age)\n",
    "student(age=20, name=\"Manharan\")"
   ]
  },
  {
   "cell_type": "markdown",
   "id": "0aea7182",
   "metadata": {},
   "source": [
    "- **`Default Arguments`**: This is a feature that allows you to specify default values for function arguments. This can be useful when you want to provide a default value for an argument that is not always provided. "
   ]
  },
  {
   "cell_type": "code",
   "execution_count": 3,
   "id": "eb49560d",
   "metadata": {},
   "outputs": [
    {
     "name": "stdout",
     "output_type": "stream",
     "text": [
      "Hello Gurjot\n",
      "Hello Guest\n"
     ]
    }
   ],
   "source": [
    "def greet(name=\"Guest\"):\n",
    "    print(\"Hello\", name)\n",
    "\n",
    "greet(\"Gurjot\")   \n",
    "greet()        "
   ]
  },
  {
   "cell_type": "markdown",
   "id": "fb0ab5d3",
   "metadata": {},
   "source": [
    "- **`Variable-Length Arguments`**: This is a feature that allows a function to accept a variable number of arguments. It is denoted by the `*` symbol in the function definition. For example, `def my_function(arg1 , arg2, *args):` would allow the function to accept any number of additional arguments.\n",
    "\n",
    "* `Using *args (Non-keyworded)`: This is used to pass a non-keyworded variable-length argument list to a function. "
   ]
  },
  {
   "cell_type": "code",
   "execution_count": 5,
   "id": "7d898fb8",
   "metadata": {},
   "outputs": [
    {
     "name": "stdout",
     "output_type": "stream",
     "text": [
      "60\n"
     ]
    }
   ],
   "source": [
    "def total(*numbers):\n",
    "    print(sum(numbers))\n",
    "\n",
    "total(10, 20, 30)  "
   ]
  },
  {
   "cell_type": "markdown",
   "id": "6a7fa819",
   "metadata": {},
   "source": [
    "* `Using **kwargs (Keyworded)`: This is a way to pass a variable number of keyword arguments to a function. It is useful when you need to pass a variable number of arguments to a function, but you don't know what the arguments are until runtime."
   ]
  },
  {
   "cell_type": "code",
   "execution_count": 4,
   "id": "01b966bd",
   "metadata": {},
   "outputs": [
    {
     "name": "stdout",
     "output_type": "stream",
     "text": [
      "name : Manharan\n",
      "age : 20\n"
     ]
    }
   ],
   "source": [
    "def show_details(**info):\n",
    "    for key, value in info.items():\n",
    "        print(key, \":\", value)\n",
    "\n",
    "show_details(name=\"Manharan\", age=20)\n"
   ]
  },
  {
   "cell_type": "code",
   "execution_count": 6,
   "id": "49b8a4d5",
   "metadata": {},
   "outputs": [],
   "source": [
    "# Factorial of a number\n",
    "def factorial(n):\n",
    "    if n == 0:\n",
    "        return 1\n",
    "    else:\n",
    "        return n * factorial(n-1)"
   ]
  },
  {
   "cell_type": "code",
   "execution_count": 7,
   "id": "134f8a42",
   "metadata": {},
   "outputs": [
    {
     "data": {
      "text/plain": [
       "720"
      ]
     },
     "execution_count": 7,
     "metadata": {},
     "output_type": "execute_result"
    }
   ],
   "source": [
    "factorial(6)"
   ]
  },
  {
   "cell_type": "code",
   "execution_count": 9,
   "id": "2f609de6",
   "metadata": {},
   "outputs": [],
   "source": [
    "# Sum of all natural numbers till n\n",
    "def sum_of_natural_numbers(n):\n",
    "    num = 0\n",
    "    for i in range(1, n+1):\n",
    "        num += i\n",
    "    return num"
   ]
  },
  {
   "cell_type": "code",
   "execution_count": 10,
   "id": "94fc1952",
   "metadata": {},
   "outputs": [
    {
     "data": {
      "text/plain": [
       "55"
      ]
     },
     "execution_count": 10,
     "metadata": {},
     "output_type": "execute_result"
    }
   ],
   "source": [
    "sum_of_natural_numbers(10)"
   ]
  },
  {
   "cell_type": "markdown",
   "id": "1c74fd86",
   "metadata": {},
   "source": [
    "#### `Lambda Function`\n",
    "- A lambda function is a small anonymous function that can take any number of arguments, but can only have one expression.\n",
    "- Syntax: `lambda arguments : expression`\n",
    "- Example: `sum = lambda x, y: x + y`"
   ]
  },
  {
   "cell_type": "code",
   "execution_count": null,
   "id": "12b17bb9",
   "metadata": {},
   "outputs": [
    {
     "name": "stdout",
     "output_type": "stream",
     "text": [
      "8\n"
     ]
    }
   ],
   "source": [
    "add = lambda x, y: x + y\n",
    "print(add(3, 5)) \n"
   ]
  },
  {
   "cell_type": "markdown",
   "id": "00a66066",
   "metadata": {},
   "source": [
    "`Map Function`: This function takes a map as input and returns a new map with the same keys but with values transformed according to the provided function.  "
   ]
  },
  {
   "cell_type": "code",
   "execution_count": 15,
   "id": "d970c9c4",
   "metadata": {},
   "outputs": [
    {
     "name": "stdout",
     "output_type": "stream",
     "text": [
      "<map object at 0x109b660e0>\n",
      "[1, 4, 9, 16, 25]\n"
     ]
    }
   ],
   "source": [
    "numbers = [1, 2, 3, 4, 5]\n",
    "# Square of numbers\n",
    "squared = map(lambda x: x ** 2, numbers)\n",
    "print(squared)\n",
    "print(list(squared))"
   ]
  },
  {
   "cell_type": "code",
   "execution_count": 14,
   "id": "a880023a",
   "metadata": {},
   "outputs": [
    {
     "name": "stdout",
     "output_type": "stream",
     "text": [
      "[153.93804002589985, 615.7521601035994, 1385.4423602330987, 2463.0086404143976, 2827.4333882308138]\n"
     ]
    }
   ],
   "source": [
    "# Area of circle\n",
    "import math\n",
    "# List of radii\n",
    "radii = [7, 14, 21, 28, 30]\n",
    "# Use map and lambda to compute area for each radius\n",
    "areas = map(lambda r: math.pi * r ** 2, radii)\n",
    "print(list(areas))"
   ]
  },
  {
   "cell_type": "markdown",
   "id": "12f12070",
   "metadata": {},
   "source": [
    "`Filter Function`: This function is used to filter the data based on the condition specified in the `filter` parameter."
   ]
  },
  {
   "cell_type": "code",
   "execution_count": 16,
   "id": "02b7d5fa",
   "metadata": {},
   "outputs": [
    {
     "name": "stdout",
     "output_type": "stream",
     "text": [
      "<filter object at 0x109b80610>\n",
      "[2, 4, 6, 8, 10]\n"
     ]
    }
   ],
   "source": [
    "numbers = [1, 2, 3, 4, 5, 6, 7, 8, 9, 10]\n",
    "# Use filter with lambda to keep only even numbers\n",
    "evens = filter(lambda x: x % 2 == 0, numbers)\n",
    "print(evens)\n",
    "print(list(evens))"
   ]
  },
  {
   "cell_type": "code",
   "execution_count": 25,
   "id": "e1355308",
   "metadata": {},
   "outputs": [],
   "source": [
    "import statistics as st \n",
    "data = [1,2,3,4,5,9,12,4,2,9]"
   ]
  },
  {
   "cell_type": "code",
   "execution_count": 26,
   "id": "d916f08b",
   "metadata": {},
   "outputs": [
    {
     "name": "stdout",
     "output_type": "stream",
     "text": [
      "5.1\n"
     ]
    }
   ],
   "source": [
    "avg = st.mean(data)\n",
    "print(avg)"
   ]
  },
  {
   "cell_type": "code",
   "execution_count": 28,
   "id": "e07e4192",
   "metadata": {},
   "outputs": [
    {
     "data": {
      "text/plain": [
       "[9, 12, 9]"
      ]
     },
     "execution_count": 28,
     "metadata": {},
     "output_type": "execute_result"
    }
   ],
   "source": [
    "list(filter(lambda x: x > avg, data ))"
   ]
  },
  {
   "cell_type": "code",
   "execution_count": 30,
   "id": "47aa8cc1",
   "metadata": {},
   "outputs": [
    {
     "data": {
      "text/plain": [
       "[1, 2, 3]"
      ]
     },
     "execution_count": 30,
     "metadata": {},
     "output_type": "execute_result"
    }
   ],
   "source": [
    "x = [0,0.00,1,2,3, \"\"]\n",
    "list(filter(None,x))"
   ]
  },
  {
   "cell_type": "markdown",
   "id": "e2f66fd8",
   "metadata": {},
   "source": [
    "`Reduce function`: The `reduce` function is used to apply a function of two arguments cumulatively to the elements of an array, from left to right, so as to reduce the array to a single output."
   ]
  },
  {
   "cell_type": "code",
   "execution_count": 17,
   "id": "ecdff281",
   "metadata": {},
   "outputs": [
    {
     "name": "stdout",
     "output_type": "stream",
     "text": [
      "120\n"
     ]
    }
   ],
   "source": [
    "from functools import reduce\n",
    "numbers = [1, 2, 3, 4, 5]\n",
    "# Use reduce with lambda to multiply all numbers\n",
    "product = reduce(lambda x, y: x * y, numbers)\n",
    "print(product)"
   ]
  }
 ],
 "metadata": {
  "kernelspec": {
   "display_name": ".venv",
   "language": "python",
   "name": "python3"
  },
  "language_info": {
   "codemirror_mode": {
    "name": "ipython",
    "version": 3
   },
   "file_extension": ".py",
   "mimetype": "text/x-python",
   "name": "python",
   "nbconvert_exporter": "python",
   "pygments_lexer": "ipython3",
   "version": "3.12.4"
  }
 },
 "nbformat": 4,
 "nbformat_minor": 5
}

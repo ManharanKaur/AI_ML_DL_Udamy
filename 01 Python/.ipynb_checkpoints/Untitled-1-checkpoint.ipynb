{
 "cells": [
  {
   "cell_type": "markdown",
   "id": "fc8a5864",
   "metadata": {},
   "source": [
    "# `Variables`\n",
    "Temporary storage values in a program are called variables. Variables are used to store data that can be used in a program."
   ]
  },
  {
   "cell_type": "code",
   "execution_count": 1,
   "id": "71a1a0c7",
   "metadata": {},
   "outputs": [
    {
     "name": "stdout",
     "output_type": "stream",
     "text": [
      "hello word\n"
     ]
    }
   ],
   "source": [
    "a = \"hello word\"\n",
    "print(a)"
   ]
  },
  {
   "cell_type": "code",
   "execution_count": 2,
   "id": "597ca0ed",
   "metadata": {},
   "outputs": [
    {
     "name": "stdout",
     "output_type": "stream",
     "text": [
      "20\n"
     ]
    }
   ],
   "source": [
    "age = 20\n",
    "print(age)"
   ]
  },
  {
   "cell_type": "markdown",
   "id": "12181311",
   "metadata": {},
   "source": [
    "# `Keywords`\n",
    "Special reserved words in the language that have a specific meaning. Keywords are used to define the structure of the program."
   ]
  },
  {
   "cell_type": "code",
   "execution_count": 3,
   "id": "6632686f",
   "metadata": {},
   "outputs": [
    {
     "ename": "TypeError",
     "evalue": "'int' object is not callable",
     "output_type": "error",
     "traceback": [
      "\u001b[31m---------------------------------------------------------------------------\u001b[39m",
      "\u001b[31mTypeError\u001b[39m                                 Traceback (most recent call last)",
      "\u001b[36mCell\u001b[39m\u001b[36m \u001b[39m\u001b[32mIn[3]\u001b[39m\u001b[32m, line 2\u001b[39m\n\u001b[32m      1\u001b[39m \u001b[38;5;28mprint\u001b[39m = \u001b[32m10\u001b[39m\n\u001b[32m----> \u001b[39m\u001b[32m2\u001b[39m \u001b[38;5;28;43mprint\u001b[39;49m\u001b[43m(\u001b[49m\u001b[38;5;28;43mprint\u001b[39;49m\u001b[43m)\u001b[49m\n",
      "\u001b[31mTypeError\u001b[39m: 'int' object is not callable"
     ]
    }
   ],
   "source": [
    "print = 10\n",
    "print(print)"
   ]
  },
  {
   "cell_type": "markdown",
   "id": "4d86f866",
   "metadata": {},
   "source": [
    "# `Data Types`\n",
    "There are several data types in Python, including: \n",
    "#### **`Numeric`** (Integers, Floats, Complex)\n",
    "*   **`Integers`**: Whole numbers, either positive, negative, or zero. For example: 1, -5, 0.\n",
    "*   **`Floats`**: Decimal numbers. For example: 3.14, -0.\n",
    "*   **`Complex`**: Numbers with a real and imaginary part. For example: 3+4j. \n",
    "#### **`Sequence`** (Strings, Lists, Tuples)\n",
    "*   **`Strings`**: Sequences of characters. For example: \"hello\", 'hello', or 'hello world'.\n",
    "*   **`List`**: An ordered collection of items that can be of any data type, including strings , integers, floats, and other lists. For example: [1, 2, 3], [\"a\", \"b\", \"c \"], or [1, 2, 3, \"a\", \"b\", \"c\"]\n",
    "*   **`Tuple`**: An ordered, immutable collection of items that can be of any data type, including strings, integers, floats, and other tuples. For example: (1, 2, 3), (\"a\", \"b\", \"c\"), or (1, 2, 3, \"a\", \"b\", \"c\")\n",
    "####   **`Boolean`**: \n",
    "A logical value that can be either True or False.\n",
    "####   **`Dictionary`**: \n",
    "An unordered collection of key-value pairs. For example: {\"name\": \" John\", \"age\": 30}, {\"city\": \"New York\", \"country\": \"USA \"}, or {\"1\": \"one\", \"2\": \"two\", \"3\": \"three\"}\n",
    "####   **`Set`**: \n",
    "An unordered collection of unique items. For example: {1, 2, 3}, {\"a\", \"b\", \"c\"}, or {1, 2, 3, \"a\", \"b\", \"c\"}\n",
    "####   **`NoneType`**: \n",
    "A special data type that represents the absence of a value. For example : None "
   ]
  },
  {
   "cell_type": "code",
   "execution_count": null,
   "id": "b58671a9",
   "metadata": {},
   "outputs": [
    {
     "data": {
      "text/plain": [
       "int"
      ]
     },
     "execution_count": 8,
     "metadata": {},
     "output_type": "execute_result"
    }
   ],
   "source": [
    "age = 20\n",
    "type(age)"
   ]
  },
  {
   "cell_type": "code",
   "execution_count": null,
   "id": "7fd9419b",
   "metadata": {},
   "outputs": [
    {
     "data": {
      "text/plain": [
       "str"
      ]
     },
     "execution_count": 9,
     "metadata": {},
     "output_type": "execute_result"
    }
   ],
   "source": [
    "name = 'Manharan Kaur'\n",
    "type(name)"
   ]
  },
  {
   "cell_type": "code",
   "execution_count": null,
   "id": "63687f6c",
   "metadata": {},
   "outputs": [
    {
     "data": {
      "text/plain": [
       "float"
      ]
     },
     "execution_count": 10,
     "metadata": {},
     "output_type": "execute_result"
    }
   ],
   "source": [
    "score = 89.5\n",
    "type(score)"
   ]
  },
  {
   "cell_type": "code",
   "execution_count": null,
   "id": "0d16d711",
   "metadata": {},
   "outputs": [
    {
     "data": {
      "text/plain": [
       "str"
      ]
     },
     "execution_count": 11,
     "metadata": {},
     "output_type": "execute_result"
    }
   ],
   "source": [
    "x = \"10.5\"\n",
    "type(x)"
   ]
  },
  {
   "cell_type": "code",
   "execution_count": null,
   "id": "ec41b6c8",
   "metadata": {},
   "outputs": [
    {
     "data": {
      "text/plain": [
       "str"
      ]
     },
     "execution_count": 12,
     "metadata": {},
     "output_type": "execute_result"
    }
   ],
   "source": [
    "a = 'True'\n",
    "type(a)"
   ]
  },
  {
   "cell_type": "code",
   "execution_count": null,
   "id": "0ae8e428",
   "metadata": {},
   "outputs": [
    {
     "data": {
      "text/plain": [
       "bool"
      ]
     },
     "execution_count": 13,
     "metadata": {},
     "output_type": "execute_result"
    }
   ],
   "source": [
    "a = True\n",
    "type(a)"
   ]
  },
  {
   "cell_type": "code",
   "execution_count": null,
   "id": "c0353bdf",
   "metadata": {},
   "outputs": [
    {
     "ename": "SyntaxError",
     "evalue": "invalid decimal literal (895025757.py, line 1)",
     "output_type": "error",
     "traceback": [
      "  \u001b[36mCell\u001b[39m\u001b[36m \u001b[39m\u001b[32mIn[18]\u001b[39m\u001b[32m, line 1\u001b[39m\n\u001b[31m    \u001b[39m\u001b[31m5a = 7\u001b[39m\n    ^\n\u001b[31mSyntaxError\u001b[39m\u001b[31m:\u001b[39m invalid decimal literal\n"
     ]
    }
   ],
   "source": [
    "5a = 7 \n",
    "# Error can't start variables names from a number"
   ]
  },
  {
   "cell_type": "code",
   "execution_count": null,
   "id": "9e914c68",
   "metadata": {},
   "outputs": [],
   "source": [
    "a = 4\n",
    "b = 5\n",
    "c = a + b\n",
    "print(c)  "
   ]
  },
  {
   "cell_type": "markdown",
   "id": "bc9d532c",
   "metadata": {},
   "source": [
    "# `Functions`\n",
    "Functions are a way to group a set of related statements together to perform a specific task. They can take arguments, return values, and be reused throughout your code."
   ]
  },
  {
   "cell_type": "code",
   "execution_count": null,
   "id": "a5b60039",
   "metadata": {},
   "outputs": [],
   "source": [
    "def sum(a,b):\n",
    "    return a+b"
   ]
  },
  {
   "cell_type": "code",
   "execution_count": null,
   "id": "00be5bc3",
   "metadata": {},
   "outputs": [
    {
     "name": "stdout",
     "output_type": "stream",
     "text": [
      "11\n"
     ]
    }
   ],
   "source": [
    "print(sum(5,6))"
   ]
  },
  {
   "cell_type": "markdown",
   "id": "43afd4d7",
   "metadata": {},
   "source": [
    "# `Operators` & `Operands`\n",
    "- **`Operators`**: These are the symbols used to perform operations on operands. Examples include `+`, `-`, `*`, `/`, etc. \n",
    "- **`Operands`**: These are the values on which the operators are applied. Examples include `2 `, `5`, `10`, etc. \n",
    "- **`Expression`**: A combination of operators and operands that results in a value. Examples include `2 + 5`, `10 * 2`, etc.\n",
    "- **`Order of Precedenc`**: The order in which operators are applied when there are multiple operators in an expression. For example, in the expression `2 + 3 * 4`, the multiplication is performed first, then the addition .\n",
    "- **`Associativity`**: The order in which operators are applied when there are multiple operators of the same precedence in an expression. For example, in the expression `2 + 3 + 4`, the addition is performed from left to right.\n",
    "- **`BODMAS`**: A mnemonic used to remember the order of precedence of operators. It stands for `Brackets`, `Orders`, `Division`, `Multiplication`, `Addition`, and `Subtraction`. \n",
    "- ** `PEMD` **: A mnemonic used to remember the order of precedence of operators. It stands for `Parentheses`, `Exponents`, `Multiplication` and `Division`, and `Addition` and `Subtraction`. "
   ]
  },
  {
   "cell_type": "code",
   "execution_count": 4,
   "id": "166b70a1",
   "metadata": {},
   "outputs": [
    {
     "ename": "KeyboardInterrupt",
     "evalue": "Interrupted by user",
     "output_type": "error",
     "traceback": [
      "\u001b[31m---------------------------------------------------------------------------\u001b[39m",
      "\u001b[31mKeyboardInterrupt\u001b[39m                         Traceback (most recent call last)",
      "\u001b[36mCell\u001b[39m\u001b[36m \u001b[39m\u001b[32mIn[4]\u001b[39m\u001b[32m, line 1\u001b[39m\n\u001b[32m----> \u001b[39m\u001b[32m1\u001b[39m name = \u001b[38;5;28;43minput\u001b[39;49m\u001b[43m(\u001b[49m\u001b[33;43m\"\u001b[39;49m\u001b[33;43mEnter name:\u001b[39;49m\u001b[33;43m\"\u001b[39;49m\u001b[43m)\u001b[49m\n\u001b[32m      2\u001b[39m \u001b[38;5;28mprint\u001b[39m(name)\n\u001b[32m      3\u001b[39m \u001b[38;5;28mprint\u001b[39m(\u001b[38;5;28mtype\u001b[39m(name))\n",
      "\u001b[36mFile \u001b[39m\u001b[32m~/Desktop/Coding/Repository_AI_ML_DL/.venv/lib/python3.12/site-packages/ipykernel/kernelbase.py:1282\u001b[39m, in \u001b[36mKernel.raw_input\u001b[39m\u001b[34m(self, prompt)\u001b[39m\n\u001b[32m   1280\u001b[39m     msg = \u001b[33m\"\u001b[39m\u001b[33mraw_input was called, but this frontend does not support input requests.\u001b[39m\u001b[33m\"\u001b[39m\n\u001b[32m   1281\u001b[39m     \u001b[38;5;28;01mraise\u001b[39;00m StdinNotImplementedError(msg)\n\u001b[32m-> \u001b[39m\u001b[32m1282\u001b[39m \u001b[38;5;28;01mreturn\u001b[39;00m \u001b[38;5;28;43mself\u001b[39;49m\u001b[43m.\u001b[49m\u001b[43m_input_request\u001b[49m\u001b[43m(\u001b[49m\n\u001b[32m   1283\u001b[39m \u001b[43m    \u001b[49m\u001b[38;5;28;43mstr\u001b[39;49m\u001b[43m(\u001b[49m\u001b[43mprompt\u001b[49m\u001b[43m)\u001b[49m\u001b[43m,\u001b[49m\n\u001b[32m   1284\u001b[39m \u001b[43m    \u001b[49m\u001b[38;5;28;43mself\u001b[39;49m\u001b[43m.\u001b[49m\u001b[43m_parent_ident\u001b[49m\u001b[43m[\u001b[49m\u001b[33;43m\"\u001b[39;49m\u001b[33;43mshell\u001b[39;49m\u001b[33;43m\"\u001b[39;49m\u001b[43m]\u001b[49m\u001b[43m,\u001b[49m\n\u001b[32m   1285\u001b[39m \u001b[43m    \u001b[49m\u001b[38;5;28;43mself\u001b[39;49m\u001b[43m.\u001b[49m\u001b[43mget_parent\u001b[49m\u001b[43m(\u001b[49m\u001b[33;43m\"\u001b[39;49m\u001b[33;43mshell\u001b[39;49m\u001b[33;43m\"\u001b[39;49m\u001b[43m)\u001b[49m\u001b[43m,\u001b[49m\n\u001b[32m   1286\u001b[39m \u001b[43m    \u001b[49m\u001b[43mpassword\u001b[49m\u001b[43m=\u001b[49m\u001b[38;5;28;43;01mFalse\u001b[39;49;00m\u001b[43m,\u001b[49m\n\u001b[32m   1287\u001b[39m \u001b[43m\u001b[49m\u001b[43m)\u001b[49m\n",
      "\u001b[36mFile \u001b[39m\u001b[32m~/Desktop/Coding/Repository_AI_ML_DL/.venv/lib/python3.12/site-packages/ipykernel/kernelbase.py:1325\u001b[39m, in \u001b[36mKernel._input_request\u001b[39m\u001b[34m(self, prompt, ident, parent, password)\u001b[39m\n\u001b[32m   1322\u001b[39m \u001b[38;5;28;01mexcept\u001b[39;00m \u001b[38;5;167;01mKeyboardInterrupt\u001b[39;00m:\n\u001b[32m   1323\u001b[39m     \u001b[38;5;66;03m# re-raise KeyboardInterrupt, to truncate traceback\u001b[39;00m\n\u001b[32m   1324\u001b[39m     msg = \u001b[33m\"\u001b[39m\u001b[33mInterrupted by user\u001b[39m\u001b[33m\"\u001b[39m\n\u001b[32m-> \u001b[39m\u001b[32m1325\u001b[39m     \u001b[38;5;28;01mraise\u001b[39;00m \u001b[38;5;167;01mKeyboardInterrupt\u001b[39;00m(msg) \u001b[38;5;28;01mfrom\u001b[39;00m\u001b[38;5;250m \u001b[39m\u001b[38;5;28;01mNone\u001b[39;00m\n\u001b[32m   1326\u001b[39m \u001b[38;5;28;01mexcept\u001b[39;00m \u001b[38;5;167;01mException\u001b[39;00m:\n\u001b[32m   1327\u001b[39m     \u001b[38;5;28mself\u001b[39m.log.warning(\u001b[33m\"\u001b[39m\u001b[33mInvalid Message:\u001b[39m\u001b[33m\"\u001b[39m, exc_info=\u001b[38;5;28;01mTrue\u001b[39;00m)\n",
      "\u001b[31mKeyboardInterrupt\u001b[39m: Interrupted by user"
     ]
    }
   ],
   "source": [
    "name = input(\"Enter name:\")\n",
    "print(name)\n",
    "print(type(name))"
   ]
  },
  {
   "cell_type": "markdown",
   "id": "849c7878",
   "metadata": {},
   "source": [
    "# `Typecasting`\n",
    "It is the process of converting a variable from one data type to another. For example, converting an integer to a string or a float to an integer."
   ]
  },
  {
   "cell_type": "code",
   "execution_count": null,
   "id": "f4b230f7",
   "metadata": {},
   "outputs": [
    {
     "ename": "TypeError",
     "evalue": "'int' object is not callable",
     "output_type": "error",
     "traceback": [
      "\u001b[31m---------------------------------------------------------------------------\u001b[39m",
      "\u001b[31mTypeError\u001b[39m                                 Traceback (most recent call last)",
      "\u001b[36mCell\u001b[39m\u001b[36m \u001b[39m\u001b[32mIn[20]\u001b[39m\u001b[32m, line 3\u001b[39m\n\u001b[32m      1\u001b[39m a = \u001b[32m2.556\u001b[39m\n\u001b[32m      2\u001b[39m b = \u001b[38;5;28mint\u001b[39m(a)\n\u001b[32m----> \u001b[39m\u001b[32m3\u001b[39m \u001b[38;5;28;43mprint\u001b[39;49m\u001b[43m(\u001b[49m\u001b[38;5;28;43mtype\u001b[39;49m\u001b[43m(\u001b[49m\u001b[43mb\u001b[49m\u001b[43m)\u001b[49m\u001b[43m)\u001b[49m\n",
      "\u001b[31mTypeError\u001b[39m: 'int' object is not callable"
     ]
    }
   ],
   "source": [
    "a = 2.556\n",
    "b = int(a)\n",
    "print(type(b))"
   ]
  }
 ],
 "metadata": {
  "kernelspec": {
   "display_name": ".venv",
   "language": "python",
   "name": "python3"
  },
  "language_info": {
   "codemirror_mode": {
    "name": "ipython",
    "version": 3
   },
   "file_extension": ".py",
   "mimetype": "text/x-python",
   "name": "python",
   "nbconvert_exporter": "python",
   "pygments_lexer": "ipython3",
   "version": "3.12.4"
  }
 },
 "nbformat": 4,
 "nbformat_minor": 5
}

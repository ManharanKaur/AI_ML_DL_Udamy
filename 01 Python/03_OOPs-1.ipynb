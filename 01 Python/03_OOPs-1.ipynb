{
 "cells": [
  {
   "cell_type": "markdown",
   "id": "4c3dba03",
   "metadata": {},
   "source": [
    "# `OOPS`\n",
    "In Python, `OOPS` stands for Object-Oriented Programming System. It is a programming paradigm that revolves around the concept of objects and classes. In OOPS, everything is treated as an object, and the properties and behaviors of these objects are defined by classes. It aims to implement real-world entities like inheritance, polymorphism, encapsulation, etc. in programming. the main concept of OOPS is to bind data and methods together as a single unit and that unit so that no other part of the program can access it except the methods defined in that unit.\n",
    "\n",
    "### `Main Concepts of OOPS`\n",
    "1. `Class`: A blueprint or a template that defines the properties and behavior of an object.\n",
    "2. `Object`: An instance of a class that has its own set of attributes (data) and methods (functions).\n",
    "3. `Polymorphism`: The ability of an object to take on multiple forms, depending on the context in which it is used. \n",
    "4. `Encapsulation`: The practice of hiding the implementation details of an object from the outside world and only exposing the necessary information through public methods. \n",
    "5. `Inheritance`: A mechanism that allows one class to inherit the properties and behavior of another class.\n",
    "6. `Abstraction`: The ability to show the essential details of an object while hiding the non-essential details.\n",
    "7. `Overriding` : When a subclass provides a different implementation of a method that is already defined in its superclass. "
   ]
  },
  {
   "cell_type": "markdown",
   "id": "30330a62",
   "metadata": {},
   "source": [
    "#### `Creating a class`\n",
    "- length and breadth are attributes\n",
    "- `__init__` is a special method that gets called when an object is created \n",
    "- `self` is a reference to the current instance of the class and is used to access variables and methods from the class  \n"
   ]
  },
  {
   "cell_type": "code",
   "execution_count": 1,
   "id": "89e8dc0c",
   "metadata": {},
   "outputs": [],
   "source": [
    "class Rectangle:\n",
    "    def __init__(self): # constructor\n",
    "        self.length = 10 # instance variables\n",
    "        self.breadth = 5"
   ]
  },
  {
   "cell_type": "markdown",
   "id": "92d2a712",
   "metadata": {},
   "source": [
    "`Constructor` is a special method in Python classes that is automatically called when an object of the class is created. It is used to initialize the attributes of the class."
   ]
  },
  {
   "cell_type": "code",
   "execution_count": 2,
   "id": "ebe16788",
   "metadata": {},
   "outputs": [
    {
     "data": {
      "text/plain": [
       "5"
      ]
     },
     "execution_count": 2,
     "metadata": {},
     "output_type": "execute_result"
    }
   ],
   "source": [
    "rect = Rectangle()\n",
    "rect.breadth"
   ]
  },
  {
   "cell_type": "code",
   "execution_count": 3,
   "id": "2769c27c",
   "metadata": {},
   "outputs": [
    {
     "data": {
      "text/plain": [
       "10"
      ]
     },
     "execution_count": 3,
     "metadata": {},
     "output_type": "execute_result"
    }
   ],
   "source": [
    "rect.length"
   ]
  },
  {
   "cell_type": "code",
   "execution_count": 5,
   "id": "80d9ff51",
   "metadata": {},
   "outputs": [
    {
     "name": "stdout",
     "output_type": "stream",
     "text": [
      "Length =  10 \n",
      "Width =  5\n"
     ]
    }
   ],
   "source": [
    "print(\"Length = \",rect.length, \"\\nWidth = \", rect.breadth)"
   ]
  },
  {
   "cell_type": "markdown",
   "id": "14110681",
   "metadata": {},
   "source": [
    "`Parametarised Constructor`: Dynamically assign the attribute values during object creation. "
   ]
  },
  {
   "cell_type": "code",
   "execution_count": 6,
   "id": "510f59a8",
   "metadata": {},
   "outputs": [],
   "source": [
    "class Rectangle:\n",
    "    def __init__(self, length, breadth):\n",
    "        self.length = length\n",
    "        self.breadth = breadth"
   ]
  },
  {
   "cell_type": "code",
   "execution_count": 7,
   "id": "fbdff3cd",
   "metadata": {},
   "outputs": [
    {
     "data": {
      "text/plain": [
       "20"
      ]
     },
     "execution_count": 7,
     "metadata": {},
     "output_type": "execute_result"
    }
   ],
   "source": [
    "rect = Rectangle(40,20)\n",
    "rect.breadth"
   ]
  },
  {
   "cell_type": "markdown",
   "id": "e44746cc",
   "metadata": {},
   "source": [
    "`Class Variable` and `Instance variable`\n",
    "- `Class Variable` is a variable that is shared by all instances of a class. It is defined inside the class definition and outside any method definition. It is also known as a static variable.\n",
    "- `Instance variable` is a variable that is unique to each instance of a class. It is defined inside a method definition. It is also known as a data member."
   ]
  },
  {
   "cell_type": "code",
   "execution_count": 8,
   "id": "96e4fb61",
   "metadata": {},
   "outputs": [],
   "source": [
    "class Circle:\n",
    "    pi = 3.14\n",
    "    def __init__(self, radius):\n",
    "        self.radius = radius"
   ]
  },
  {
   "cell_type": "markdown",
   "id": "49a2dbdd",
   "metadata": {},
   "source": [
    "- class: keyword\n",
    "- Circle: class name\n",
    "- pi: class variable or constant value\n",
    "- radius: instance variable"
   ]
  },
  {
   "cell_type": "code",
   "execution_count": 10,
   "id": "1295459e",
   "metadata": {},
   "outputs": [
    {
     "name": "stdout",
     "output_type": "stream",
     "text": [
      "Radius c1 = 7\t pi = 3.14\n",
      "Radius c2 = 10\t pi = 3.14\n"
     ]
    }
   ],
   "source": [
    "c1 = Circle(7)\n",
    "c2 = Circle(10)\n",
    "print(f\"Radius c1 = {c1.radius}\\t pi = {c1.pi}\")\n",
    "print(f\"Radius c2 = {c2.radius}\\t pi = {c2.pi}\")"
   ]
  },
  {
   "cell_type": "markdown",
   "id": "000334c6",
   "metadata": {},
   "source": [
    "**pi** value did not change"
   ]
  },
  {
   "cell_type": "code",
   "execution_count": 13,
   "id": "220084b6",
   "metadata": {},
   "outputs": [],
   "source": [
    "import math\n",
    "Circle.pi = math.pi #changing value"
   ]
  },
  {
   "cell_type": "code",
   "execution_count": 14,
   "id": "ccfc7d69",
   "metadata": {},
   "outputs": [
    {
     "data": {
      "text/plain": [
       "3.141592653589793"
      ]
     },
     "execution_count": 14,
     "metadata": {},
     "output_type": "execute_result"
    }
   ],
   "source": [
    "Circle.pi"
   ]
  },
  {
   "cell_type": "markdown",
   "id": "326213b1",
   "metadata": {},
   "source": [
    "### `Adding a method to a class`\n",
    "- area() - calculates the area of a rectangle\n",
    "- self - identifies its association with the instance"
   ]
  },
  {
   "cell_type": "code",
   "execution_count": 15,
   "id": "fdf8f37b",
   "metadata": {},
   "outputs": [],
   "source": [
    "class Rectangle:\n",
    "    def __init__(self, length, breadth):\n",
    "        self.length = length\n",
    "        self.breadth = breadth\n",
    "\n",
    "    def area(self):\n",
    "        return self.length * self.breadth\n"
   ]
  },
  {
   "cell_type": "code",
   "execution_count": 16,
   "id": "2e790949",
   "metadata": {},
   "outputs": [
    {
     "data": {
      "text/plain": [
       "20"
      ]
     },
     "execution_count": 16,
     "metadata": {},
     "output_type": "execute_result"
    }
   ],
   "source": [
    "rect = Rectangle(4,5)\n",
    "rect.area()"
   ]
  },
  {
   "cell_type": "markdown",
   "id": "ea456097",
   "metadata": {},
   "source": [
    "#### <mark>**Significance of self**</mark> :\n",
    "- `self`make sure that each instance refers to its own copy of the variable.\n",
    "- It avoids ambiguity between local variables and instance variables."
   ]
  },
  {
   "cell_type": "code",
   "execution_count": 17,
   "id": "22ba9e1d",
   "metadata": {},
   "outputs": [],
   "source": [
    "# we can use other name instead of 'self' but it is conventional to use 'self'\n",
    "class Me:\n",
    "    def __init__(me, name):\n",
    "        me.name = name\n",
    "# is also valid"
   ]
  },
  {
   "cell_type": "markdown",
   "id": "027c2179",
   "metadata": {},
   "source": [
    "## `Access Modifiers`\n",
    "Python doesn't have strict access modifiers like some other languages, but it follows naming conventions to define access control:\n",
    "\n",
    "1. Public\n",
    "Accessible from anywhere (inside or outside the class).\n",
    "Default behavior — no underscore.\n",
    "\n",
    "2. Private\n",
    "Cannot be accessed directly outside the class.\n",
    "Use double underscore __ before the variable name."
   ]
  },
  {
   "cell_type": "code",
   "execution_count": 23,
   "id": "2158b148",
   "metadata": {},
   "outputs": [],
   "source": [
    "class Car:\n",
    "    def __init__(self):\n",
    "        self.brand = \"Toyota\"  # public variable"
   ]
  },
  {
   "cell_type": "code",
   "execution_count": null,
   "id": "934e0e32",
   "metadata": {},
   "outputs": [
    {
     "name": "stdout",
     "output_type": "stream",
     "text": [
      "Toyota\n"
     ]
    }
   ],
   "source": [
    "car = Car()\n",
    "print(car.brand)  # Accessable"
   ]
  },
  {
   "cell_type": "code",
   "execution_count": 25,
   "id": "f7440542",
   "metadata": {},
   "outputs": [],
   "source": [
    "class Car:\n",
    "    def __init__(self):\n",
    "        self.__engine = \"V8\"  # private variable\n",
    "\n",
    "    def get_engine(self):     # public method to access private\n",
    "        return self.__engine"
   ]
  },
  {
   "cell_type": "code",
   "execution_count": 26,
   "id": "1ef58c9a",
   "metadata": {},
   "outputs": [
    {
     "name": "stdout",
     "output_type": "stream",
     "text": [
      "V8\n"
     ]
    }
   ],
   "source": [
    "car = Car()\n",
    "print(car.get_engine())  # Accessible through method"
   ]
  },
  {
   "cell_type": "code",
   "execution_count": 27,
   "id": "42cb0062",
   "metadata": {},
   "outputs": [
    {
     "ename": "AttributeError",
     "evalue": "'Car' object has no attribute '__engine'",
     "output_type": "error",
     "traceback": [
      "\u001b[31m---------------------------------------------------------------------------\u001b[39m",
      "\u001b[31mAttributeError\u001b[39m                            Traceback (most recent call last)",
      "\u001b[36mCell\u001b[39m\u001b[36m \u001b[39m\u001b[32mIn[27]\u001b[39m\u001b[32m, line 1\u001b[39m\n\u001b[32m----> \u001b[39m\u001b[32m1\u001b[39m \u001b[38;5;28mprint\u001b[39m(\u001b[43mcar\u001b[49m\u001b[43m.\u001b[49m\u001b[43m__engine\u001b[49m)    \u001b[38;5;66;03m# Error: not directly accessible\u001b[39;00m\n",
      "\u001b[31mAttributeError\u001b[39m: 'Car' object has no attribute '__engine'"
     ]
    }
   ],
   "source": [
    "print(car.__engine)    # Error: not directly accessible"
   ]
  },
  {
   "cell_type": "markdown",
   "id": "0a7404a1",
   "metadata": {},
   "source": [
    "#### `Name Mangling in Python`\n",
    "Even though Python allows access to private variables using name mangling , it's generally not recommended to use this feature. "
   ]
  },
  {
   "cell_type": "code",
   "execution_count": null,
   "id": "f057da27",
   "metadata": {},
   "outputs": [
    {
     "name": "stdout",
     "output_type": "stream",
     "text": [
      "V8\n"
     ]
    }
   ],
   "source": [
    "print(car._Car__engine) # not recommended"
   ]
  },
  {
   "cell_type": "markdown",
   "id": "95841e44",
   "metadata": {},
   "source": [
    "# `Inheritance`\n",
    "*   Inheritance is a mechanism that allows one class to inherit the properties and behavior of another class.\n",
    "*   The class that is being inherited from is called the parent or `superclass`, and the class that is doing the inheriting is called the child or `subclass`.\n",
    "*   It also helps in code reusability."
   ]
  },
  {
   "cell_type": "code",
   "execution_count": 18,
   "id": "53175183",
   "metadata": {},
   "outputs": [],
   "source": [
    "# Parent class\n",
    "class Calculator:\n",
    "    def __init__(self, a, b):\n",
    "        self.a = a\n",
    "        self.b = b\n",
    "\n",
    "    def add(self):\n",
    "        return self.a + self.b\n",
    "\n",
    "    def subtract(self):\n",
    "        return self.a - self.b\n"
   ]
  },
  {
   "cell_type": "code",
   "execution_count": 19,
   "id": "3cecd395",
   "metadata": {},
   "outputs": [],
   "source": [
    "# Child class that inherits from Calculator\n",
    "class AdvancedCalculator(Calculator):\n",
    "    def multiply(self):\n",
    "        return self.a * self.b\n",
    "\n",
    "    def divide(self):\n",
    "        if self.b != 0:\n",
    "            return self.a / self.b\n",
    "        else:\n",
    "            return \"Cannot divide by zero\""
   ]
  },
  {
   "cell_type": "code",
   "execution_count": 20,
   "id": "77730ce0",
   "metadata": {},
   "outputs": [
    {
     "name": "stdout",
     "output_type": "stream",
     "text": [
      "Addition: 15\n",
      "Subtraction: 5\n"
     ]
    }
   ],
   "source": [
    "basic = Calculator(10, 5)\n",
    "print(\"Addition:\", basic.add())     \n",
    "print(\"Subtraction:\", basic.subtract()) "
   ]
  },
  {
   "cell_type": "code",
   "execution_count": 22,
   "id": "5a49d095",
   "metadata": {},
   "outputs": [
    {
     "name": "stdout",
     "output_type": "stream",
     "text": [
      "Addition: 15\n",
      "Subtraction: 5\n",
      "Multiplication: 50\n",
      "Division: 2.0\n"
     ]
    }
   ],
   "source": [
    "advanced = AdvancedCalculator(10, 5)\n",
    "print(\"Addition:\", advanced.add())     \n",
    "print(\"Subtraction:\", advanced.subtract()) \n",
    "print(\"Multiplication:\", advanced.multiply())  \n",
    "print(\"Division:\", advanced.divide()) "
   ]
  },
  {
   "cell_type": "markdown",
   "id": "1943db9f",
   "metadata": {},
   "source": [
    "# `Overriding`"
   ]
  },
  {
   "cell_type": "code",
   "execution_count": 35,
   "id": "4c165f0f",
   "metadata": {},
   "outputs": [],
   "source": [
    "# Base class: Calculator for real numbers\n",
    "class Calculator:\n",
    "    def __init__(self, a, b):\n",
    "        self.a = a\n",
    "        self.b = b\n",
    "\n",
    "    def add(self):\n",
    "        return self.a + self.b\n",
    "\n",
    "    def multiply(self):\n",
    "        return self.a * self.b"
   ]
  },
  {
   "cell_type": "code",
   "execution_count": 38,
   "id": "dce152bc",
   "metadata": {},
   "outputs": [],
   "source": [
    "# Derived class: Calculator for complex numbers\n",
    "class ComplexCalculator(Calculator):\n",
    "    def __init__(self, a, b):\n",
    "        # a and b are complex numbers\n",
    "        super().__init__(a, b)\n",
    "\n",
    "    # Overriding add method\n",
    "    def add(self):\n",
    "        result = super().add()\n",
    "        return f\"Complex Sum: {result.real} + {result.imag}i\"\n",
    "\n",
    "    # Overriding multiply method\n",
    "    def multiply(self):\n",
    "        result = super().multiply()\n",
    "        return f\"Complex Product: {result.real} + {result.imag}i\"\n"
   ]
  },
  {
   "cell_type": "markdown",
   "id": "63a17fc9",
   "metadata": {},
   "source": [
    "`super()` : In Python, the `super()` function is used to give access to methods and properties of a parent or sibling class . It returns a proxy object that allows you to call methods of its parent class."
   ]
  },
  {
   "cell_type": "code",
   "execution_count": 36,
   "id": "d7a3a23f",
   "metadata": {},
   "outputs": [
    {
     "name": "stdout",
     "output_type": "stream",
     "text": [
      "Real Add: 15\n",
      "Real Multiply: 50\n"
     ]
    }
   ],
   "source": [
    "# Using the classes\n",
    "real_calc = Calculator(10, 5)\n",
    "print(\"Real Add:\", real_calc.add())          \n",
    "print(\"Real Multiply:\", real_calc.multiply())"
   ]
  },
  {
   "cell_type": "code",
   "execution_count": 39,
   "id": "27f2dfb8",
   "metadata": {},
   "outputs": [
    {
     "name": "stdout",
     "output_type": "stream",
     "text": [
      "Complex Sum: 4.0 + 9.0i\n",
      "Complex Product: -11.0 + 23.0i\n"
     ]
    }
   ],
   "source": [
    "complex_calc = ComplexCalculator(3+2j, 1+7j)\n",
    "print(complex_calc.add())       \n",
    "print(complex_calc.multiply())   "
   ]
  },
  {
   "cell_type": "markdown",
   "id": "ff8c40ac",
   "metadata": {},
   "source": [
    "# `Polymorphism`\n",
    "*  The ability of an object to take on multiple forms, depending on the context in which it is used. "
   ]
  },
  {
   "cell_type": "code",
   "execution_count": 29,
   "id": "748dfeca",
   "metadata": {},
   "outputs": [],
   "source": [
    "class Animal:\n",
    "    def speak(self):\n",
    "        print(\"Animal makes a sound\")\n"
   ]
  },
  {
   "cell_type": "code",
   "execution_count": 30,
   "id": "596b10b3",
   "metadata": {},
   "outputs": [],
   "source": [
    "class Dog(Animal):\n",
    "    def speak(self):\n",
    "        print(\"Dog barks\")"
   ]
  },
  {
   "cell_type": "code",
   "execution_count": 31,
   "id": "a9ea160e",
   "metadata": {},
   "outputs": [],
   "source": [
    "class Cat(Animal):\n",
    "    def speak(self):\n",
    "        print(\"Cat meows\")"
   ]
  },
  {
   "cell_type": "code",
   "execution_count": 32,
   "id": "7add9549",
   "metadata": {},
   "outputs": [],
   "source": [
    "# Using polymorphism\n",
    "def animal_sound(animal):\n",
    "    animal.speak()"
   ]
  },
  {
   "cell_type": "code",
   "execution_count": 33,
   "id": "9ea7128c",
   "metadata": {},
   "outputs": [],
   "source": [
    "# Creating objects\n",
    "a = Animal()\n",
    "d = Dog()\n",
    "c = Cat()"
   ]
  },
  {
   "cell_type": "code",
   "execution_count": 34,
   "id": "eb93e18b",
   "metadata": {},
   "outputs": [
    {
     "name": "stdout",
     "output_type": "stream",
     "text": [
      "Animal makes a sound\n",
      "Dog barks\n",
      "Cat meows\n"
     ]
    }
   ],
   "source": [
    "# Calling the same method on different objects\n",
    "animal_sound(a)  \n",
    "animal_sound(d)  \n",
    "animal_sound(c)  "
   ]
  }
 ],
 "metadata": {
  "kernelspec": {
   "display_name": ".venv",
   "language": "python",
   "name": "python3"
  },
  "language_info": {
   "codemirror_mode": {
    "name": "ipython",
    "version": 3
   },
   "file_extension": ".py",
   "mimetype": "text/x-python",
   "name": "python",
   "nbconvert_exporter": "python",
   "pygments_lexer": "ipython3",
   "version": "3.12.4"
  }
 },
 "nbformat": 4,
 "nbformat_minor": 5
}

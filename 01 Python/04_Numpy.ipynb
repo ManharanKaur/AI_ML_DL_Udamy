{
 "cells": [
  {
   "cell_type": "markdown",
   "id": "f9e18829",
   "metadata": {},
   "source": [
    "# `Numpy`:\n",
    "Library used for computations and processing of multi-dimensional arrays and matrices."
   ]
  },
  {
   "cell_type": "code",
   "execution_count": 4,
   "id": "da70379f",
   "metadata": {},
   "outputs": [],
   "source": [
    "import numpy as np"
   ]
  },
  {
   "cell_type": "markdown",
   "id": "d8b1b0ca",
   "metadata": {},
   "source": [
    "Creating an array"
   ]
  },
  {
   "cell_type": "code",
   "execution_count": null,
   "id": "cf085b8c",
   "metadata": {},
   "outputs": [],
   "source": [
    "a = np.array([1,2,3])"
   ]
  },
  {
   "cell_type": "code",
   "execution_count": 6,
   "id": "cbe7d8e9",
   "metadata": {},
   "outputs": [
    {
     "data": {
      "text/plain": [
       "numpy.ndarray"
      ]
     },
     "execution_count": 6,
     "metadata": {},
     "output_type": "execute_result"
    }
   ],
   "source": [
    "type(a)"
   ]
  },
  {
   "cell_type": "code",
   "execution_count": 7,
   "id": "b6c645ed",
   "metadata": {},
   "outputs": [
    {
     "data": {
      "text/plain": [
       "array([1., 2., 3.])"
      ]
     },
     "execution_count": 7,
     "metadata": {},
     "output_type": "execute_result"
    }
   ],
   "source": [
    "a = np.array([1,2,3],dtype=float)\n",
    "a"
   ]
  },
  {
   "cell_type": "code",
   "execution_count": 8,
   "id": "d709aea6",
   "metadata": {},
   "outputs": [
    {
     "data": {
      "text/plain": [
       "array(['1', '2', '3'], dtype='<U1')"
      ]
     },
     "execution_count": 8,
     "metadata": {},
     "output_type": "execute_result"
    }
   ],
   "source": [
    "a = np.array([1,2,3], dtype=str)\n",
    "a"
   ]
  },
  {
   "cell_type": "code",
   "execution_count": 9,
   "id": "8af79f01",
   "metadata": {},
   "outputs": [
    {
     "data": {
      "text/plain": [
       "array([[1, 2, 3],\n",
       "       [4, 5, 6]])"
      ]
     },
     "execution_count": 9,
     "metadata": {},
     "output_type": "execute_result"
    }
   ],
   "source": [
    "a = np.array([[1,2,3],[4,5,6]])\n",
    "a"
   ]
  },
  {
   "cell_type": "code",
   "execution_count": 10,
   "id": "6321d074",
   "metadata": {},
   "outputs": [
    {
     "data": {
      "text/plain": [
       "2"
      ]
     },
     "execution_count": 10,
     "metadata": {},
     "output_type": "execute_result"
    }
   ],
   "source": [
    "len(a)"
   ]
  },
  {
   "cell_type": "code",
   "execution_count": null,
   "id": "ec6bc715",
   "metadata": {},
   "outputs": [
    {
     "data": {
      "text/plain": [
       "2"
      ]
     },
     "execution_count": 11,
     "metadata": {},
     "output_type": "execute_result"
    }
   ],
   "source": [
    "a.ndim # it is 2D array"
   ]
  },
  {
   "cell_type": "code",
   "execution_count": 13,
   "id": "e06dd984",
   "metadata": {},
   "outputs": [
    {
     "name": "stdout",
     "output_type": "stream",
     "text": [
      "[[[1 2]\n",
      "  [3 4]]\n",
      "\n",
      " [[5 6]\n",
      "  [7 8]]]\n",
      "3\n"
     ]
    }
   ],
   "source": [
    "b = np.array([[[1,2],[3,4]],[[5,6],[7,8]]])\n",
    "print(b)\n",
    "print(b.ndim)"
   ]
  },
  {
   "cell_type": "markdown",
   "id": "1a074a10",
   "metadata": {},
   "source": [
    "### `Why use NUMPY?`\n",
    "- **Speed**: NumPy is much faster than Python lists for numerical computations. This is because NumPy uses C under the hood, which is a compiled language that is much faster than Python. It is said to be 15-60 times faster than Python lists.\n",
    "- **Memory Efficiency**: NumPy arrays are more memory efficient than Python lists. This is because NumPy arrays store only the necessary information to represent the array, whereas Python lists store a lot of extra information like the length of the list, the type of each element, etc.\n",
    "- **Vectorized Operations**: NumPy arrays support vectorized operations, which means that you can perform operations on the entire array at once, rather than having to loop over each element individually. This makes it much easier to perform complex operations on large datasets. "
   ]
  },
  {
   "cell_type": "code",
   "execution_count": 15,
   "id": "4ed5ee9c",
   "metadata": {},
   "outputs": [
    {
     "data": {
      "text/plain": [
       "(2, 2, 2)"
      ]
     },
     "execution_count": 15,
     "metadata": {},
     "output_type": "execute_result"
    }
   ],
   "source": [
    "b.shape"
   ]
  },
  {
   "cell_type": "code",
   "execution_count": 16,
   "id": "8145e9b1",
   "metadata": {},
   "outputs": [
    {
     "data": {
      "text/plain": [
       "dtype('int64')"
      ]
     },
     "execution_count": 16,
     "metadata": {},
     "output_type": "execute_result"
    }
   ],
   "source": [
    "a.dtype"
   ]
  },
  {
   "cell_type": "markdown",
   "id": "df310478",
   "metadata": {},
   "source": [
    "**`Accessing/ Changing specific elements, rwos, cols:`**<br> it is same as accessing/ changing elements in a list. We can access/ change specific elements in a matrix by their row and column index. For example, to access the element at the 2nd row and 3rd column, we use matrix[1][2]. To change the element at the 2nd row and 3rd column, we use matrix[1][2] = 10."
   ]
  },
  {
   "cell_type": "markdown",
   "id": "1c2573f4",
   "metadata": {},
   "source": [
    "### `Zeros/Ones methods`:\n",
    "- `zeros()`: Returns a tensor filled with zeros.\n",
    "- `ones()`: Returns a tensor filled with ones."
   ]
  },
  {
   "cell_type": "code",
   "execution_count": 17,
   "id": "fe544b8d",
   "metadata": {},
   "outputs": [
    {
     "data": {
      "text/plain": [
       "array([[0., 0., 0.],\n",
       "       [0., 0., 0.],\n",
       "       [0., 0., 0.]])"
      ]
     },
     "execution_count": 17,
     "metadata": {},
     "output_type": "execute_result"
    }
   ],
   "source": [
    "np.zeros((3,3))"
   ]
  },
  {
   "cell_type": "code",
   "execution_count": 18,
   "id": "23196836",
   "metadata": {},
   "outputs": [
    {
     "data": {
      "text/plain": [
       "array([[1., 1., 1.],\n",
       "       [1., 1., 1.],\n",
       "       [1., 1., 1.]])"
      ]
     },
     "execution_count": 18,
     "metadata": {},
     "output_type": "execute_result"
    }
   ],
   "source": [
    "np.ones((3,3))"
   ]
  },
  {
   "cell_type": "code",
   "execution_count": 19,
   "id": "9cbd5af1",
   "metadata": {},
   "outputs": [
    {
     "data": {
      "text/plain": [
       "array([[1, 1, 1],\n",
       "       [1, 1, 1],\n",
       "       [1, 1, 1]])"
      ]
     },
     "execution_count": 19,
     "metadata": {},
     "output_type": "execute_result"
    }
   ],
   "source": [
    "np.ones((3,3), dtype=int)"
   ]
  },
  {
   "cell_type": "code",
   "execution_count": 20,
   "id": "cb7f0695",
   "metadata": {},
   "outputs": [
    {
     "data": {
      "text/plain": [
       "array([['1', '1', '1'],\n",
       "       ['1', '1', '1'],\n",
       "       ['1', '1', '1']], dtype='<U1')"
      ]
     },
     "execution_count": 20,
     "metadata": {},
     "output_type": "execute_result"
    }
   ],
   "source": [
    "np.ones((3,3), dtype=str)"
   ]
  },
  {
   "cell_type": "code",
   "execution_count": 21,
   "id": "528072df",
   "metadata": {},
   "outputs": [
    {
     "data": {
      "text/plain": [
       "array([['', '', ''],\n",
       "       ['', '', ''],\n",
       "       ['', '', '']], dtype='<U1')"
      ]
     },
     "execution_count": 21,
     "metadata": {},
     "output_type": "execute_result"
    }
   ],
   "source": [
    "np.zeros((3,3), dtype=str)"
   ]
  },
  {
   "cell_type": "code",
   "execution_count": 23,
   "id": "7c51b286",
   "metadata": {},
   "outputs": [
    {
     "data": {
      "text/plain": [
       "array([['Honey', 'Honey', 'Honey'],\n",
       "       ['Honey', 'Honey', 'Honey'],\n",
       "       ['Honey', 'Honey', 'Honey']], dtype='<U5')"
      ]
     },
     "execution_count": 23,
     "metadata": {},
     "output_type": "execute_result"
    }
   ],
   "source": [
    "np.full((3,3), \"Honey\")"
   ]
  },
  {
   "cell_type": "code",
   "execution_count": 29,
   "id": "c46d2834",
   "metadata": {},
   "outputs": [
    {
     "data": {
      "text/plain": [
       "array([[0.84519289, 0.15909014, 0.89472833],\n",
       "       [0.99503812, 0.2653519 , 0.75340018],\n",
       "       [0.67807391, 0.94679917, 0.77030172]])"
      ]
     },
     "execution_count": 29,
     "metadata": {},
     "output_type": "execute_result"
    }
   ],
   "source": [
    "np.random.rand(3,3)"
   ]
  },
  {
   "cell_type": "code",
   "execution_count": 48,
   "id": "64a77520",
   "metadata": {},
   "outputs": [
    {
     "data": {
      "text/plain": [
       "array([[741, 665,  96, 710, 906],\n",
       "       [167,   1, 510, 728, 828],\n",
       "       [245, 497, 435, 254, 431],\n",
       "       [107, 936, 864, 854, 911],\n",
       "       [937,  14, 577,  35, 162]])"
      ]
     },
     "execution_count": 48,
     "metadata": {},
     "output_type": "execute_result"
    }
   ],
   "source": [
    "np.random.randint(1,1001, size=(5,5))"
   ]
  },
  {
   "cell_type": "code",
   "execution_count": 49,
   "id": "6526fb06",
   "metadata": {},
   "outputs": [
    {
     "data": {
      "text/plain": [
       "array([[1., 0., 0., 0., 0.],\n",
       "       [0., 1., 0., 0., 0.],\n",
       "       [0., 0., 1., 0., 0.],\n",
       "       [0., 0., 0., 1., 0.],\n",
       "       [0., 0., 0., 0., 1.]])"
      ]
     },
     "execution_count": 49,
     "metadata": {},
     "output_type": "execute_result"
    }
   ],
   "source": [
    "np.identity(5)"
   ]
  },
  {
   "cell_type": "markdown",
   "id": "48b2b4cc",
   "metadata": {},
   "source": [
    "Extract all the first 3 rows of the last 5 columns in a given numpy 2D array ‘a’?"
   ]
  },
  {
   "cell_type": "code",
   "execution_count": 50,
   "id": "b76bc7f8",
   "metadata": {},
   "outputs": [],
   "source": [
    "a= np.array([[51,52,53,54,55,56],\n",
    "             [10,20,30,40,50,60],\n",
    "             [12,12,12,12,12,12],\n",
    "             [11,21,31,41,51,61],\n",
    "             [13,24,34,44,54,64]])"
   ]
  },
  {
   "cell_type": "code",
   "execution_count": 51,
   "id": "a114c53b",
   "metadata": {},
   "outputs": [
    {
     "data": {
      "text/plain": [
       "array([[52, 53, 54, 55, 56],\n",
       "       [20, 30, 40, 50, 60],\n",
       "       [12, 12, 12, 12, 12]])"
      ]
     },
     "execution_count": 51,
     "metadata": {},
     "output_type": "execute_result"
    }
   ],
   "source": [
    "a[:3,-5:]"
   ]
  },
  {
   "cell_type": "markdown",
   "id": "2e945052",
   "metadata": {},
   "source": [
    "Given a positive number 'n' greater than 2, create a NumPy array of size (nxn) with all zeros and ones such that the ones make a shape of \"+\""
   ]
  },
  {
   "cell_type": "code",
   "execution_count": 53,
   "id": "ffb17eee",
   "metadata": {},
   "outputs": [],
   "source": [
    "n = 5\n",
    "z = np.zeros((n,n),dtype=int)"
   ]
  },
  {
   "cell_type": "code",
   "execution_count": 55,
   "id": "2dff7b1b",
   "metadata": {},
   "outputs": [],
   "source": [
    "x = n // 2"
   ]
  },
  {
   "cell_type": "code",
   "execution_count": 57,
   "id": "70ed5692",
   "metadata": {},
   "outputs": [
    {
     "name": "stdout",
     "output_type": "stream",
     "text": [
      "[[0 0 1 0 0]\n",
      " [0 0 1 0 0]\n",
      " [1 1 1 1 1]\n",
      " [0 0 1 0 0]\n",
      " [0 0 1 0 0]]\n"
     ]
    }
   ],
   "source": [
    "# Make the middle row and column all 1s\n",
    "\n",
    "z[x,:] = 1\n",
    "z[:,x] = 1\n",
    "\n",
    "# Print the final value of z\n",
    "print(z)"
   ]
  },
  {
   "cell_type": "markdown",
   "id": "d7b3486b",
   "metadata": {},
   "source": [
    "### `Arithmatic Operations with NumPy`\n",
    "The operatioons are performed on each element of the array. We don't need to use a loop to perform the operations."
   ]
  },
  {
   "cell_type": "code",
   "execution_count": 58,
   "id": "7c3d00c5",
   "metadata": {},
   "outputs": [
    {
     "data": {
      "text/plain": [
       "array([1, 2, 3, 4])"
      ]
     },
     "execution_count": 58,
     "metadata": {},
     "output_type": "execute_result"
    }
   ],
   "source": [
    "a = np.array([1,2,3,4])\n",
    "a"
   ]
  },
  {
   "cell_type": "code",
   "execution_count": 59,
   "id": "2fe2c64c",
   "metadata": {},
   "outputs": [
    {
     "data": {
      "text/plain": [
       "array([5, 6, 7, 8])"
      ]
     },
     "execution_count": 59,
     "metadata": {},
     "output_type": "execute_result"
    }
   ],
   "source": [
    "a + 4"
   ]
  },
  {
   "cell_type": "code",
   "execution_count": 60,
   "id": "95d8b7e2",
   "metadata": {},
   "outputs": [
    {
     "data": {
      "text/plain": [
       "array([ 1,  8, 27, 64])"
      ]
     },
     "execution_count": 60,
     "metadata": {},
     "output_type": "execute_result"
    }
   ],
   "source": [
    "a ** 3"
   ]
  },
  {
   "cell_type": "code",
   "execution_count": 61,
   "id": "90223820",
   "metadata": {},
   "outputs": [],
   "source": [
    "a = np.array([1,2,3,4])\n",
    "b = np.array([5,6,7,8])"
   ]
  },
  {
   "cell_type": "code",
   "execution_count": 62,
   "id": "79a488e2",
   "metadata": {},
   "outputs": [
    {
     "data": {
      "text/plain": [
       "array([ 6,  8, 10, 12])"
      ]
     },
     "execution_count": 62,
     "metadata": {},
     "output_type": "execute_result"
    }
   ],
   "source": [
    "a + b"
   ]
  },
  {
   "cell_type": "code",
   "execution_count": 63,
   "id": "252afd06",
   "metadata": {},
   "outputs": [],
   "source": [
    "a = np.array([1,2,3,4])\n",
    "b = np.array([5,6])"
   ]
  },
  {
   "cell_type": "code",
   "execution_count": null,
   "id": "028d046c",
   "metadata": {},
   "outputs": [
    {
     "ename": "ValueError",
     "evalue": "operands could not be broadcast together with shapes (4,) (2,) ",
     "output_type": "error",
     "traceback": [
      "\u001b[31m---------------------------------------------------------------------------\u001b[39m",
      "\u001b[31mValueError\u001b[39m                                Traceback (most recent call last)",
      "\u001b[36mCell\u001b[39m\u001b[36m \u001b[39m\u001b[32mIn[64]\u001b[39m\u001b[32m, line 1\u001b[39m\n\u001b[32m----> \u001b[39m\u001b[32m1\u001b[39m \u001b[43ma\u001b[49m\u001b[43m \u001b[49m\u001b[43m+\u001b[49m\u001b[43m \u001b[49m\u001b[43mb\u001b[49m\n",
      "\u001b[31mValueError\u001b[39m: operands could not be broadcast together with shapes (4,) (2,) "
     ]
    }
   ],
   "source": [
    "a + b # their Shape should be same"
   ]
  },
  {
   "cell_type": "code",
   "execution_count": 67,
   "id": "2beababc",
   "metadata": {},
   "outputs": [
    {
     "name": "stdout",
     "output_type": "stream",
     "text": [
      "1\n"
     ]
    }
   ],
   "source": [
    "print(a.min())"
   ]
  },
  {
   "cell_type": "code",
   "execution_count": 68,
   "id": "7c424905",
   "metadata": {},
   "outputs": [
    {
     "name": "stdout",
     "output_type": "stream",
     "text": [
      "1\n"
     ]
    }
   ],
   "source": [
    "print(np.min(a))"
   ]
  },
  {
   "cell_type": "code",
   "execution_count": 70,
   "id": "2def3c1b",
   "metadata": {},
   "outputs": [
    {
     "name": "stdout",
     "output_type": "stream",
     "text": [
      "4\n"
     ]
    }
   ],
   "source": [
    "print(a.max())"
   ]
  },
  {
   "cell_type": "code",
   "execution_count": 73,
   "id": "96a89a7e",
   "metadata": {},
   "outputs": [
    {
     "name": "stdout",
     "output_type": "stream",
     "text": [
      "2.5\n"
     ]
    }
   ],
   "source": [
    "print(a.mean())"
   ]
  },
  {
   "cell_type": "code",
   "execution_count": 74,
   "id": "7b959ee0",
   "metadata": {},
   "outputs": [
    {
     "name": "stdout",
     "output_type": "stream",
     "text": [
      "10\n"
     ]
    }
   ],
   "source": [
    "print(np.sum(a))"
   ]
  },
  {
   "cell_type": "markdown",
   "id": "5565ee2c",
   "metadata": {},
   "source": [
    "axis in NumPy:<br>\n",
    "axis 0 = rows<br>\n",
    "axis 1 = columns<br>"
   ]
  },
  {
   "cell_type": "code",
   "execution_count": 78,
   "id": "d62bce19",
   "metadata": {},
   "outputs": [
    {
     "data": {
      "text/plain": [
       "array([[1, 2, 3, 4],\n",
       "       [5, 6, 7, 8]])"
      ]
     },
     "execution_count": 78,
     "metadata": {},
     "output_type": "execute_result"
    }
   ],
   "source": [
    "a = np.array([[1,2,3,4],[5,6,7,8]])\n",
    "a"
   ]
  },
  {
   "cell_type": "code",
   "execution_count": 80,
   "id": "4ad23cd7",
   "metadata": {},
   "outputs": [
    {
     "name": "stdout",
     "output_type": "stream",
     "text": [
      "[1 2 3 4]\n"
     ]
    }
   ],
   "source": [
    "print(np.min(a, axis = 0))"
   ]
  },
  {
   "cell_type": "code",
   "execution_count": 81,
   "id": "5428fbd6",
   "metadata": {},
   "outputs": [
    {
     "name": "stdout",
     "output_type": "stream",
     "text": [
      "[1 5]\n"
     ]
    }
   ],
   "source": [
    "print(np.min(a, axis = 1))"
   ]
  },
  {
   "cell_type": "code",
   "execution_count": null,
   "id": "c29561ba",
   "metadata": {},
   "outputs": [
    {
     "name": "stdout",
     "output_type": "stream",
     "text": [
      "[10 26]\n"
     ]
    }
   ],
   "source": [
    "print(np.sum(a, axis = 1))"
   ]
  },
  {
   "cell_type": "code",
   "execution_count": 84,
   "id": "2cbf2733",
   "metadata": {},
   "outputs": [
    {
     "name": "stdout",
     "output_type": "stream",
     "text": [
      "[ 6  8 10 12]\n"
     ]
    }
   ],
   "source": [
    "print(np.sum(a, axis = 0))"
   ]
  }
 ],
 "metadata": {
  "kernelspec": {
   "display_name": ".venv",
   "language": "python",
   "name": "python3"
  },
  "language_info": {
   "codemirror_mode": {
    "name": "ipython",
    "version": 3
   },
   "file_extension": ".py",
   "mimetype": "text/x-python",
   "name": "python",
   "nbconvert_exporter": "python",
   "pygments_lexer": "ipython3",
   "version": "3.12.4"
  }
 },
 "nbformat": 4,
 "nbformat_minor": 5
}

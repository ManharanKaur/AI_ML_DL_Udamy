{
 "cells": [
  {
   "cell_type": "markdown",
   "id": "decfd67f",
   "metadata": {},
   "source": [
    "# `Lists`\n",
    "- Ordered sequence of mixed data types \n",
    "- Lists are `mutable`, meaning they can be modified after creation.\n",
    "- Values in list are called `elements` or `items`.\n",
    "- List is denoted by square brackets `[]. Eg : [1, 2, \"3\", 4.8, 5]`\n",
    "- `Nested Lists`: Lists can be nested inside another list. Eg : [[1, 2], [3, 4], [5, 6]]\n",
    "- `Indexing`: List elements can be accessed using their index. Index starts from 0.\n",
    "- **>40** methods are available for list in python.\n",
    "- List objects cannot be compared uses as keys in a dictionary because keys must be immutable.\n"
   ]
  },
  {
   "cell_type": "code",
   "execution_count": null,
   "id": "38021a52",
   "metadata": {},
   "outputs": [
    {
     "data": {
      "text/plain": [
       "list"
      ]
     },
     "execution_count": 1,
     "metadata": {},
     "output_type": "execute_result"
    }
   ],
   "source": [
    "my_info = ['Khushi', 20] # name, age\n",
    "type(my_info)"
   ]
  },
  {
   "cell_type": "code",
   "execution_count": 3,
   "id": "f2e56848",
   "metadata": {},
   "outputs": [
    {
     "name": "stdout",
     "output_type": "stream",
     "text": [
      "3\n",
      "<class 'list'>\n"
     ]
    }
   ],
   "source": [
    "list1 = [\"Apple\", 3, \"orange\"]\n",
    "print(len(list1))\n",
    "print(type(list1))"
   ]
  },
  {
   "cell_type": "code",
   "execution_count": null,
   "id": "221664bf",
   "metadata": {},
   "outputs": [
    {
     "name": "stdout",
     "output_type": "stream",
     "text": [
      "4\n",
      "<class 'list'>\n"
     ]
    }
   ],
   "source": [
    "list2 = [1,2,3,[4,5,6]] # list with nested list\n",
    "print(len(list2)) \n",
    "print(type(list2))"
   ]
  },
  {
   "cell_type": "code",
   "execution_count": 7,
   "id": "21b59255",
   "metadata": {},
   "outputs": [
    {
     "data": {
      "text/plain": [
       "[4, 5, 6]"
      ]
     },
     "execution_count": 7,
     "metadata": {},
     "output_type": "execute_result"
    }
   ],
   "source": [
    "list2[3]"
   ]
  },
  {
   "cell_type": "code",
   "execution_count": 8,
   "id": "00429f92",
   "metadata": {},
   "outputs": [
    {
     "data": {
      "text/plain": [
       "5"
      ]
     },
     "execution_count": 8,
     "metadata": {},
     "output_type": "execute_result"
    }
   ],
   "source": [
    "list2[3][1]"
   ]
  },
  {
   "cell_type": "markdown",
   "id": "38146dbe",
   "metadata": {},
   "source": [
    "#### Slicing"
   ]
  },
  {
   "cell_type": "code",
   "execution_count": null,
   "id": "3916e483",
   "metadata": {},
   "outputs": [
    {
     "data": {
      "text/plain": [
       "6"
      ]
     },
     "execution_count": 12,
     "metadata": {},
     "output_type": "execute_result"
    }
   ],
   "source": [
    "list2[-1][-1]"
   ]
  },
  {
   "cell_type": "markdown",
   "id": "ff4530e6",
   "metadata": {},
   "source": [
    "#### List Concatination:  Merging 2 lists"
   ]
  },
  {
   "cell_type": "code",
   "execution_count": null,
   "id": "45af5ece",
   "metadata": {},
   "outputs": [
    {
     "name": "stdout",
     "output_type": "stream",
     "text": [
      "['Apple', 3, 'orange', 1, 2, 3, [4, 5, 6]]\n"
     ]
    }
   ],
   "source": [
    "list3 = list1 + list2\n",
    "print(list3)"
   ]
  },
  {
   "cell_type": "code",
   "execution_count": 15,
   "id": "ab0d6b1d",
   "metadata": {},
   "outputs": [
    {
     "name": "stdout",
     "output_type": "stream",
     "text": [
      "False\n",
      "False\n"
     ]
    }
   ],
   "source": [
    "print(8 in list3)\n",
    "print(4 in list3)"
   ]
  },
  {
   "cell_type": "markdown",
   "id": "c2876f1a",
   "metadata": {},
   "source": [
    "#### Mutability"
   ]
  },
  {
   "cell_type": "code",
   "execution_count": 30,
   "id": "4097b2d7",
   "metadata": {},
   "outputs": [
    {
     "name": "stdout",
     "output_type": "stream",
     "text": [
      "['Physics', 'Chemestry', 'Biology']\n",
      "['Physics', 'Chemestry', 'Maths']\n"
     ]
    }
   ],
   "source": [
    "list1 = [\"Physics\", 'Chemestry', 'Biology']\n",
    "print(list1)\n",
    "list1[2] = 'Maths'\n",
    "print(list1)"
   ]
  },
  {
   "cell_type": "markdown",
   "id": "b54006e4",
   "metadata": {},
   "source": [
    "`.extend()` function:<br>\n",
    "eg `list1.extend(list2)`: This adds all elements of list2 to the end of list1."
   ]
  },
  {
   "cell_type": "code",
   "execution_count": 31,
   "id": "086da491",
   "metadata": {},
   "outputs": [
    {
     "name": "stdout",
     "output_type": "stream",
     "text": [
      "['Physics', 'Chemestry', 'Maths', 'Biology', 'English']\n"
     ]
    }
   ],
   "source": [
    "list1.extend(['Biology','English'])\n",
    "print(list1)"
   ]
  },
  {
   "cell_type": "markdown",
   "id": "1f6a56ba",
   "metadata": {},
   "source": [
    "`.append()` function:<br>\n",
    "Add a single item to end of list"
   ]
  },
  {
   "cell_type": "code",
   "execution_count": 32,
   "id": "5d35cf3e",
   "metadata": {},
   "outputs": [
    {
     "name": "stdout",
     "output_type": "stream",
     "text": [
      "['Physics', 'Chemestry', 'Maths', 'Biology', 'English', [4, 5]]\n"
     ]
    }
   ],
   "source": [
    "list1.append([4,5])\n",
    "print(list1)"
   ]
  },
  {
   "cell_type": "markdown",
   "id": "71ee8ec6",
   "metadata": {},
   "source": [
    "Deleting elements fron list "
   ]
  },
  {
   "cell_type": "code",
   "execution_count": 33,
   "id": "7054a140",
   "metadata": {},
   "outputs": [
    {
     "name": "stdout",
     "output_type": "stream",
     "text": [
      "['Physics', 'Chemestry', 'Maths', 'Biology', 'English']\n"
     ]
    }
   ],
   "source": [
    "del list1[-1]\n",
    "print(list1)"
   ]
  },
  {
   "cell_type": "code",
   "execution_count": null,
   "id": "6c8ba1c8",
   "metadata": {},
   "outputs": [
    {
     "name": "stdout",
     "output_type": "stream",
     "text": [
      "['Physics', 'Chemestry', 'Maths', 'Biology']\n"
     ]
    }
   ],
   "source": [
    "list1.pop(4) # remove the 3rd element from the list\n",
    "#  by default, pop() removes the last element from the list\n",
    "print(list1) "
   ]
  },
  {
   "cell_type": "code",
   "execution_count": 35,
   "id": "6baac09c",
   "metadata": {},
   "outputs": [
    {
     "name": "stdout",
     "output_type": "stream",
     "text": [
      "['Physics', 'Chemestry', 'Maths']\n"
     ]
    }
   ],
   "source": [
    "list1.remove('Biology')\n",
    "print(list1)"
   ]
  },
  {
   "cell_type": "markdown",
   "id": "b586bcb7",
   "metadata": {},
   "source": [
    "Sort method"
   ]
  },
  {
   "cell_type": "code",
   "execution_count": null,
   "id": "d96f4588",
   "metadata": {},
   "outputs": [
    {
     "name": "stdout",
     "output_type": "stream",
     "text": [
      "[1, 2, 2, 4, 6, 9]\n"
     ]
    }
   ],
   "source": [
    "list2 = [2,4,6,2,9,1]\n",
    "list2.sort() # sort the list in ascending order\n",
    "print(list2)"
   ]
  },
  {
   "cell_type": "code",
   "execution_count": 37,
   "id": "79ea567f",
   "metadata": {},
   "outputs": [
    {
     "name": "stdout",
     "output_type": "stream",
     "text": [
      "[9, 6, 4, 2, 2, 1]\n"
     ]
    }
   ],
   "source": [
    "list2.sort(reverse=True) # sort the list in decending order\n",
    "print(list2)"
   ]
  },
  {
   "cell_type": "markdown",
   "id": "4560ac1e",
   "metadata": {},
   "source": [
    "Sorted method"
   ]
  },
  {
   "cell_type": "code",
   "execution_count": null,
   "id": "2e58ad0a",
   "metadata": {},
   "outputs": [
    {
     "name": "stdout",
     "output_type": "stream",
     "text": [
      "None\n",
      "[1, 2, 2, 4, 6, 9]\n"
     ]
    }
   ],
   "source": [
    "list2 = [2,4,6,2,9,1]\n",
    "print(list2.sort()) # sorts the list in-place, does not return any value or create another object\n",
    "print(sorted(list2)) # returns a new sorted list, does not modify the original list"
   ]
  },
  {
   "cell_type": "code",
   "execution_count": null,
   "id": "0c84ed26",
   "metadata": {},
   "outputs": [
    {
     "name": "stdout",
     "output_type": "stream",
     "text": [
      "[5, 4, 3, 2, 1]\n"
     ]
    }
   ],
   "source": [
    "list2 =[5,4,3,2,1]\n",
    "sorted(list2)\n",
    "print(list2) "
   ]
  },
  {
   "cell_type": "markdown",
   "id": "6601f83e",
   "metadata": {},
   "source": [
    "`Shallo copy`: A shallow copy creates a new object, but it does not copy nested objects inside it. Instead, it copies references to them.(similar to giving a new name to an existing object)"
   ]
  },
  {
   "cell_type": "code",
   "execution_count": null,
   "id": "62416b07",
   "metadata": {},
   "outputs": [
    {
     "name": "stdout",
     "output_type": "stream",
     "text": [
      "4494495808\n",
      "4494495808\n"
     ]
    }
   ],
   "source": [
    "A = [1,2,3,4,5]\n",
    "B = A\n",
    "#  refer to same object\n",
    "print(id(A))\n",
    "print(id(B))"
   ]
  },
  {
   "cell_type": "code",
   "execution_count": 42,
   "id": "46df7aa1",
   "metadata": {},
   "outputs": [
    {
     "name": "stdout",
     "output_type": "stream",
     "text": [
      "[1, 2, 3, 4]\n",
      "[1, 2, 3, 4]\n"
     ]
    }
   ],
   "source": [
    "A.pop()\n",
    "print(A)\n",
    "print(B)"
   ]
  },
  {
   "cell_type": "markdown",
   "id": "e4fd7c18",
   "metadata": {},
   "source": [
    "`Deep Copy`: A deep copy creates a new object, and recursively copies all nested (inner) objects as well."
   ]
  },
  {
   "cell_type": "code",
   "execution_count": 43,
   "id": "1fd13a99",
   "metadata": {},
   "outputs": [
    {
     "name": "stdout",
     "output_type": "stream",
     "text": [
      "4494535616\n",
      "4419549504\n"
     ]
    }
   ],
   "source": [
    "A = [1,2,3,4,5]\n",
    "B = A[0:]\n",
    "print(id(A))\n",
    "print(id(B))"
   ]
  },
  {
   "cell_type": "code",
   "execution_count": 44,
   "id": "4075048c",
   "metadata": {},
   "outputs": [
    {
     "name": "stdout",
     "output_type": "stream",
     "text": [
      "[1, 2, 3, 4]\n",
      "[1, 2, 3, 4, 5]\n"
     ]
    }
   ],
   "source": [
    "A.pop()\n",
    "print(A)\n",
    "print(B)"
   ]
  },
  {
   "cell_type": "markdown",
   "id": "312d912f",
   "metadata": {},
   "source": [
    "String to List"
   ]
  },
  {
   "cell_type": "code",
   "execution_count": 46,
   "id": "7d8809da",
   "metadata": {},
   "outputs": [
    {
     "name": "stdout",
     "output_type": "stream",
     "text": [
      "['Khushi', 'Kumari', 'Gupta', 'Singh', 'Raizada']\n"
     ]
    }
   ],
   "source": [
    "string = \"Khushi_Kumari_Gupta_Singh_Raizada\"\n",
    "list1 = string.split('_')\n",
    "print(list1)"
   ]
  },
  {
   "cell_type": "markdown",
   "id": "74db54d3",
   "metadata": {},
   "source": [
    "# `Tuples`\n",
    "- A tuple is a collection of values that can be of any data type, including strings, integers, floats, and other tuples.\n",
    "- Tuples are defined by enclosing values in parentheses `()`. Eg : `(1, 2, 3)`\n",
    "- Tuples are `immutable`, meaning their contents cannot be modified after creation.\n",
    "- Tuples are often used when you need to store a collection of values that shouldn't be changed.\n",
    "- When need to return multiple values from a function. \n",
    "- When need to store a collection of values that are related to each other.\n",
    "- 30 - 35 methods are available for tuples.\n",
    "- Can be used as dictionary keys.\n"
   ]
  },
  {
   "cell_type": "code",
   "execution_count": 12,
   "id": "4e715d64",
   "metadata": {},
   "outputs": [
    {
     "data": {
      "text/plain": [
       "tuple"
      ]
     },
     "execution_count": 12,
     "metadata": {},
     "output_type": "execute_result"
    }
   ],
   "source": [
    "my_info = ('Khushi', 20) # name, age\n",
    "type(my_info)"
   ]
  },
  {
   "cell_type": "code",
   "execution_count": 13,
   "id": "b35fdde8",
   "metadata": {},
   "outputs": [
    {
     "name": "stdout",
     "output_type": "stream",
     "text": [
      "4\n"
     ]
    }
   ],
   "source": [
    "t = (1,2,3,4)\n",
    "print(len(t))"
   ]
  },
  {
   "cell_type": "code",
   "execution_count": 14,
   "id": "d9e27108",
   "metadata": {},
   "outputs": [
    {
     "name": "stdout",
     "output_type": "stream",
     "text": [
      "<class 'list'>\n"
     ]
    }
   ],
   "source": [
    "t = (1,2,\"hiii\", [4,5,6])\n",
    "print(type(t[3]))"
   ]
  },
  {
   "cell_type": "markdown",
   "id": "4e5cd932",
   "metadata": {},
   "source": [
    "Tuples can be depined in various ways"
   ]
  },
  {
   "cell_type": "code",
   "execution_count": null,
   "id": "466afffd",
   "metadata": {},
   "outputs": [
    {
     "name": "stdout",
     "output_type": "stream",
     "text": [
      "(1, 2, 3, 4, 5)\n",
      "<class 'tuple'>\n"
     ]
    }
   ],
   "source": [
    "t1 = 1,2,3,4,5\n",
    "print(t1)\n",
    "print(type(t1))"
   ]
  },
  {
   "cell_type": "code",
   "execution_count": null,
   "id": "9a6a74ee",
   "metadata": {},
   "outputs": [
    {
     "name": "stdout",
     "output_type": "stream",
     "text": [
      "<class 'int'>\n"
     ]
    }
   ],
   "source": [
    "x = (1)\n",
    "print(type(x))"
   ]
  },
  {
   "cell_type": "code",
   "execution_count": null,
   "id": "d00769e9",
   "metadata": {},
   "outputs": [
    {
     "name": "stdout",
     "output_type": "stream",
     "text": [
      "<class 'tuple'>\n"
     ]
    }
   ],
   "source": [
    "x = (1,) \n",
    "print(type(x))"
   ]
  },
  {
   "cell_type": "code",
   "execution_count": 24,
   "id": "6cdaa126",
   "metadata": {},
   "outputs": [
    {
     "name": "stdout",
     "output_type": "stream",
     "text": [
      "<class 'tuple'>\n"
     ]
    }
   ],
   "source": [
    "x = 1,\n",
    "print(type(x))"
   ]
  },
  {
   "cell_type": "code",
   "execution_count": 25,
   "id": "6fbb177a",
   "metadata": {},
   "outputs": [
    {
     "name": "stdout",
     "output_type": "stream",
     "text": [
      "<class 'tuple'>\n"
     ]
    }
   ],
   "source": [
    "x = 1,2,\n",
    "print(type(x))"
   ]
  },
  {
   "cell_type": "markdown",
   "id": "f1b2aaca",
   "metadata": {},
   "source": [
    "Indexing in tuple is similar to lists"
   ]
  },
  {
   "cell_type": "markdown",
   "id": "568268cd",
   "metadata": {},
   "source": [
    "Concatination"
   ]
  },
  {
   "cell_type": "code",
   "execution_count": null,
   "id": "237c4da1",
   "metadata": {},
   "outputs": [
    {
     "name": "stdout",
     "output_type": "stream",
     "text": [
      "(1, 2, 3, 4, 5, 6)\n"
     ]
    }
   ],
   "source": [
    "t1 = (1,2,3)\n",
    "t2 = (4,5,6)\n",
    "t3 = t1 + t2\n",
    "print(t3)"
   ]
  },
  {
   "cell_type": "markdown",
   "id": "487be4fd",
   "metadata": {},
   "source": [
    "Min, Max, Sum"
   ]
  },
  {
   "cell_type": "code",
   "execution_count": 16,
   "id": "054eb062",
   "metadata": {},
   "outputs": [
    {
     "data": {
      "text/plain": [
       "21"
      ]
     },
     "execution_count": 16,
     "metadata": {},
     "output_type": "execute_result"
    }
   ],
   "source": [
    "sum(t3)"
   ]
  },
  {
   "cell_type": "code",
   "execution_count": 17,
   "id": "a19db3a8",
   "metadata": {},
   "outputs": [
    {
     "data": {
      "text/plain": [
       "1"
      ]
     },
     "execution_count": 17,
     "metadata": {},
     "output_type": "execute_result"
    }
   ],
   "source": [
    "min(t3)"
   ]
  },
  {
   "cell_type": "code",
   "execution_count": 18,
   "id": "4e71ed71",
   "metadata": {},
   "outputs": [
    {
     "data": {
      "text/plain": [
       "6"
      ]
     },
     "execution_count": 18,
     "metadata": {},
     "output_type": "execute_result"
    }
   ],
   "source": [
    "max(t3)"
   ]
  },
  {
   "cell_type": "code",
   "execution_count": 19,
   "id": "6abda00f",
   "metadata": {},
   "outputs": [
    {
     "ename": "TypeError",
     "evalue": "unsupported operand type(s) for +: 'int' and 'str'",
     "output_type": "error",
     "traceback": [
      "\u001b[31m---------------------------------------------------------------------------\u001b[39m",
      "\u001b[31mTypeError\u001b[39m                                 Traceback (most recent call last)",
      "\u001b[36mCell\u001b[39m\u001b[36m \u001b[39m\u001b[32mIn[19]\u001b[39m\u001b[32m, line 2\u001b[39m\n\u001b[32m      1\u001b[39m t = (\u001b[32m1\u001b[39m,\u001b[32m2\u001b[39m,\u001b[33m\"\u001b[39m\u001b[33mhii\u001b[39m\u001b[33m\"\u001b[39m)\n\u001b[32m----> \u001b[39m\u001b[32m2\u001b[39m \u001b[38;5;28;43msum\u001b[39;49m\u001b[43m(\u001b[49m\u001b[43mt\u001b[49m\u001b[43m)\u001b[49m \u001b[38;5;66;03m#invalid\u001b[39;00m\n",
      "\u001b[31mTypeError\u001b[39m: unsupported operand type(s) for +: 'int' and 'str'"
     ]
    }
   ],
   "source": [
    "t = (1,2,\"hii\")\n",
    "sum(t) #invalid"
   ]
  },
  {
   "cell_type": "markdown",
   "id": "e3fc3f85",
   "metadata": {},
   "source": [
    "Immutability"
   ]
  },
  {
   "cell_type": "code",
   "execution_count": 20,
   "id": "c221a582",
   "metadata": {},
   "outputs": [
    {
     "ename": "TypeError",
     "evalue": "'tuple' object does not support item assignment",
     "output_type": "error",
     "traceback": [
      "\u001b[31m---------------------------------------------------------------------------\u001b[39m",
      "\u001b[31mTypeError\u001b[39m                                 Traceback (most recent call last)",
      "\u001b[36mCell\u001b[39m\u001b[36m \u001b[39m\u001b[32mIn[20]\u001b[39m\u001b[32m, line 2\u001b[39m\n\u001b[32m      1\u001b[39m t3 = (\u001b[32m1\u001b[39m,\u001b[32m2\u001b[39m,\u001b[32m3\u001b[39m,\u001b[32m4\u001b[39m)\n\u001b[32m----> \u001b[39m\u001b[32m2\u001b[39m \u001b[43mt\u001b[49m\u001b[43m[\u001b[49m\u001b[32;43m3\u001b[39;49m\u001b[43m]\u001b[49m = \u001b[32m5\u001b[39m\n\u001b[32m      3\u001b[39m \u001b[38;5;66;03m# invalid\u001b[39;00m\n",
      "\u001b[31mTypeError\u001b[39m: 'tuple' object does not support item assignment"
     ]
    }
   ],
   "source": [
    "t3 = (1,2,3,4)\n",
    "t[3] = 5\n",
    "# invalid"
   ]
  },
  {
   "cell_type": "markdown",
   "id": "f59c89cf",
   "metadata": {},
   "source": [
    "Sorting"
   ]
  },
  {
   "cell_type": "code",
   "execution_count": 22,
   "id": "874e31a2",
   "metadata": {},
   "outputs": [
    {
     "name": "stdout",
     "output_type": "stream",
     "text": [
      "[1, 2, 3, 4]\n",
      "<class 'list'>\n"
     ]
    }
   ],
   "source": [
    "t = (4,3,2,1)\n",
    "new_t = sorted(t)\n",
    "print(new_t)\n",
    "print(type(new_t))\n",
    "# sort() won't work: can't sort in place"
   ]
  },
  {
   "cell_type": "markdown",
   "id": "00aabbb2",
   "metadata": {},
   "source": [
    "Type Casting"
   ]
  },
  {
   "cell_type": "code",
   "execution_count": 23,
   "id": "6d7e33d7",
   "metadata": {},
   "outputs": [
    {
     "name": "stdout",
     "output_type": "stream",
     "text": [
      "<class 'tuple'>\n"
     ]
    }
   ],
   "source": [
    "new_t = tuple(new_t)\n",
    "print(type(new_t))"
   ]
  },
  {
   "cell_type": "markdown",
   "id": "ee0dc47f",
   "metadata": {},
   "source": [
    "Nested Tuples"
   ]
  },
  {
   "cell_type": "code",
   "execution_count": 30,
   "id": "df4957c2",
   "metadata": {},
   "outputs": [
    {
     "name": "stdout",
     "output_type": "stream",
     "text": [
      "3\n"
     ]
    }
   ],
   "source": [
    "t = ((1,2),(3,))\n",
    "print(t[1][0])"
   ]
  },
  {
   "cell_type": "markdown",
   "id": "f40fa1ff",
   "metadata": {},
   "source": [
    "# `Sets`\n",
    "- Unorderd collection of unique elements\n",
    "- No duplicate values\n",
    "- Fast lookup, insertion, and removal\n",
    "- Defined by a set of curly brackets `{}` eg. `{1, 2, 3}`"
   ]
  },
  {
   "cell_type": "code",
   "execution_count": 35,
   "id": "42d1e408",
   "metadata": {},
   "outputs": [
    {
     "name": "stdout",
     "output_type": "stream",
     "text": [
      "19\n"
     ]
    }
   ],
   "source": [
    "list1 = 1,2,4,2,1,2,3,4,1,1,2,3,2,4,2,3,2,1,3\n",
    "print(len(list1))"
   ]
  },
  {
   "cell_type": "code",
   "execution_count": 36,
   "id": "4c6b260e",
   "metadata": {},
   "outputs": [
    {
     "name": "stdout",
     "output_type": "stream",
     "text": [
      "{1, 2, 3, 4}\n",
      "4\n"
     ]
    }
   ],
   "source": [
    "set1 = set(list1)\n",
    "print(set1)\n",
    "print(len(set1))"
   ]
  },
  {
   "cell_type": "code",
   "execution_count": 37,
   "id": "a2b9b5a0",
   "metadata": {},
   "outputs": [
    {
     "name": "stdout",
     "output_type": "stream",
     "text": [
      "<class 'dict'>\n"
     ]
    }
   ],
   "source": [
    "set2 = {}\n",
    "print(type(set2))"
   ]
  },
  {
   "cell_type": "code",
   "execution_count": 38,
   "id": "1f854e9b",
   "metadata": {},
   "outputs": [
    {
     "name": "stdout",
     "output_type": "stream",
     "text": [
      "<class 'set'>\n"
     ]
    }
   ],
   "source": [
    "set2 = set()\n",
    "print(type(set2))"
   ]
  },
  {
   "cell_type": "code",
   "execution_count": 39,
   "id": "9d5ebd0f",
   "metadata": {},
   "outputs": [
    {
     "name": "stdout",
     "output_type": "stream",
     "text": [
      "{'Hello'}\n"
     ]
    }
   ],
   "source": [
    "set2.add(\"Hello\")\n",
    "print(set2)"
   ]
  },
  {
   "cell_type": "code",
   "execution_count": 40,
   "id": "1974529e",
   "metadata": {},
   "outputs": [
    {
     "name": "stdout",
     "output_type": "stream",
     "text": [
      "set()\n"
     ]
    }
   ],
   "source": [
    "set2.remove(\"Hello\")\n",
    "print(set2)"
   ]
  },
  {
   "cell_type": "markdown",
   "id": "1044addf",
   "metadata": {},
   "source": [
    "Set Operations"
   ]
  },
  {
   "cell_type": "code",
   "execution_count": 47,
   "id": "8bb008ea",
   "metadata": {},
   "outputs": [],
   "source": [
    "A = {0,1,3,5,7,8,9}\n",
    "B = {0,2,4,6,8,9,10}"
   ]
  },
  {
   "cell_type": "markdown",
   "id": "d5b44ce6",
   "metadata": {},
   "source": [
    "Union"
   ]
  },
  {
   "cell_type": "code",
   "execution_count": 48,
   "id": "1959617e",
   "metadata": {},
   "outputs": [
    {
     "name": "stdout",
     "output_type": "stream",
     "text": [
      "{0, 1, 2, 3, 4, 5, 6, 7, 8, 9, 10}\n",
      "{0, 1, 2, 3, 4, 5, 6, 7, 8, 9, 10}\n",
      "11\n"
     ]
    }
   ],
   "source": [
    "print(A | B)\n",
    "print(A.union(B))\n",
    "print(len(A | B))"
   ]
  },
  {
   "cell_type": "markdown",
   "id": "1848d843",
   "metadata": {},
   "source": [
    "Intersection"
   ]
  },
  {
   "cell_type": "code",
   "execution_count": 52,
   "id": "f1eda05e",
   "metadata": {},
   "outputs": [
    {
     "name": "stdout",
     "output_type": "stream",
     "text": [
      "{0, 8, 9}\n",
      "{0, 8, 9}\n",
      "3\n"
     ]
    }
   ],
   "source": [
    "print(A & B)\n",
    "print(A.intersection(B))\n",
    "print(len(A & B))"
   ]
  },
  {
   "cell_type": "markdown",
   "id": "d8709208",
   "metadata": {},
   "source": [
    "Difference"
   ]
  },
  {
   "cell_type": "code",
   "execution_count": 53,
   "id": "3ddb019b",
   "metadata": {},
   "outputs": [
    {
     "name": "stdout",
     "output_type": "stream",
     "text": [
      "{1, 3, 5, 7}\n",
      "{1, 3, 5, 7}\n",
      "4\n"
     ]
    }
   ],
   "source": [
    "print(A - B)\n",
    "print(A.difference(B))\n",
    "print(len(A - B))"
   ]
  },
  {
   "cell_type": "code",
   "execution_count": 57,
   "id": "68006dc0",
   "metadata": {},
   "outputs": [
    {
     "name": "stdout",
     "output_type": "stream",
     "text": [
      "{2, 10, 4, 6}\n",
      "{2, 10, 4, 6}\n",
      "4\n"
     ]
    }
   ],
   "source": [
    "print(B - A)\n",
    "print(B.difference(A))\n",
    "print(len(B - A))"
   ]
  },
  {
   "cell_type": "markdown",
   "id": "aae7ab10",
   "metadata": {},
   "source": [
    "Symmetric Difference"
   ]
  },
  {
   "cell_type": "code",
   "execution_count": 54,
   "id": "db6a34d1",
   "metadata": {},
   "outputs": [
    {
     "name": "stdout",
     "output_type": "stream",
     "text": [
      "{1, 2, 3, 4, 5, 6, 7, 10}\n",
      "{1, 2, 3, 4, 5, 6, 7, 10}\n",
      "8\n"
     ]
    }
   ],
   "source": [
    "print(A ^ B)\n",
    "print(A.symmetric_difference(B))\n",
    "print(len(A ^ B))"
   ]
  },
  {
   "cell_type": "markdown",
   "id": "85a2ed21",
   "metadata": {},
   "source": [
    "# `Dictionary`\n",
    "- `Dictionary` is a collection of key-value pairs.\n",
    "- Key is unique and immutable of any type.\n",
    "- Value can be of any type and can be mutable.\n",
    "- Eg. {\"name\": \"John\", \"age\": 25}"
   ]
  },
  {
   "cell_type": "code",
   "execution_count": 58,
   "id": "e069dc2d",
   "metadata": {},
   "outputs": [],
   "source": [
    "d1 = {'India': 'Delhi', 'USA': 'Washington D.C.', 'China': 'Beijing'}"
   ]
  },
  {
   "cell_type": "code",
   "execution_count": 59,
   "id": "7c5c97bb",
   "metadata": {},
   "outputs": [
    {
     "data": {
      "text/plain": [
       "'Beijing'"
      ]
     },
     "execution_count": 59,
     "metadata": {},
     "output_type": "execute_result"
    }
   ],
   "source": [
    "d1['China']"
   ]
  },
  {
   "cell_type": "code",
   "execution_count": 67,
   "id": "2b8f275c",
   "metadata": {},
   "outputs": [
    {
     "data": {
      "text/plain": [
       "'Delhi'"
      ]
     },
     "execution_count": 67,
     "metadata": {},
     "output_type": "execute_result"
    }
   ],
   "source": [
    "d1.get('India')"
   ]
  },
  {
   "cell_type": "code",
   "execution_count": 60,
   "id": "f609d0ce",
   "metadata": {},
   "outputs": [
    {
     "data": {
      "text/plain": [
       "dict"
      ]
     },
     "execution_count": 60,
     "metadata": {},
     "output_type": "execute_result"
    }
   ],
   "source": [
    "type(d1)"
   ]
  },
  {
   "cell_type": "code",
   "execution_count": 61,
   "id": "c3edc679",
   "metadata": {},
   "outputs": [
    {
     "name": "stdout",
     "output_type": "stream",
     "text": [
      "{'India': 'Delhi', 'USA': 'Washington D.C.', 'China': 'Beijing', 'Japan': 'Kanto'}\n"
     ]
    }
   ],
   "source": [
    "# Adding new value\n",
    "d1['Japan'] = 'Kanto'\n",
    "print(d1)"
   ]
  },
  {
   "cell_type": "code",
   "execution_count": 69,
   "id": "779d24c9",
   "metadata": {},
   "outputs": [
    {
     "name": "stdout",
     "output_type": "stream",
     "text": [
      "{'India': 'Delhi', 'USA': 'Washington D.C.', 'China': 'Beijing', 'Japan': 'Otawa'}\n",
      "{'India': 'Delhi', 'USA': 'Washington D.C.', 'China': 'Beijing', 'Japan': 'Tokyo'}\n"
     ]
    }
   ],
   "source": [
    "# changing a value\n",
    "d1.update({'Japan': 'Otawa'})\n",
    "print(d1)\n",
    "d1['Japan'] = 'Tokyo'\n",
    "print(d1)"
   ]
  },
  {
   "cell_type": "code",
   "execution_count": 63,
   "id": "edb6e0fd",
   "metadata": {},
   "outputs": [
    {
     "data": {
      "text/plain": [
       "['China', 'India', 'Japan', 'USA']"
      ]
     },
     "execution_count": 63,
     "metadata": {},
     "output_type": "execute_result"
    }
   ],
   "source": [
    "sorted(d1)"
   ]
  },
  {
   "cell_type": "code",
   "execution_count": 64,
   "id": "c2cd8e4b",
   "metadata": {},
   "outputs": [
    {
     "data": {
      "text/plain": [
       "dict_keys(['India', 'USA', 'China', 'Japan'])"
      ]
     },
     "execution_count": 64,
     "metadata": {},
     "output_type": "execute_result"
    }
   ],
   "source": [
    "# get all the keys\n",
    "d1.keys()"
   ]
  },
  {
   "cell_type": "code",
   "execution_count": 66,
   "id": "265960c4",
   "metadata": {},
   "outputs": [
    {
     "data": {
      "text/plain": [
       "dict_values(['Delhi', 'Washington D.C.', 'Beijing', 'Tokyo'])"
      ]
     },
     "execution_count": 66,
     "metadata": {},
     "output_type": "execute_result"
    }
   ],
   "source": [
    "# get all the values\n",
    "d1.values()"
   ]
  }
 ],
 "metadata": {
  "kernelspec": {
   "display_name": ".venv",
   "language": "python",
   "name": "python3"
  },
  "language_info": {
   "codemirror_mode": {
    "name": "ipython",
    "version": 3
   },
   "file_extension": ".py",
   "mimetype": "text/x-python",
   "name": "python",
   "nbconvert_exporter": "python",
   "pygments_lexer": "ipython3",
   "version": "3.12.4"
  }
 },
 "nbformat": 4,
 "nbformat_minor": 5
}

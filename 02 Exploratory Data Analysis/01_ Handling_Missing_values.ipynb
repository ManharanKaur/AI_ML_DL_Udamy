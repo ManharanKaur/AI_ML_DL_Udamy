{
 "cells": [
  {
   "cell_type": "code",
   "execution_count": 1,
   "id": "8c7266bf",
   "metadata": {},
   "outputs": [],
   "source": [
    "import pandas as pd\n",
    "import numpy as np\n",
    "import matplotlib.pyplot as plt\n",
    "import seaborn as sb"
   ]
  },
  {
   "cell_type": "code",
   "execution_count": 2,
   "id": "af1029ca",
   "metadata": {},
   "outputs": [],
   "source": [
    "df = pd.read_csv(\"uncleaned_customer_data_with_numerics.csv\")"
   ]
  },
  {
   "cell_type": "code",
   "execution_count": 3,
   "id": "a6557821",
   "metadata": {},
   "outputs": [
    {
     "name": "stdout",
     "output_type": "stream",
     "text": [
      "<class 'pandas.core.frame.DataFrame'>\n",
      "RangeIndex: 310 entries, 0 to 309\n",
      "Data columns (total 13 columns):\n",
      " #   Column            Non-Null Count  Dtype  \n",
      "---  ------            --------------  -----  \n",
      " 0   CustomerID        303 non-null    object \n",
      " 1   Name              293 non-null    object \n",
      " 2   Email             299 non-null    object \n",
      " 3   Age               194 non-null    object \n",
      " 4   Country           270 non-null    object \n",
      " 5   SignupDate        280 non-null    object \n",
      " 6   LastLogin         258 non-null    object \n",
      " 7   TotalPurchase     283 non-null    float64\n",
      " 8   Feedback          207 non-null    object \n",
      " 9   CartValue         281 non-null    float64\n",
      " 10  ItemsBought       115 non-null    float64\n",
      " 11  DiscountApplied   254 non-null    float64\n",
      " 12  AvgPurchaseValue  104 non-null    float64\n",
      "dtypes: float64(5), object(8)\n",
      "memory usage: 31.6+ KB\n"
     ]
    }
   ],
   "source": [
    "df.info()"
   ]
  },
  {
   "cell_type": "markdown",
   "id": "93a18952",
   "metadata": {},
   "source": [
    "| Column           | Null Count | Null % |\n",
    "| ---------------- | ---------- | ------ |\n",
    "| CustomerID       | 7          | 2.26%  |\n",
    "| Name             | 17         | 5.48%  |\n",
    "| Email            | 11         | 3.55%  |\n",
    "| Age              | 116        | 37.42% |\n",
    "| Country          | 40         | 12.90% |\n",
    "| SignupDate       | 30         | 9.68%  |\n",
    "| LastLogin        | 52         | 16.77% |\n",
    "| TotalPurchase    | 27         | 8.71%  |\n",
    "| Feedback         | 103        | 33.23% |\n",
    "| CartValue        | 29         | 9.35%  |\n",
    "| ItemsBought      | 195        | 62.90% |\n",
    "| DiscountApplied  | 56         | 18.06% |\n",
    "| AvgPurchaseValue | 206        | 66.45% |\n",
    "\n",
    "###  Total Null Summary\n",
    "\n",
    "* **Total Cells** = 310 rows × 13 columns = **4,030**\n",
    "* **Total Nulls** = **889**\n",
    "* **Overall Null Percentage** = **22.06%**\n"
   ]
  },
  {
   "cell_type": "code",
   "execution_count": 4,
   "id": "b60b2320",
   "metadata": {},
   "outputs": [
    {
     "name": "stdout",
     "output_type": "stream",
     "text": [
      "CustomerID            7\n",
      "Name                 17\n",
      "Email                11\n",
      "Age                 116\n",
      "Country              40\n",
      "SignupDate           30\n",
      "LastLogin            52\n",
      "TotalPurchase        27\n",
      "Feedback            103\n",
      "CartValue            29\n",
      "ItemsBought         195\n",
      "DiscountApplied      56\n",
      "AvgPurchaseValue    206\n",
      "dtype: int64\n"
     ]
    }
   ],
   "source": [
    "print(df.isnull().sum())"
   ]
  },
  {
   "cell_type": "markdown",
   "id": "c86ac586",
   "metadata": {},
   "source": [
    "| Null % Range | Drop Rows | Impute   | Drop Column |\n",
    "| ------------ | --------- | -------- | ----------- |\n",
    "| 0–5%         | ✅ Safe    | ✅ Safe   | ❌ No        |\n",
    "| 5–15%        | ⚠️ Risky  | ✅ Yes    | ❌ No        |\n",
    "| 15–30%       | ❌ Risky   | ✅ Best   | ❌ Maybe     |\n",
    "| 30–50%       | ❌ No      | ⚠️ Maybe | ✅ Maybe     |\n",
    "| >50%         | ❌ No      | ❌ Rare   | ✅ Drop      |\n"
   ]
  },
  {
   "cell_type": "markdown",
   "id": "9cf0a739",
   "metadata": {},
   "source": [
    "### `Delete the columns` with null values only if the null percentage in that column is `less than or equal to5%`\n",
    "Here, we will handle `CustomerID`, `Name`, `Email`"
   ]
  },
  {
   "cell_type": "code",
   "execution_count": 5,
   "id": "d3399f72",
   "metadata": {},
   "outputs": [
    {
     "name": "stdout",
     "output_type": "stream",
     "text": [
      "CustomerID            0\n",
      "Name                  0\n",
      "Email                 0\n",
      "Age                 108\n",
      "Country              36\n",
      "SignupDate           27\n",
      "LastLogin            42\n",
      "TotalPurchase        24\n",
      "Feedback             90\n",
      "CartValue            26\n",
      "ItemsBought         169\n",
      "DiscountApplied      50\n",
      "AvgPurchaseValue    178\n",
      "dtype: int64\n"
     ]
    }
   ],
   "source": [
    "df_clear = df.dropna(subset=['CustomerID','Name','Email']) \n",
    "print(df_clear.isnull().sum())"
   ]
  },
  {
   "cell_type": "markdown",
   "id": "f02e9cdf",
   "metadata": {},
   "source": [
    "Here the null value percentage of 'Name', 'Email', 'CustomerID' was less than equal to 5%. so, we deleted the rows with null values in these columns.\n",
    "now, let’s check the null value percentage of the remaining columns.."
   ]
  },
  {
   "cell_type": "code",
   "execution_count": 6,
   "id": "97306672",
   "metadata": {},
   "outputs": [
    {
     "name": "stdout",
     "output_type": "stream",
     "text": [
      "CustomerID           0.000000\n",
      "Name                 0.000000\n",
      "Email                0.000000\n",
      "Age                 39.272727\n",
      "Country             13.090909\n",
      "SignupDate           9.818182\n",
      "LastLogin           15.272727\n",
      "TotalPurchase        8.727273\n",
      "Feedback            32.727273\n",
      "CartValue            9.454545\n",
      "ItemsBought         61.454545\n",
      "DiscountApplied     18.181818\n",
      "AvgPurchaseValue    64.727273\n",
      "dtype: float64\n"
     ]
    }
   ],
   "source": [
    "null_percentage = df_clear.isnull().mean() * 100\n",
    "print(null_percentage)"
   ]
  },
  {
   "cell_type": "markdown",
   "id": "4a569966",
   "metadata": {},
   "source": [
    "Now, the remaining percentgage is also reguced, there may be some rows that have multiple missing values."
   ]
  },
  {
   "cell_type": "markdown",
   "id": "d7f60461",
   "metadata": {},
   "source": [
    "### `Impute MissingValues` where null percentage is `less than 30`\n",
    "Here we will handle `Age`, `Country`, `TotalPurchase`, `CartValue`, `DiscountApplied`\n",
    "\n",
    "| Data Type   | Distribution     | Best Imputation |\n",
    "| ----------- | ---------------- | --------------- |\n",
    "| Numeric     | Normal/Symmetric | ✅ Mean          |\n",
    "| Numeric     | Skewed/Outliers  | ✅ Median        |\n",
    "| Categorical | Any              | ✅ Mode          |\n"
   ]
  },
  {
   "cell_type": "code",
   "execution_count": 7,
   "id": "33d4bce5",
   "metadata": {},
   "outputs": [
    {
     "data": {
      "text/plain": [
       "{'Germany', 'IN', 'India', 'USA', 'United States', 'ind', nan, 'usa'}"
      ]
     },
     "execution_count": 7,
     "metadata": {},
     "output_type": "execute_result"
    }
   ],
   "source": [
    "# fill missing value with MODE\n",
    "df_clear_2 = df_clear\n",
    "set(df_clear_2.Country)"
   ]
  },
  {
   "cell_type": "code",
   "execution_count": 8,
   "id": "7cef5b86",
   "metadata": {},
   "outputs": [
    {
     "name": "stderr",
     "output_type": "stream",
     "text": [
      "/var/folders/cp/2xjpmklx6jb8m1wqc30prz_00000gn/T/ipykernel_79019/3184171427.py:2: SettingWithCopyWarning: \n",
      "A value is trying to be set on a copy of a slice from a DataFrame.\n",
      "Try using .loc[row_indexer,col_indexer] = value instead\n",
      "\n",
      "See the caveats in the documentation: https://pandas.pydata.org/pandas-docs/stable/user_guide/indexing.html#returning-a-view-versus-a-copy\n",
      "  df_clear_2['Country'] = df_clear_2['Country'].replace('usa', 'United States')\n",
      "/var/folders/cp/2xjpmklx6jb8m1wqc30prz_00000gn/T/ipykernel_79019/3184171427.py:3: SettingWithCopyWarning: \n",
      "A value is trying to be set on a copy of a slice from a DataFrame.\n",
      "Try using .loc[row_indexer,col_indexer] = value instead\n",
      "\n",
      "See the caveats in the documentation: https://pandas.pydata.org/pandas-docs/stable/user_guide/indexing.html#returning-a-view-versus-a-copy\n",
      "  df_clear_2['Country'] = df_clear_2['Country'].replace('USA', 'United States')\n",
      "/var/folders/cp/2xjpmklx6jb8m1wqc30prz_00000gn/T/ipykernel_79019/3184171427.py:4: SettingWithCopyWarning: \n",
      "A value is trying to be set on a copy of a slice from a DataFrame.\n",
      "Try using .loc[row_indexer,col_indexer] = value instead\n",
      "\n",
      "See the caveats in the documentation: https://pandas.pydata.org/pandas-docs/stable/user_guide/indexing.html#returning-a-view-versus-a-copy\n",
      "  df_clear_2['Country'] = df_clear_2['Country'].replace('IN', 'India')\n",
      "/var/folders/cp/2xjpmklx6jb8m1wqc30prz_00000gn/T/ipykernel_79019/3184171427.py:5: SettingWithCopyWarning: \n",
      "A value is trying to be set on a copy of a slice from a DataFrame.\n",
      "Try using .loc[row_indexer,col_indexer] = value instead\n",
      "\n",
      "See the caveats in the documentation: https://pandas.pydata.org/pandas-docs/stable/user_guide/indexing.html#returning-a-view-versus-a-copy\n",
      "  df_clear_2['Country'] = df_clear_2['Country'].replace('ind', 'India')\n"
     ]
    }
   ],
   "source": [
    "# here one countyr is represented in different ways\n",
    "df_clear_2['Country'] = df_clear_2['Country'].replace('usa', 'United States')\n",
    "df_clear_2['Country'] = df_clear_2['Country'].replace('USA', 'United States')\n",
    "df_clear_2['Country'] = df_clear_2['Country'].replace('IN', 'India')\n",
    "df_clear_2['Country'] = df_clear_2['Country'].replace('ind', 'India')"
   ]
  },
  {
   "cell_type": "markdown",
   "id": "acafd963",
   "metadata": {},
   "source": [
    "This happen because `df_clear_2` is not original dataframe, it is a copy of original dataframe. \n",
    "to fix this issue, use `.loc[:, '']`. It tells pandas you are modifying the original DataFrame's column directly, not a copy."
   ]
  },
  {
   "cell_type": "code",
   "execution_count": 9,
   "id": "3199a690",
   "metadata": {},
   "outputs": [],
   "source": [
    "country_map = {\n",
    "    'usa': 'United States',\n",
    "    'USA': 'United States',\n",
    "    'IN': 'India',\n",
    "    'ind': 'India'\n",
    "}"
   ]
  },
  {
   "cell_type": "code",
   "execution_count": 10,
   "id": "01111543",
   "metadata": {},
   "outputs": [],
   "source": [
    "df_clear_2.loc[:, 'Country'] = df_clear_2['Country'].replace(country_map)"
   ]
  },
  {
   "cell_type": "code",
   "execution_count": 11,
   "id": "91d51dd5",
   "metadata": {},
   "outputs": [
    {
     "data": {
      "text/plain": [
       "{'Germany', 'India', 'United States', nan}"
      ]
     },
     "execution_count": 11,
     "metadata": {},
     "output_type": "execute_result"
    }
   ],
   "source": [
    "set(df_clear_2.Country)"
   ]
  },
  {
   "cell_type": "code",
   "execution_count": 12,
   "id": "29088f6b",
   "metadata": {},
   "outputs": [
    {
     "name": "stdout",
     "output_type": "stream",
     "text": [
      "Country\n",
      "India            108\n",
      "United States     93\n",
      "Germany           38\n",
      "Name: count, dtype: int64\n"
     ]
    },
    {
     "data": {
      "image/png": "[encoded data removed]",
      "text/plain": [
       "<Figure size 500x500 with 1 Axes>"
      ]
     },
     "metadata": {},
     "output_type": "display_data"
    }
   ],
   "source": [
    "country_counts = df_clear_2['Country'].value_counts()\n",
    "print(country_counts)\n",
    "plt.figure(figsize=(5, 5))\n",
    "plt.pie(country_counts, labels=country_counts.index, autopct='%1.1f%%', startangle=140)\n",
    "plt.title('Country Distribution')\n",
    "plt.axis('equal')  # Equal aspect ratio makes the pie chart a circle.\n",
    "plt.show()"
   ]
  },
  {
   "cell_type": "code",
   "execution_count": 13,
   "id": "8dd41d03",
   "metadata": {},
   "outputs": [
    {
     "name": "stdout",
     "output_type": "stream",
     "text": [
      "0    India\n",
      "Name: Country, dtype: object\n",
      "India\n"
     ]
    }
   ],
   "source": [
    "mode = df_clear_2['Country'].mode()\n",
    "print(mode)\n",
    "print(mode[0])"
   ]
  },
  {
   "cell_type": "code",
   "execution_count": 14,
   "id": "830f2999",
   "metadata": {},
   "outputs": [],
   "source": [
    "# now fill null val with MODE\n",
    "df_clear_2.loc[:, 'Country'] = df_clear_2['Country'].fillna(mode[0])"
   ]
  },
  {
   "cell_type": "code",
   "execution_count": 15,
   "id": "2f9292fc",
   "metadata": {},
   "outputs": [
    {
     "name": "stdout",
     "output_type": "stream",
     "text": [
      "Country\n",
      "India            144\n",
      "United States     93\n",
      "Germany           38\n",
      "Name: count, dtype: int64\n"
     ]
    },
    {
     "data": {
      "image/png": "[encoded data removed]",
      "text/plain": [
       "<Figure size 500x500 with 1 Axes>"
      ]
     },
     "metadata": {},
     "output_type": "display_data"
    }
   ],
   "source": [
    "country_counts = df_clear_2['Country'].value_counts()\n",
    "print(country_counts)\n",
    "plt.figure(figsize=(5, 5))\n",
    "plt.pie(country_counts, labels=country_counts.index, autopct='%1.1f%%', startangle=140)\n",
    "plt.title('Country Distribution')\n",
    "plt.axis('equal')  # Equal aspect ratio makes the pie chart a circle.\n",
    "plt.show()"
   ]
  },
  {
   "cell_type": "code",
   "execution_count": 16,
   "id": "37034955",
   "metadata": {},
   "outputs": [
    {
     "data": {
      "text/plain": [
       "0       80.63\n",
       "1       27.38\n",
       "2      817.67\n",
       "3       29.28\n",
       "4      829.67\n",
       "        ...  \n",
       "305    699.01\n",
       "306    435.15\n",
       "307    814.79\n",
       "308    512.18\n",
       "309    831.78\n",
       "Name: TotalPurchase, Length: 275, dtype: float64"
      ]
     },
     "execution_count": 16,
     "metadata": {},
     "output_type": "execute_result"
    }
   ],
   "source": [
    "df_clear_2.TotalPurchase"
   ]
  },
  {
   "cell_type": "code",
   "execution_count": 17,
   "id": "ca4122bf",
   "metadata": {},
   "outputs": [
    {
     "data": {
      "image/png": "[encoded data removed]",
      "text/plain": [
       "<Figure size 640x480 with 1 Axes>"
      ]
     },
     "metadata": {},
     "output_type": "display_data"
    }
   ],
   "source": [
    "# check for outliers\n",
    "sb.boxplot(x=df_clear_2['TotalPurchase'])\n",
    "plt.show()"
   ]
  },
  {
   "cell_type": "code",
   "execution_count": 18,
   "id": "cdabcff5",
   "metadata": {},
   "outputs": [],
   "source": [
    "# No outliers here\n",
    "df_clear_2.loc[:, 'TotalPurchase'] = df_clear_2.TotalPurchase.fillna(df_clear_2.TotalPurchase.mean())"
   ]
  },
  {
   "cell_type": "code",
   "execution_count": 19,
   "id": "93ef4994",
   "metadata": {},
   "outputs": [
    {
     "data": {
      "text/plain": [
       "0      196.06\n",
       "1      136.79\n",
       "2      239.65\n",
       "3      291.47\n",
       "4         NaN\n",
       "        ...  \n",
       "305    331.02\n",
       "306    243.47\n",
       "307    257.75\n",
       "308     59.99\n",
       "309    496.60\n",
       "Name: CartValue, Length: 275, dtype: float64"
      ]
     },
     "execution_count": 19,
     "metadata": {},
     "output_type": "execute_result"
    }
   ],
   "source": [
    "df_clear_2.CartValue"
   ]
  },
  {
   "cell_type": "code",
   "execution_count": 20,
   "id": "a765106d",
   "metadata": {},
   "outputs": [
    {
     "data": {
      "image/png": "[encoded data removed]",
      "text/plain": [
       "<Figure size 640x480 with 1 Axes>"
      ]
     },
     "metadata": {},
     "output_type": "display_data"
    }
   ],
   "source": [
    "# check for outliers\n",
    "sb.boxplot(x=df_clear_2['CartValue'])\n",
    "plt.show()"
   ]
  },
  {
   "cell_type": "code",
   "execution_count": 21,
   "id": "e24e314a",
   "metadata": {},
   "outputs": [],
   "source": [
    "# No outliers here\n",
    "df_clear_2.loc[:, 'CartValue'] = df_clear_2.CartValue.fillna(df_clear_2.CartValue.mean())"
   ]
  },
  {
   "cell_type": "code",
   "execution_count": 22,
   "id": "2d81df9f",
   "metadata": {},
   "outputs": [
    {
     "data": {
      "text/plain": [
       "0      50.0\n",
       "1       0.0\n",
       "2      20.0\n",
       "3      10.0\n",
       "4      15.0\n",
       "       ... \n",
       "305    10.0\n",
       "306    20.0\n",
       "307     5.0\n",
       "308     5.0\n",
       "309     5.0\n",
       "Name: DiscountApplied, Length: 275, dtype: float64"
      ]
     },
     "execution_count": 22,
     "metadata": {},
     "output_type": "execute_result"
    }
   ],
   "source": [
    "df_clear_2.DiscountApplied"
   ]
  },
  {
   "cell_type": "code",
   "execution_count": 23,
   "id": "0acf5a97",
   "metadata": {},
   "outputs": [
    {
     "data": {
      "image/png": "[encoded data removed]",
      "text/plain": [
       "<Figure size 640x480 with 1 Axes>"
      ]
     },
     "metadata": {},
     "output_type": "display_data"
    }
   ],
   "source": [
    "# check for outliers\n",
    "sb.boxplot(x=df_clear_2['DiscountApplied'])\n",
    "plt.show()"
   ]
  },
  {
   "cell_type": "code",
   "execution_count": 24,
   "id": "affc64a1",
   "metadata": {},
   "outputs": [],
   "source": [
    "# we have an outlier here\n",
    "df_clear_2.loc[:, 'DiscountApplied'] = df_clear_2.DiscountApplied.fillna(df_clear_2.DiscountApplied.median())"
   ]
  },
  {
   "cell_type": "markdown",
   "id": "9c5b3adb",
   "metadata": {},
   "source": [
    "Now for `Age`, it is object type, first we need to convert in numric type, then, we will check frequency of each age.. "
   ]
  },
  {
   "cell_type": "markdown",
   "id": "8d7b9ca2",
   "metadata": {},
   "source": [
    "if age is uniformly distributed, then we will randomly fill null values with any age from the range of age."
   ]
  },
  {
   "cell_type": "markdown",
   "id": "d11c2598",
   "metadata": {},
   "source": [
    "we could also do mean or median but Null percentage of age is quiet largr, hence it will affect the data."
   ]
  },
  {
   "cell_type": "code",
   "execution_count": 28,
   "id": "afff13a7",
   "metadata": {},
   "outputs": [],
   "source": [
    "# convert to numeric character\n",
    "df_clear_2.loc[:,'Age'] = pd.to_numeric(df_clear_2['Age'], errors='coerce')"
   ]
  },
  {
   "cell_type": "code",
   "execution_count": 29,
   "id": "59850e5d",
   "metadata": {},
   "outputs": [
    {
     "name": "stdout",
     "output_type": "stream",
     "text": [
      "<class 'pandas.core.frame.DataFrame'>\n",
      "Index: 275 entries, 0 to 309\n",
      "Data columns (total 13 columns):\n",
      " #   Column            Non-Null Count  Dtype  \n",
      "---  ------            --------------  -----  \n",
      " 0   CustomerID        275 non-null    object \n",
      " 1   Name              275 non-null    object \n",
      " 2   Email             275 non-null    object \n",
      " 3   Age               80 non-null     float64\n",
      " 4   Country           275 non-null    object \n",
      " 5   SignupDate        248 non-null    object \n",
      " 6   LastLogin         233 non-null    object \n",
      " 7   TotalPurchase     275 non-null    float64\n",
      " 8   Feedback          185 non-null    object \n",
      " 9   CartValue         275 non-null    float64\n",
      " 10  ItemsBought       106 non-null    float64\n",
      " 11  DiscountApplied   275 non-null    float64\n",
      " 12  AvgPurchaseValue  97 non-null     float64\n",
      "dtypes: float64(6), object(7)\n",
      "memory usage: 30.1+ KB\n"
     ]
    }
   ],
   "source": [
    "df_clear_2.info()"
   ]
  },
  {
   "cell_type": "code",
   "execution_count": 30,
   "id": "5ebb17f8",
   "metadata": {},
   "outputs": [
    {
     "data": {
      "text/plain": [
       "<function matplotlib.pyplot.show(close=None, block=None)>"
      ]
     },
     "execution_count": 30,
     "metadata": {},
     "output_type": "execute_result"
    },
    {
     "data": {
      "image/png": "[encoded data removed]",
      "text/plain": [
       "<Figure size 640x480 with 1 Axes>"
      ]
     },
     "metadata": {},
     "output_type": "display_data"
    }
   ],
   "source": [
    "sb.countplot(x=df_clear_2['Age'])\n",
    "plt.xticks(rotation=90, ha='right')\n",
    "plt.show"
   ]
  },
  {
   "cell_type": "markdown",
   "id": "5c9ac88e",
   "metadata": {},
   "source": [
    "No age is significantly higher\n",
    "- Create an array of valid (non-null, reasonable) age values\n",
    "- Randomly fill NaN values in the 'Age' column using values from that array"
   ]
  },
  {
   "cell_type": "code",
   "execution_count": 31,
   "id": "00a898f1",
   "metadata": {},
   "outputs": [
    {
     "name": "stdout",
     "output_type": "stream",
     "text": [
      "[19.0, 21.0, 22.0, 23.0, 26.0, 27.0, 28.0, 30.0, 31.0, 33.0, 34.0, 35.0, 36.0, 37.0, 38.0, 39.0, 40.0, 41.0, 42.0, 43.0, 44.0, 45.0, 46.0, 47.0, 48.0, 49.0, 52.0, 54.0, 56.0, 57.0, 59.0, 60.0, 61.0, 62.0, 63.0, 65.0, 67.0, 68.0, 69.0, 70.0, 72.0, 73.0, 75.0, 76.0, 77.0, 78.0, 80.0]\n"
     ]
    }
   ],
   "source": [
    "age = list(set(df_clear_2['Age'].dropna()))\n",
    "print(age)"
   ]
  },
  {
   "cell_type": "code",
   "execution_count": 32,
   "id": "9700cd8f",
   "metadata": {},
   "outputs": [],
   "source": [
    "df_clear_2.loc[:,'Age'] = df_clear_2.Age.apply(\n",
    "    lambda x: np.random.choice(age) if pd.isna(x) else x\n",
    ")"
   ]
  },
  {
   "cell_type": "code",
   "execution_count": 33,
   "id": "5758369f",
   "metadata": {},
   "outputs": [
    {
     "data": {
      "text/plain": [
       "<function matplotlib.pyplot.show(close=None, block=None)>"
      ]
     },
     "execution_count": 33,
     "metadata": {},
     "output_type": "execute_result"
    },
    {
     "data": {
      "image/png": "[encoded data removed]",
      "text/plain": [
       "<Figure size 640x480 with 1 Axes>"
      ]
     },
     "metadata": {},
     "output_type": "display_data"
    }
   ],
   "source": [
    "sb.countplot(x=df_clear_2['Age'])\n",
    "plt.xticks(rotation=90, ha='right')\n",
    "plt.show"
   ]
  },
  {
   "cell_type": "code",
   "execution_count": 34,
   "id": "6338ea1f",
   "metadata": {},
   "outputs": [
    {
     "name": "stdout",
     "output_type": "stream",
     "text": [
      "CustomerID           0.000000\n",
      "Name                 0.000000\n",
      "Email                0.000000\n",
      "Age                  0.000000\n",
      "Country              0.000000\n",
      "SignupDate           9.818182\n",
      "LastLogin           15.272727\n",
      "TotalPurchase        0.000000\n",
      "Feedback            32.727273\n",
      "CartValue            0.000000\n",
      "ItemsBought         61.454545\n",
      "DiscountApplied      0.000000\n",
      "AvgPurchaseValue    64.727273\n",
      "dtype: float64\n"
     ]
    }
   ],
   "source": [
    "null_percentage = df_clear_2.isnull().mean() * 100\n",
    "print(null_percentage)"
   ]
  },
  {
   "cell_type": "markdown",
   "id": "1c1fa7fc",
   "metadata": {},
   "source": [
    "### `Droping Column` if null percentage in column is `greater than 50%`\n",
    "Droping `ItemsBought` and `AvgPurchaseValue` columns "
   ]
  },
  {
   "cell_type": "code",
   "execution_count": null,
   "id": "daa66d1f",
   "metadata": {},
   "outputs": [],
   "source": [
    "df.drop(columns=['ItemsBought', 'AvgPurchaseValue'], inplace=True)"
   ]
  },
  {
   "cell_type": "code",
   "execution_count": 47,
   "id": "a959b734",
   "metadata": {},
   "outputs": [
    {
     "name": "stdout",
     "output_type": "stream",
     "text": [
      "CustomerID          0.000000\n",
      "Name                0.000000\n",
      "Email               0.000000\n",
      "Age                 0.000000\n",
      "Country             0.000000\n",
      "SignupDate          9.818182\n",
      "LastLogin          15.272727\n",
      "TotalPurchase       0.000000\n",
      "Feedback           32.727273\n",
      "CartValue           0.000000\n",
      "DiscountApplied     0.000000\n",
      "dtype: float64\n"
     ]
    }
   ],
   "source": [
    "null_percentage = df_clear_2.isnull().mean() * 100\n",
    "print(null_percentage)"
   ]
  },
  {
   "cell_type": "markdown",
   "id": "ace479b7",
   "metadata": {},
   "source": [
    "The `Feedback` column represents personal responses voluntarily given by customers. Since it's a form of subjective input, it's completely acceptable to have null values — not every customer is expected to leave feedback. These missing values don't indicate poor data quality; rather, they reflect the natural behavior of users."
   ]
  },
  {
   "cell_type": "markdown",
   "id": "9338a378",
   "metadata": {},
   "source": [
    "####  `SignupDate` and `LastLogin` are `datetime` columns, they hold temporal information, "
   ]
  },
  {
   "cell_type": "markdown",
   "id": "683fd6f5",
   "metadata": {},
   "source": [
    "Convert to `datetime` format"
   ]
  },
  {
   "cell_type": "code",
   "execution_count": 49,
   "id": "0758a8e9",
   "metadata": {},
   "outputs": [],
   "source": [
    "df_clear_2.loc[:,'SignupDate'] = pd.to_datetime(df_clear_2['SignupDate'], errors='coerce')\n",
    "df_clear_2.loc[:,'LastLogin'] = pd.to_datetime(df_clear_2['LastLogin'], errors='coerce')"
   ]
  },
  {
   "cell_type": "code",
   "execution_count": 50,
   "id": "05e07fb6",
   "metadata": {},
   "outputs": [
    {
     "name": "stdout",
     "output_type": "stream",
     "text": [
      "<class 'pandas.core.frame.DataFrame'>\n",
      "Index: 275 entries, 0 to 309\n",
      "Data columns (total 11 columns):\n",
      " #   Column           Non-Null Count  Dtype         \n",
      "---  ------           --------------  -----         \n",
      " 0   CustomerID       275 non-null    object        \n",
      " 1   Name             275 non-null    object        \n",
      " 2   Email            275 non-null    object        \n",
      " 3   Age              275 non-null    float64       \n",
      " 4   Country          275 non-null    object        \n",
      " 5   SignupDate       248 non-null    datetime64[ns]\n",
      " 6   LastLogin        233 non-null    datetime64[ns]\n",
      " 7   TotalPurchase    275 non-null    float64       \n",
      " 8   Feedback         185 non-null    object        \n",
      " 9   CartValue        275 non-null    float64       \n",
      " 10  DiscountApplied  275 non-null    float64       \n",
      "dtypes: datetime64[ns](2), float64(4), object(5)\n",
      "memory usage: 25.8+ KB\n"
     ]
    }
   ],
   "source": [
    "df_clear_2.info()"
   ]
  },
  {
   "cell_type": "markdown",
   "id": "226e3bbc",
   "metadata": {},
   "source": [
    "Fill with `SignupDate` earliest valid date"
   ]
  },
  {
   "cell_type": "code",
   "execution_count": 51,
   "id": "617c9303",
   "metadata": {},
   "outputs": [],
   "source": [
    "df_clear_2.loc[:,'SignupDate'] = df_clear_2['SignupDate'].fillna(df_clear_2['SignupDate'].min())"
   ]
  },
  {
   "cell_type": "markdown",
   "id": "d07e069b",
   "metadata": {},
   "source": [
    "Fill `LastLogin` with column median"
   ]
  },
  {
   "cell_type": "code",
   "execution_count": 55,
   "id": "514cddb8",
   "metadata": {},
   "outputs": [],
   "source": [
    "median_login = df_clear_2['LastLogin'].dropna().median()"
   ]
  },
  {
   "cell_type": "code",
   "execution_count": 56,
   "id": "12e59eab",
   "metadata": {},
   "outputs": [
    {
     "data": {
      "text/plain": [
       "Timestamp('2025-03-08 00:47:59')"
      ]
     },
     "execution_count": 56,
     "metadata": {},
     "output_type": "execute_result"
    }
   ],
   "source": [
    "median_login"
   ]
  },
  {
   "cell_type": "code",
   "execution_count": 57,
   "id": "5c2a3e4a",
   "metadata": {},
   "outputs": [],
   "source": [
    "df_clear_2.loc[:,'LastLogin'] = df_clear_2['LastLogin'].fillna(median_login)"
   ]
  },
  {
   "cell_type": "code",
   "execution_count": 58,
   "id": "e91e92cf",
   "metadata": {},
   "outputs": [
    {
     "name": "stdout",
     "output_type": "stream",
     "text": [
      "<class 'pandas.core.frame.DataFrame'>\n",
      "Index: 275 entries, 0 to 309\n",
      "Data columns (total 11 columns):\n",
      " #   Column           Non-Null Count  Dtype         \n",
      "---  ------           --------------  -----         \n",
      " 0   CustomerID       275 non-null    object        \n",
      " 1   Name             275 non-null    object        \n",
      " 2   Email            275 non-null    object        \n",
      " 3   Age              275 non-null    float64       \n",
      " 4   Country          275 non-null    object        \n",
      " 5   SignupDate       275 non-null    datetime64[ns]\n",
      " 6   LastLogin        275 non-null    datetime64[ns]\n",
      " 7   TotalPurchase    275 non-null    float64       \n",
      " 8   Feedback         185 non-null    object        \n",
      " 9   CartValue        275 non-null    float64       \n",
      " 10  DiscountApplied  275 non-null    float64       \n",
      "dtypes: datetime64[ns](2), float64(4), object(5)\n",
      "memory usage: 25.8+ KB\n"
     ]
    }
   ],
   "source": [
    "df_clear_2.info()"
   ]
  },
  {
   "cell_type": "code",
   "execution_count": 59,
   "id": "2a3e5658",
   "metadata": {},
   "outputs": [
    {
     "name": "stdout",
     "output_type": "stream",
     "text": [
      "<class 'pandas.core.frame.DataFrame'>\n",
      "RangeIndex: 310 entries, 0 to 309\n",
      "Data columns (total 11 columns):\n",
      " #   Column           Non-Null Count  Dtype  \n",
      "---  ------           --------------  -----  \n",
      " 0   CustomerID       303 non-null    object \n",
      " 1   Name             293 non-null    object \n",
      " 2   Email            299 non-null    object \n",
      " 3   Age              194 non-null    object \n",
      " 4   Country          270 non-null    object \n",
      " 5   SignupDate       280 non-null    object \n",
      " 6   LastLogin        258 non-null    object \n",
      " 7   TotalPurchase    283 non-null    float64\n",
      " 8   Feedback         207 non-null    object \n",
      " 9   CartValue        281 non-null    float64\n",
      " 10  DiscountApplied  254 non-null    float64\n",
      "dtypes: float64(3), object(8)\n",
      "memory usage: 26.8+ KB\n"
     ]
    }
   ],
   "source": [
    "df.info()"
   ]
  },
  {
   "cell_type": "code",
   "execution_count": 60,
   "id": "8872a030",
   "metadata": {},
   "outputs": [],
   "source": [
    "df = df_clear_2"
   ]
  },
  {
   "cell_type": "code",
   "execution_count": 61,
   "id": "2734a27b",
   "metadata": {},
   "outputs": [
    {
     "name": "stdout",
     "output_type": "stream",
     "text": [
      "<class 'pandas.core.frame.DataFrame'>\n",
      "Index: 275 entries, 0 to 309\n",
      "Data columns (total 11 columns):\n",
      " #   Column           Non-Null Count  Dtype         \n",
      "---  ------           --------------  -----         \n",
      " 0   CustomerID       275 non-null    object        \n",
      " 1   Name             275 non-null    object        \n",
      " 2   Email            275 non-null    object        \n",
      " 3   Age              275 non-null    float64       \n",
      " 4   Country          275 non-null    object        \n",
      " 5   SignupDate       275 non-null    datetime64[ns]\n",
      " 6   LastLogin        275 non-null    datetime64[ns]\n",
      " 7   TotalPurchase    275 non-null    float64       \n",
      " 8   Feedback         185 non-null    object        \n",
      " 9   CartValue        275 non-null    float64       \n",
      " 10  DiscountApplied  275 non-null    float64       \n",
      "dtypes: datetime64[ns](2), float64(4), object(5)\n",
      "memory usage: 25.8+ KB\n"
     ]
    }
   ],
   "source": [
    "df.info()"
   ]
  },
  {
   "cell_type": "code",
   "execution_count": 62,
   "id": "05508bdd",
   "metadata": {},
   "outputs": [],
   "source": [
    "df.to_csv('cleaned_data.csv', index=False)"
   ]
  }
 ],
 "metadata": {
  "kernelspec": {
   "display_name": ".venv",
   "language": "python",
   "name": "python3"
  },
  "language_info": {
   "codemirror_mode": {
    "name": "ipython",
    "version": 3
   },
   "file_extension": ".py",
   "mimetype": "text/x-python",
   "name": "python",
   "nbconvert_exporter": "python",
   "pygments_lexer": "ipython3",
   "version": "3.12.4"
  }
 },
 "nbformat": 4,
 "nbformat_minor": 5
}

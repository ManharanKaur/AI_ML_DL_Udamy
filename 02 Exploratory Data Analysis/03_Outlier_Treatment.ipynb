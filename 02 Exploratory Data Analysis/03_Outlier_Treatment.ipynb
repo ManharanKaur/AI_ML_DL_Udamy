{
 "cells": [
  {
   "cell_type": "code",
   "execution_count": 35,
   "id": "7e862a19",
   "metadata": {},
   "outputs": [],
   "source": [
    "import numpy as np\n",
    "import pandas as pd\n",
    "import statistics\n",
    "import seaborn as sns\n",
    "import matplotlib.pyplot as plt"
   ]
  },
  {
   "cell_type": "code",
   "execution_count": 36,
   "id": "0d80582a",
   "metadata": {},
   "outputs": [],
   "source": [
    "data = pd.read_csv('cleaned_data.csv')"
   ]
  },
  {
   "cell_type": "code",
   "execution_count": 37,
   "id": "1d1f7068",
   "metadata": {},
   "outputs": [
    {
     "name": "stdout",
     "output_type": "stream",
     "text": [
      "<class 'pandas.core.frame.DataFrame'>\n",
      "RangeIndex: 275 entries, 0 to 274\n",
      "Data columns (total 11 columns):\n",
      " #   Column           Non-Null Count  Dtype  \n",
      "---  ------           --------------  -----  \n",
      " 0   CustomerID       275 non-null    object \n",
      " 1   Name             275 non-null    object \n",
      " 2   Email            275 non-null    object \n",
      " 3   Age              275 non-null    float64\n",
      " 4   Country          275 non-null    object \n",
      " 5   SignupDate       275 non-null    object \n",
      " 6   LastLogin        275 non-null    object \n",
      " 7   TotalPurchase    275 non-null    float64\n",
      " 8   Feedback         185 non-null    object \n",
      " 9   CartValue        275 non-null    float64\n",
      " 10  DiscountApplied  275 non-null    float64\n",
      "dtypes: float64(4), object(7)\n",
      "memory usage: 23.8+ KB\n"
     ]
    }
   ],
   "source": [
    "data.info()"
   ]
  },
  {
   "cell_type": "markdown",
   "id": "7d51b3d3",
   "metadata": {},
   "source": [
    "# **Finding Outliers using `3-Sigma Rule` (Z-Score Method)**\n",
    "\n",
    "The **3-sigma rule** assumes a **normal distribution**:\n",
    "\n",
    "* 68% data lies within ±1σ\n",
    "* 95% within ±2σ\n",
    "* 99.7% within ±3σ\n",
    "\n",
    "So, **values beyond ±3 standard deviations (σ)** are considered **outliers**.\n",
    "\n",
    "\n",
    "\n",
    "| Term      | Meaning                                 |  \n",
    "| --------- | --------------------------------------- |\n",
    "| σ (sigma) | Standard deviation                      |  \n",
    "| Z-score   | How many std deviations a value is away |    \n",
    "| z > 3 | Mark it as an **`outlier`** |\n",
    "\n"
   ]
  },
  {
   "cell_type": "code",
   "execution_count": 38,
   "id": "e865ef50",
   "metadata": {},
   "outputs": [],
   "source": [
    "# Function to detect Outliers in 1D dataset\n",
    "def find_anomalies(data):\n",
    "    # Define a list to store outliers\n",
    "    outliers = []\n",
    "\n",
    "    # set upper and lower limit to 3 standard deviations\n",
    "    sd = statistics.stdev(data)\n",
    "    mean = statistics.mean(data)\n",
    "\n",
    "    cut_off = sd * 3\n",
    "\n",
    "    upper_limit = mean + cut_off\n",
    "    lower_limit = mean - cut_off\n",
    "\n",
    "    # Generate outliers\n",
    "    for i in data:\n",
    "        if i > upper_limit or i < lower_limit:\n",
    "            outliers.append(i)\n",
    "    \n",
    "    return outliers"
   ]
  },
  {
   "cell_type": "code",
   "execution_count": 39,
   "id": "39e8530a",
   "metadata": {},
   "outputs": [
    {
     "data": {
      "text/plain": [
       "0      50.0\n",
       "1       0.0\n",
       "2      20.0\n",
       "3      10.0\n",
       "4      15.0\n",
       "       ... \n",
       "270    10.0\n",
       "271    20.0\n",
       "272     5.0\n",
       "273     5.0\n",
       "274     5.0\n",
       "Name: DiscountApplied, Length: 275, dtype: float64"
      ]
     },
     "execution_count": 39,
     "metadata": {},
     "output_type": "execute_result"
    }
   ],
   "source": [
    "data.DiscountApplied"
   ]
  },
  {
   "cell_type": "code",
   "execution_count": 40,
   "id": "30761b24",
   "metadata": {},
   "outputs": [],
   "source": [
    "list1 = find_anomalies(data.DiscountApplied)"
   ]
  },
  {
   "cell_type": "code",
   "execution_count": 41,
   "id": "c9a76841",
   "metadata": {},
   "outputs": [
    {
     "data": {
      "text/plain": [
       "[50.0]"
      ]
     },
     "execution_count": 41,
     "metadata": {},
     "output_type": "execute_result"
    }
   ],
   "source": [
    "list1"
   ]
  },
  {
   "cell_type": "markdown",
   "id": "e61a456f",
   "metadata": {},
   "source": [
    "One Outlier is present here"
   ]
  },
  {
   "cell_type": "code",
   "execution_count": 42,
   "id": "0088d2ea",
   "metadata": {},
   "outputs": [
    {
     "data": {
      "text/plain": [
       "0.36363636363636365"
      ]
     },
     "execution_count": 42,
     "metadata": {},
     "output_type": "execute_result"
    }
   ],
   "source": [
    "len(list1)/len(data) * 100"
   ]
  },
  {
   "cell_type": "markdown",
   "id": "ed7209dc",
   "metadata": {},
   "source": [
    "0.3 percent od data in in outliers range<br>If this range would be more, that would mean that data is not normally distributed."
   ]
  },
  {
   "cell_type": "code",
   "execution_count": 43,
   "id": "21775c8e",
   "metadata": {},
   "outputs": [
    {
     "data": {
      "text/plain": [
       "np.float64(0.7296601014487158)"
      ]
     },
     "execution_count": 43,
     "metadata": {},
     "output_type": "execute_result"
    }
   ],
   "source": [
    "data.DiscountApplied.skew() # aproximatly normal"
   ]
  },
  {
   "cell_type": "code",
   "execution_count": 44,
   "id": "13c07b3f",
   "metadata": {},
   "outputs": [],
   "source": [
    "# Manually creating array which is not normally distributed\n",
    "np.random.seed(0)\n",
    "normal_data = np.random.normal(loc=50, scale=5, size=1000)\n",
    "\n",
    "# Add some outliers\n",
    "outliers = np.array([150, 160, 170, 180, 190] * 6)  # 30 outliers\n",
    "data_with_outliers = np.concatenate([normal_data, outliers])"
   ]
  },
  {
   "cell_type": "code",
   "execution_count": 45,
   "id": "171c1eea",
   "metadata": {},
   "outputs": [],
   "source": [
    "list2 = find_anomalies(data_with_outliers)"
   ]
  },
  {
   "cell_type": "code",
   "execution_count": 46,
   "id": "4f172086",
   "metadata": {},
   "outputs": [
    {
     "name": "stdout",
     "output_type": "stream",
     "text": [
      "30\n"
     ]
    }
   ],
   "source": [
    "print(len(list2))"
   ]
  },
  {
   "cell_type": "code",
   "execution_count": 47,
   "id": "1d23f0f4",
   "metadata": {},
   "outputs": [
    {
     "data": {
      "text/plain": [
       "2.912621359223301"
      ]
     },
     "execution_count": 47,
     "metadata": {},
     "output_type": "execute_result"
    }
   ],
   "source": [
    "len(list2) / len(data_with_outliers) * 100"
   ]
  },
  {
   "cell_type": "markdown",
   "id": "048098ff",
   "metadata": {},
   "source": [
    "2% Outliers<br>Not normally distributed"
   ]
  },
  {
   "cell_type": "code",
   "execution_count": 48,
   "id": "38f2ce30",
   "metadata": {},
   "outputs": [],
   "source": [
    "df = pd.DataFrame(data_with_outliers, columns=[\"Value\"])"
   ]
  },
  {
   "cell_type": "code",
   "execution_count": 49,
   "id": "3671f8ba",
   "metadata": {},
   "outputs": [
    {
     "name": "stdout",
     "output_type": "stream",
     "text": [
      "<class 'pandas.core.frame.DataFrame'>\n",
      "RangeIndex: 1030 entries, 0 to 1029\n",
      "Data columns (total 1 columns):\n",
      " #   Column  Non-Null Count  Dtype  \n",
      "---  ------  --------------  -----  \n",
      " 0   Value   1030 non-null   float64\n",
      "dtypes: float64(1)\n",
      "memory usage: 8.2 KB\n"
     ]
    }
   ],
   "source": [
    "df.info()"
   ]
  },
  {
   "cell_type": "code",
   "execution_count": 50,
   "id": "73568d68",
   "metadata": {},
   "outputs": [
    {
     "data": {
      "text/plain": [
       "Value    5.248302\n",
       "dtype: float64"
      ]
     },
     "execution_count": 50,
     "metadata": {},
     "output_type": "execute_result"
    }
   ],
   "source": [
    "df.skew()"
   ]
  },
  {
   "cell_type": "code",
   "execution_count": 51,
   "id": "814eb832",
   "metadata": {},
   "outputs": [
    {
     "data": {
      "image/png": "[encoded data removed]",
      "text/plain": [
       "<Figure size 640x480 with 1 Axes>"
      ]
     },
     "metadata": {},
     "output_type": "display_data"
    }
   ],
   "source": [
    "sns.kdeplot(df.Value, fill=True, color=\"purple\", linewidth=2)\n",
    "plt.grid(True)\n",
    "plt.tight_layout() # to avoid the plot being cut off\n",
    "plt.show()"
   ]
  },
  {
   "cell_type": "markdown",
   "id": "c9b96e7e",
   "metadata": {},
   "source": [
    "It is left skewed"
   ]
  },
  {
   "cell_type": "code",
   "execution_count": 52,
   "id": "f5a6cc3c",
   "metadata": {},
   "outputs": [],
   "source": [
    "# Transform the data into logarithmic scale\n",
    "df.Value = np.log(df.Value)"
   ]
  },
  {
   "cell_type": "code",
   "execution_count": null,
   "id": "377e44f8",
   "metadata": {},
   "outputs": [
    {
     "data": {
      "text/plain": [
       "Value    4.049216\n",
       "dtype: float64"
      ]
     },
     "execution_count": 54,
     "metadata": {},
     "output_type": "execute_result"
    }
   ],
   "source": [
    "df.skew() # skewness reduced"
   ]
  },
  {
   "cell_type": "code",
   "execution_count": 53,
   "id": "0a2060ba",
   "metadata": {},
   "outputs": [
    {
     "data": {
      "image/png": "[encoded data removed]",
      "text/plain": [
       "<Figure size 640x480 with 1 Axes>"
      ]
     },
     "metadata": {},
     "output_type": "display_data"
    }
   ],
   "source": [
    "sns.kdeplot(df.Value, fill=True, color=\"salmon\", linewidth=2)\n",
    "plt.grid(True)\n",
    "plt.tight_layout() # to avoid the plot being cut off\n",
    "plt.show()"
   ]
  },
  {
   "cell_type": "code",
   "execution_count": 55,
   "id": "4f9a26be",
   "metadata": {},
   "outputs": [
    {
     "data": {
      "text/plain": [
       "[5.0106352940962555,\n",
       " 5.075173815233827,\n",
       " 5.135798437050262,\n",
       " 5.19295685089021,\n",
       " 5.247024072160486,\n",
       " 5.0106352940962555,\n",
       " 5.075173815233827,\n",
       " 5.135798437050262,\n",
       " 5.19295685089021,\n",
       " 5.247024072160486,\n",
       " 5.0106352940962555,\n",
       " 5.075173815233827,\n",
       " 5.135798437050262,\n",
       " 5.19295685089021,\n",
       " 5.247024072160486,\n",
       " 5.0106352940962555,\n",
       " 5.075173815233827,\n",
       " 5.135798437050262,\n",
       " 5.19295685089021,\n",
       " 5.247024072160486,\n",
       " 5.0106352940962555,\n",
       " 5.075173815233827,\n",
       " 5.135798437050262,\n",
       " 5.19295685089021,\n",
       " 5.247024072160486,\n",
       " 5.0106352940962555,\n",
       " 5.075173815233827,\n",
       " 5.135798437050262,\n",
       " 5.19295685089021,\n",
       " 5.247024072160486]"
      ]
     },
     "execution_count": 55,
     "metadata": {},
     "output_type": "execute_result"
    }
   ],
   "source": [
    "list2 = find_anomalies(df.Value)\n",
    "list2"
   ]
  },
  {
   "cell_type": "code",
   "execution_count": null,
   "id": "64e82414",
   "metadata": {},
   "outputs": [
    {
     "data": {
      "text/plain": [
       "2.912621359223301"
      ]
     },
     "execution_count": 56,
     "metadata": {},
     "output_type": "execute_result"
    }
   ],
   "source": [
    "len(list2) / len(df) * 100 # still same"
   ]
  },
  {
   "cell_type": "code",
   "execution_count": 57,
   "id": "66e1b850",
   "metadata": {},
   "outputs": [],
   "source": [
    "# double transformation\n",
    "df.Value = np.log(df.Value)"
   ]
  },
  {
   "cell_type": "code",
   "execution_count": 58,
   "id": "c4bb22f8",
   "metadata": {},
   "outputs": [
    {
     "data": {
      "text/plain": [
       "Value    3.64748\n",
       "dtype: float64"
      ]
     },
     "execution_count": 58,
     "metadata": {},
     "output_type": "execute_result"
    }
   ],
   "source": [
    "df.skew() # skewness reduced"
   ]
  },
  {
   "cell_type": "code",
   "execution_count": 59,
   "id": "5e0bcdd7",
   "metadata": {},
   "outputs": [
    {
     "data": {
      "image/png": "[encoded data removed]",
      "text/plain": [
       "<Figure size 640x480 with 1 Axes>"
      ]
     },
     "metadata": {},
     "output_type": "display_data"
    }
   ],
   "source": [
    "sns.kdeplot(df.Value, fill=True, color=\"deepskyblue\", linewidth=2)\n",
    "plt.grid(True)\n",
    "plt.tight_layout() # to avoid the plot being cut off\n",
    "plt.show()"
   ]
  },
  {
   "cell_type": "code",
   "execution_count": 60,
   "id": "5c8258f6",
   "metadata": {},
   "outputs": [
    {
     "data": {
      "text/plain": [
       "[1.611562712266506,\n",
       " 1.6243607736485148,\n",
       " 1.6362353204949376,\n",
       " 1.6473032557366176,\n",
       " 1.657661072489074,\n",
       " 1.611562712266506,\n",
       " 1.6243607736485148,\n",
       " 1.6362353204949376,\n",
       " 1.6473032557366176,\n",
       " 1.657661072489074,\n",
       " 1.611562712266506,\n",
       " 1.6243607736485148,\n",
       " 1.6362353204949376,\n",
       " 1.6473032557366176,\n",
       " 1.657661072489074,\n",
       " 1.611562712266506,\n",
       " 1.6243607736485148,\n",
       " 1.6362353204949376,\n",
       " 1.6473032557366176,\n",
       " 1.657661072489074,\n",
       " 1.611562712266506,\n",
       " 1.6243607736485148,\n",
       " 1.6362353204949376,\n",
       " 1.6473032557366176,\n",
       " 1.657661072489074,\n",
       " 1.611562712266506,\n",
       " 1.6243607736485148,\n",
       " 1.6362353204949376,\n",
       " 1.6473032557366176,\n",
       " 1.657661072489074]"
      ]
     },
     "execution_count": 60,
     "metadata": {},
     "output_type": "execute_result"
    }
   ],
   "source": [
    "list2 = find_anomalies(df.Value)\n",
    "list2"
   ]
  },
  {
   "cell_type": "code",
   "execution_count": 61,
   "id": "0e39b80a",
   "metadata": {},
   "outputs": [
    {
     "data": {
      "text/plain": [
       "2.912621359223301"
      ]
     },
     "execution_count": 61,
     "metadata": {},
     "output_type": "execute_result"
    }
   ],
   "source": [
    "len(list2) / len(df) * 100 # still same"
   ]
  },
  {
   "cell_type": "markdown",
   "id": "4ad4f377",
   "metadata": {},
   "source": [
    "# `Boxplots`\n",
    "### **What is a Boxplot?**\n",
    "\n",
    "A **`boxplot`** (or box-and-whisker plot) is a visual way to show how data is spread and helps in **detecting outliers**.\n",
    "\n",
    "It shows:\n",
    "\n",
    "* **Median** (middle value)\n",
    "* **Quartiles (Q1 & Q3)** – values that split data into 4 equal parts\n",
    "* **IQR (Interquartile Range)** – the middle 50% of data:\n",
    "  `IQR = Q3 - Q1`\n",
    "* **Whiskers** – lines extending from the box to show the range (without outliers)\n",
    "\n",
    "---\n",
    "\n",
    "###  **What Are Outliers in a Boxplot?**\n",
    "\n",
    "Outliers are values that are **too far from the rest** of the data.\n",
    "\n",
    "📌 Outlier condition:\n",
    "\n",
    "```plaintext\n",
    "Any value < Q1 - 1.5 * IQR\n",
    "Or\n",
    "Any value > Q3 + 1.5 * IQR\n",
    "```\n",
    "\n",
    "These values are plotted as **dots** beyond the whiskers in the boxplot.\n",
    "\n",
    "---\n",
    "\n",
    "| Term     | Meaning                                       |\n",
    "| -------- | --------------------------------------------- |\n",
    "| Q1       | 25th percentile (lower quartile)              |\n",
    "| Q3       | 75th percentile (upper quartile)              |\n",
    "| IQR      | Q3 - Q1                                       |\n",
    "| Outliers | Values outside `[Q1 - 1.5*IQR, Q3 + 1.5*IQR]` |\n",
    "\n"
   ]
  },
  {
   "cell_type": "code",
   "execution_count": 72,
   "id": "b186ba09",
   "metadata": {},
   "outputs": [
    {
     "data": {
      "text/plain": [
       "{'whiskers': [<matplotlib.lines.Line2D at 0x1276ff170>,\n",
       "  <matplotlib.lines.Line2D at 0x1276ff3b0>],\n",
       " 'caps': [<matplotlib.lines.Line2D at 0x1276ff6b0>,\n",
       "  <matplotlib.lines.Line2D at 0x1276ff980>],\n",
       " 'boxes': [<matplotlib.patches.PathPatch at 0x1276fe9c0>],\n",
       " 'medians': [<matplotlib.lines.Line2D at 0x1276ffc20>],\n",
       " 'fliers': [<matplotlib.lines.Line2D at 0x127700200>],\n",
       " 'means': [<matplotlib.lines.Line2D at 0x1276ffef0>]}"
      ]
     },
     "execution_count": 72,
     "metadata": {},
     "output_type": "execute_result"
    },
    {
     "data": {
      "image/png": "[encoded data removed]",
      "text/plain": [
       "<Figure size 640x480 with 1 Axes>"
      ]
     },
     "metadata": {},
     "output_type": "display_data"
    }
   ],
   "source": [
    "plt.boxplot(data.DiscountApplied,\n",
    "           vert = False,\n",
    "           patch_artist = True,\n",
    "           showmeans = True,\n",
    "           boxprops = dict(facecolor='pink'),\n",
    "           flierprops=dict(marker='o', markersize=7, markerfacecolor='red'))"
   ]
  },
  {
   "cell_type": "code",
   "execution_count": 73,
   "id": "eaa7dc2a",
   "metadata": {},
   "outputs": [
    {
     "data": {
      "text/plain": [
       "{'whiskers': [<matplotlib.lines.Line2D at 0x127709490>,\n",
       "  <matplotlib.lines.Line2D at 0x127709790>],\n",
       " 'caps': [<matplotlib.lines.Line2D at 0x127709a90>,\n",
       "  <matplotlib.lines.Line2D at 0x127709e50>],\n",
       " 'boxes': [<matplotlib.patches.PathPatch at 0x1274e3f80>],\n",
       " 'medians': [<matplotlib.lines.Line2D at 0x12770a180>],\n",
       " 'fliers': [<matplotlib.lines.Line2D at 0x12770a750>],\n",
       " 'means': [<matplotlib.lines.Line2D at 0x12770a420>]}"
      ]
     },
     "execution_count": 73,
     "metadata": {},
     "output_type": "execute_result"
    },
    {
     "data": {
      "image/png": "[encoded data removed]",
      "text/plain": [
       "<Figure size 640x480 with 1 Axes>"
      ]
     },
     "metadata": {},
     "output_type": "display_data"
    }
   ],
   "source": [
    "plt.boxplot(df.Value,\n",
    "           vert = False,\n",
    "           patch_artist = True,\n",
    "           showmeans = True,\n",
    "           boxprops = dict(facecolor='pink'),\n",
    "           flierprops=dict(marker='o', markersize=7, markerfacecolor='red'))"
   ]
  }
 ],
 "metadata": {
  "kernelspec": {
   "display_name": ".venv",
   "language": "python",
   "name": "python3"
  },
  "language_info": {
   "codemirror_mode": {
    "name": "ipython",
    "version": 3
   },
   "file_extension": ".py",
   "mimetype": "text/x-python",
   "name": "python",
   "nbconvert_exporter": "python",
   "pygments_lexer": "ipython3",
   "version": "3.12.4"
  }
 },
 "nbformat": 4,
 "nbformat_minor": 5
}

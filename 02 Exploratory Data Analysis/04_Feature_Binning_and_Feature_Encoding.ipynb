{
 "cells": [
  {
   "cell_type": "markdown",
   "id": "f6c9ff13",
   "metadata": {},
   "source": [
    "# **`Feature Binning`** (or Binding)?\n",
    "Grouping numeric values into categories (bins).\n",
    "\n",
    "###  Why use feature binning?\n",
    "\n",
    "* Makes data **easier to understand**\n",
    "* Useful for **visualization**\n",
    "* Helps models handle **non-linear patterns**\n",
    "* Reduces the effect of **outliers**\n",
    "\n"
   ]
  },
  {
   "cell_type": "code",
   "execution_count": 2,
   "id": "8100637d",
   "metadata": {},
   "outputs": [],
   "source": [
    "import numpy as np\n",
    "import pandas as pd\n",
    "import matplotlib.pyplot as plt\n",
    "from sklearn import preprocessing"
   ]
  },
  {
   "cell_type": "code",
   "execution_count": 3,
   "id": "6d890135",
   "metadata": {},
   "outputs": [],
   "source": [
    "df = pd.read_csv('cleaned_data.csv')"
   ]
  },
  {
   "cell_type": "code",
   "execution_count": 4,
   "id": "a1851bb0",
   "metadata": {},
   "outputs": [
    {
     "name": "stdout",
     "output_type": "stream",
     "text": [
      "<class 'pandas.core.frame.DataFrame'>\n",
      "RangeIndex: 275 entries, 0 to 274\n",
      "Data columns (total 11 columns):\n",
      " #   Column           Non-Null Count  Dtype  \n",
      "---  ------           --------------  -----  \n",
      " 0   CustomerID       275 non-null    object \n",
      " 1   Name             275 non-null    object \n",
      " 2   Email            275 non-null    object \n",
      " 3   Age              275 non-null    float64\n",
      " 4   Country          275 non-null    object \n",
      " 5   SignupDate       275 non-null    object \n",
      " 6   LastLogin        275 non-null    object \n",
      " 7   TotalPurchase    275 non-null    float64\n",
      " 8   Feedback         185 non-null    object \n",
      " 9   CartValue        275 non-null    float64\n",
      " 10  DiscountApplied  275 non-null    float64\n",
      "dtypes: float64(4), object(7)\n",
      "memory usage: 23.8+ KB\n"
     ]
    }
   ],
   "source": [
    "df.info()"
   ]
  },
  {
   "cell_type": "code",
   "execution_count": 5,
   "id": "94b15351",
   "metadata": {},
   "outputs": [
    {
     "data": {
      "text/html": [
       "<div>\n",
       "<style scoped>\n",
       "    .dataframe tbody tr th:only-of-type {\n",
       "        vertical-align: middle;\n",
       "    }\n",
       "\n",
       "    .dataframe tbody tr th {\n",
       "        vertical-align: top;\n",
       "    }\n",
       "\n",
       "    .dataframe thead th {\n",
       "        text-align: right;\n",
       "    }\n",
       "</style>\n",
       "<table border=\"1\" class=\"dataframe\">\n",
       "  <thead>\n",
       "    <tr style=\"text-align: right;\">\n",
       "      <th></th>\n",
       "      <th>Age</th>\n",
       "      <th>Country</th>\n",
       "      <th>SignupDate</th>\n",
       "      <th>LastLogin</th>\n",
       "      <th>TotalPurchase</th>\n",
       "      <th>Feedback</th>\n",
       "      <th>CartValue</th>\n",
       "      <th>DiscountApplied</th>\n",
       "    </tr>\n",
       "  </thead>\n",
       "  <tbody>\n",
       "    <tr>\n",
       "      <th>0</th>\n",
       "      <td>52.0</td>\n",
       "      <td>India</td>\n",
       "      <td>2023-10-18</td>\n",
       "      <td>2025-02-14 03:26:26</td>\n",
       "      <td>80.63</td>\n",
       "      <td>Excellent</td>\n",
       "      <td>196.06000</td>\n",
       "      <td>50.0</td>\n",
       "    </tr>\n",
       "    <tr>\n",
       "      <th>1</th>\n",
       "      <td>75.0</td>\n",
       "      <td>United States</td>\n",
       "      <td>2025-02-28</td>\n",
       "      <td>2025-02-17 15:38:32</td>\n",
       "      <td>27.38</td>\n",
       "      <td>NaN</td>\n",
       "      <td>136.79000</td>\n",
       "      <td>0.0</td>\n",
       "    </tr>\n",
       "    <tr>\n",
       "      <th>2</th>\n",
       "      <td>30.0</td>\n",
       "      <td>Germany</td>\n",
       "      <td>2023-09-10</td>\n",
       "      <td>2025-02-01 15:53:26</td>\n",
       "      <td>817.67</td>\n",
       "      <td>Bad</td>\n",
       "      <td>239.65000</td>\n",
       "      <td>20.0</td>\n",
       "    </tr>\n",
       "    <tr>\n",
       "      <th>3</th>\n",
       "      <td>40.0</td>\n",
       "      <td>United States</td>\n",
       "      <td>2022-05-23</td>\n",
       "      <td>2025-05-07 21:17:28</td>\n",
       "      <td>29.28</td>\n",
       "      <td>NaN</td>\n",
       "      <td>291.47000</td>\n",
       "      <td>10.0</td>\n",
       "    </tr>\n",
       "    <tr>\n",
       "      <th>4</th>\n",
       "      <td>54.0</td>\n",
       "      <td>United States</td>\n",
       "      <td>2024-09-12</td>\n",
       "      <td>2025-05-07 13:32:36</td>\n",
       "      <td>829.67</td>\n",
       "      <td>Average</td>\n",
       "      <td>265.40743</td>\n",
       "      <td>15.0</td>\n",
       "    </tr>\n",
       "    <tr>\n",
       "      <th>...</th>\n",
       "      <td>...</td>\n",
       "      <td>...</td>\n",
       "      <td>...</td>\n",
       "      <td>...</td>\n",
       "      <td>...</td>\n",
       "      <td>...</td>\n",
       "      <td>...</td>\n",
       "      <td>...</td>\n",
       "    </tr>\n",
       "    <tr>\n",
       "      <th>270</th>\n",
       "      <td>77.0</td>\n",
       "      <td>India</td>\n",
       "      <td>2023-12-01</td>\n",
       "      <td>2025-03-08 00:47:59</td>\n",
       "      <td>699.01</td>\n",
       "      <td>Bad</td>\n",
       "      <td>331.02000</td>\n",
       "      <td>10.0</td>\n",
       "    </tr>\n",
       "    <tr>\n",
       "      <th>271</th>\n",
       "      <td>45.0</td>\n",
       "      <td>United States</td>\n",
       "      <td>2022-08-18</td>\n",
       "      <td>2025-03-08 00:47:59</td>\n",
       "      <td>435.15</td>\n",
       "      <td>NaN</td>\n",
       "      <td>243.47000</td>\n",
       "      <td>20.0</td>\n",
       "    </tr>\n",
       "    <tr>\n",
       "      <th>272</th>\n",
       "      <td>62.0</td>\n",
       "      <td>United States</td>\n",
       "      <td>2024-07-30</td>\n",
       "      <td>2025-01-19 19:21:50</td>\n",
       "      <td>814.79</td>\n",
       "      <td>Good</td>\n",
       "      <td>257.75000</td>\n",
       "      <td>5.0</td>\n",
       "    </tr>\n",
       "    <tr>\n",
       "      <th>273</th>\n",
       "      <td>19.0</td>\n",
       "      <td>India</td>\n",
       "      <td>2025-04-22</td>\n",
       "      <td>2025-02-15 22:15:24</td>\n",
       "      <td>512.18</td>\n",
       "      <td>NaN</td>\n",
       "      <td>59.99000</td>\n",
       "      <td>5.0</td>\n",
       "    </tr>\n",
       "    <tr>\n",
       "      <th>274</th>\n",
       "      <td>30.0</td>\n",
       "      <td>United States</td>\n",
       "      <td>2023-06-04</td>\n",
       "      <td>2025-02-21 21:15:45</td>\n",
       "      <td>831.78</td>\n",
       "      <td>NaN</td>\n",
       "      <td>496.60000</td>\n",
       "      <td>5.0</td>\n",
       "    </tr>\n",
       "  </tbody>\n",
       "</table>\n",
       "<p>275 rows × 8 columns</p>\n",
       "</div>"
      ],
      "text/plain": [
       "      Age        Country  SignupDate            LastLogin  TotalPurchase  \\\n",
       "0    52.0          India  2023-10-18  2025-02-14 03:26:26          80.63   \n",
       "1    75.0  United States  2025-02-28  2025-02-17 15:38:32          27.38   \n",
       "2    30.0        Germany  2023-09-10  2025-02-01 15:53:26         817.67   \n",
       "3    40.0  United States  2022-05-23  2025-05-07 21:17:28          29.28   \n",
       "4    54.0  United States  2024-09-12  2025-05-07 13:32:36         829.67   \n",
       "..    ...            ...         ...                  ...            ...   \n",
       "270  77.0          India  2023-12-01  2025-03-08 00:47:59         699.01   \n",
       "271  45.0  United States  2022-08-18  2025-03-08 00:47:59         435.15   \n",
       "272  62.0  United States  2024-07-30  2025-01-19 19:21:50         814.79   \n",
       "273  19.0          India  2025-04-22  2025-02-15 22:15:24         512.18   \n",
       "274  30.0  United States  2023-06-04  2025-02-21 21:15:45         831.78   \n",
       "\n",
       "      Feedback  CartValue  DiscountApplied  \n",
       "0    Excellent  196.06000             50.0  \n",
       "1          NaN  136.79000              0.0  \n",
       "2          Bad  239.65000             20.0  \n",
       "3          NaN  291.47000             10.0  \n",
       "4      Average  265.40743             15.0  \n",
       "..         ...        ...              ...  \n",
       "270        Bad  331.02000             10.0  \n",
       "271        NaN  243.47000             20.0  \n",
       "272       Good  257.75000              5.0  \n",
       "273        NaN   59.99000              5.0  \n",
       "274        NaN  496.60000              5.0  \n",
       "\n",
       "[275 rows x 8 columns]"
      ]
     },
     "execution_count": 5,
     "metadata": {},
     "output_type": "execute_result"
    }
   ],
   "source": [
    "df.drop(columns=['CustomerID', 'Name', 'Email'])"
   ]
  },
  {
   "cell_type": "code",
   "execution_count": 6,
   "id": "b2853cc7",
   "metadata": {},
   "outputs": [
    {
     "name": "stdout",
     "output_type": "stream",
     "text": [
      "19.0\n"
     ]
    }
   ],
   "source": [
    "print(df.Age.min())"
   ]
  },
  {
   "cell_type": "code",
   "execution_count": 7,
   "id": "83168925",
   "metadata": {},
   "outputs": [
    {
     "name": "stdout",
     "output_type": "stream",
     "text": [
      "80.0\n"
     ]
    }
   ],
   "source": [
    "print(df.Age.max())"
   ]
  },
  {
   "cell_type": "code",
   "execution_count": 8,
   "id": "57fafcde",
   "metadata": {},
   "outputs": [],
   "source": [
    "labels = ['0-20','21-30','31-40','41-50','Above 50']\n",
    "bins = [0,21,31,41,51,100]"
   ]
  },
  {
   "cell_type": "code",
   "execution_count": 9,
   "id": "9537b1f3",
   "metadata": {},
   "outputs": [],
   "source": [
    "df['Age_Bins'] = pd.cut(df.Age, bins, labels= labels, include_lowest=True)"
   ]
  },
  {
   "cell_type": "code",
   "execution_count": 10,
   "id": "538a89ad",
   "metadata": {},
   "outputs": [
    {
     "name": "stdout",
     "output_type": "stream",
     "text": [
      "      Age  Age_Bins\n",
      "0    52.0  Above 50\n",
      "1    75.0  Above 50\n",
      "2    30.0     21-30\n",
      "3    40.0     31-40\n",
      "4    54.0  Above 50\n",
      "..    ...       ...\n",
      "270  77.0  Above 50\n",
      "271  45.0     41-50\n",
      "272  62.0  Above 50\n",
      "273  19.0      0-20\n",
      "274  30.0     21-30\n",
      "\n",
      "[275 rows x 2 columns]\n"
     ]
    }
   ],
   "source": [
    "print(df[[\"Age\", \"Age_Bins\"]])"
   ]
  },
  {
   "cell_type": "code",
   "execution_count": 11,
   "id": "aa589711",
   "metadata": {},
   "outputs": [
    {
     "data": {
      "text/plain": [
       "<BarContainer object of 5 artists>"
      ]
     },
     "execution_count": 11,
     "metadata": {},
     "output_type": "execute_result"
    },
    {
     "data": {
      "image/png": "[encoded data removed]",
      "text/plain": [
       "<Figure size 640x480 with 1 Axes>"
      ]
     },
     "metadata": {},
     "output_type": "display_data"
    }
   ],
   "source": [
    "plt.bar(labels,df.Age_Bins.value_counts())"
   ]
  },
  {
   "cell_type": "markdown",
   "id": "7a8cdad4",
   "metadata": {},
   "source": [
    "\n",
    "# **`Feature Encoding`**?\n",
    "**Feature encoding** means converting **text or categories into numbers** so that machines can understand them.\n",
    "- Most machine learning models can't understand words like `\"India\"` or `\"Excellent\"` — they need **numbers**!\n",
    "\n",
    "####  Label Encoding:\n",
    "\n",
    "| Country (Label) | Feedback (Label) |\n",
    "| --------------- | ---------------- |\n",
    "| 0               | 2                |\n",
    "| 1               | 1                |\n",
    "| 2               | 0                |\n",
    "\n",
    "####  One-Hot Encoding:\n",
    "\n",
    "| India | Germany | USA | Excellent | Average | Bad |\n",
    "| ----- | ------- | --- | --------- | ------- | --- |\n",
    "| 1     | 0       | 0   | 1         | 0       | 0   |\n",
    "| 0     | 1       | 0   | 0         | 1       | 0   |\n",
    "| 0     | 0       | 1   | 0         | 0       | 1   |\n",
    "\n",
    "\n",
    "\n",
    "###  Types of Encoding:\n",
    "\n",
    "| Encoding Type    | Description                                                              |\n",
    "| ---------------- | ------------------------------------------------------------------------ |\n",
    "| Label Encoding   | Convert categories to numbers (e.g., A=0, B=1, C=2)                      |\n",
    "| One-Hot Encoding | Make new columns for each category (1 if it exists, else 0)              |\n",
    "| Ordinal Encoding | Like label encoding but follows order (e.g., Bad=0 < Average=1 < Good=2) |\n",
    "\n",
    "\n"
   ]
  },
  {
   "cell_type": "markdown",
   "id": "88eb2969",
   "metadata": {},
   "source": [
    "### `Lable Encoding`"
   ]
  },
  {
   "cell_type": "code",
   "execution_count": 25,
   "id": "7ccd3435",
   "metadata": {},
   "outputs": [],
   "source": [
    "Lable_encoder = preprocessing.LabelEncoder()\n",
    "df['Feedback_lable'] = Lable_encoder.fit_transform(df.Feedback.values)"
   ]
  },
  {
   "cell_type": "code",
   "execution_count": 19,
   "id": "8f55c6db",
   "metadata": {},
   "outputs": [
    {
     "data": {
      "text/html": [
       "<div>\n",
       "<style scoped>\n",
       "    .dataframe tbody tr th:only-of-type {\n",
       "        vertical-align: middle;\n",
       "    }\n",
       "\n",
       "    .dataframe tbody tr th {\n",
       "        vertical-align: top;\n",
       "    }\n",
       "\n",
       "    .dataframe thead th {\n",
       "        text-align: right;\n",
       "    }\n",
       "</style>\n",
       "<table border=\"1\" class=\"dataframe\">\n",
       "  <thead>\n",
       "    <tr style=\"text-align: right;\">\n",
       "      <th></th>\n",
       "      <th>Feedback</th>\n",
       "      <th>Feedback_lable</th>\n",
       "    </tr>\n",
       "  </thead>\n",
       "  <tbody>\n",
       "    <tr>\n",
       "      <th>0</th>\n",
       "      <td>Excellent</td>\n",
       "      <td>2</td>\n",
       "    </tr>\n",
       "    <tr>\n",
       "      <th>1</th>\n",
       "      <td>NaN</td>\n",
       "      <td>4</td>\n",
       "    </tr>\n",
       "    <tr>\n",
       "      <th>2</th>\n",
       "      <td>Bad</td>\n",
       "      <td>1</td>\n",
       "    </tr>\n",
       "    <tr>\n",
       "      <th>3</th>\n",
       "      <td>NaN</td>\n",
       "      <td>4</td>\n",
       "    </tr>\n",
       "    <tr>\n",
       "      <th>4</th>\n",
       "      <td>Average</td>\n",
       "      <td>0</td>\n",
       "    </tr>\n",
       "    <tr>\n",
       "      <th>...</th>\n",
       "      <td>...</td>\n",
       "      <td>...</td>\n",
       "    </tr>\n",
       "    <tr>\n",
       "      <th>270</th>\n",
       "      <td>Bad</td>\n",
       "      <td>1</td>\n",
       "    </tr>\n",
       "    <tr>\n",
       "      <th>271</th>\n",
       "      <td>NaN</td>\n",
       "      <td>4</td>\n",
       "    </tr>\n",
       "    <tr>\n",
       "      <th>272</th>\n",
       "      <td>Good</td>\n",
       "      <td>3</td>\n",
       "    </tr>\n",
       "    <tr>\n",
       "      <th>273</th>\n",
       "      <td>NaN</td>\n",
       "      <td>4</td>\n",
       "    </tr>\n",
       "    <tr>\n",
       "      <th>274</th>\n",
       "      <td>NaN</td>\n",
       "      <td>4</td>\n",
       "    </tr>\n",
       "  </tbody>\n",
       "</table>\n",
       "<p>275 rows × 2 columns</p>\n",
       "</div>"
      ],
      "text/plain": [
       "      Feedback  Feedback_lable\n",
       "0    Excellent               2\n",
       "1          NaN               4\n",
       "2          Bad               1\n",
       "3          NaN               4\n",
       "4      Average               0\n",
       "..         ...             ...\n",
       "270        Bad               1\n",
       "271        NaN               4\n",
       "272       Good               3\n",
       "273        NaN               4\n",
       "274        NaN               4\n",
       "\n",
       "[275 rows x 2 columns]"
      ]
     },
     "execution_count": 19,
     "metadata": {},
     "output_type": "execute_result"
    }
   ],
   "source": [
    "df[['Feedback','Feedback_lable']]"
   ]
  },
  {
   "cell_type": "markdown",
   "id": "8f2ecefa",
   "metadata": {},
   "source": [
    "### `One Hot Encoding`"
   ]
  },
  {
   "cell_type": "code",
   "execution_count": 29,
   "id": "23294e46",
   "metadata": {},
   "outputs": [],
   "source": [
    "# Dummy encoding\n",
    "one_hot = pd.get_dummies(df.Country)"
   ]
  },
  {
   "cell_type": "code",
   "execution_count": 27,
   "id": "f40bc2db",
   "metadata": {},
   "outputs": [
    {
     "data": {
      "text/html": [
       "<div>\n",
       "<style scoped>\n",
       "    .dataframe tbody tr th:only-of-type {\n",
       "        vertical-align: middle;\n",
       "    }\n",
       "\n",
       "    .dataframe tbody tr th {\n",
       "        vertical-align: top;\n",
       "    }\n",
       "\n",
       "    .dataframe thead th {\n",
       "        text-align: right;\n",
       "    }\n",
       "</style>\n",
       "<table border=\"1\" class=\"dataframe\">\n",
       "  <thead>\n",
       "    <tr style=\"text-align: right;\">\n",
       "      <th></th>\n",
       "      <th>Germany</th>\n",
       "      <th>India</th>\n",
       "      <th>United States</th>\n",
       "    </tr>\n",
       "  </thead>\n",
       "  <tbody>\n",
       "    <tr>\n",
       "      <th>0</th>\n",
       "      <td>False</td>\n",
       "      <td>True</td>\n",
       "      <td>False</td>\n",
       "    </tr>\n",
       "    <tr>\n",
       "      <th>1</th>\n",
       "      <td>False</td>\n",
       "      <td>False</td>\n",
       "      <td>True</td>\n",
       "    </tr>\n",
       "    <tr>\n",
       "      <th>2</th>\n",
       "      <td>True</td>\n",
       "      <td>False</td>\n",
       "      <td>False</td>\n",
       "    </tr>\n",
       "    <tr>\n",
       "      <th>3</th>\n",
       "      <td>False</td>\n",
       "      <td>False</td>\n",
       "      <td>True</td>\n",
       "    </tr>\n",
       "    <tr>\n",
       "      <th>4</th>\n",
       "      <td>False</td>\n",
       "      <td>False</td>\n",
       "      <td>True</td>\n",
       "    </tr>\n",
       "    <tr>\n",
       "      <th>...</th>\n",
       "      <td>...</td>\n",
       "      <td>...</td>\n",
       "      <td>...</td>\n",
       "    </tr>\n",
       "    <tr>\n",
       "      <th>270</th>\n",
       "      <td>False</td>\n",
       "      <td>True</td>\n",
       "      <td>False</td>\n",
       "    </tr>\n",
       "    <tr>\n",
       "      <th>271</th>\n",
       "      <td>False</td>\n",
       "      <td>False</td>\n",
       "      <td>True</td>\n",
       "    </tr>\n",
       "    <tr>\n",
       "      <th>272</th>\n",
       "      <td>False</td>\n",
       "      <td>False</td>\n",
       "      <td>True</td>\n",
       "    </tr>\n",
       "    <tr>\n",
       "      <th>273</th>\n",
       "      <td>False</td>\n",
       "      <td>True</td>\n",
       "      <td>False</td>\n",
       "    </tr>\n",
       "    <tr>\n",
       "      <th>274</th>\n",
       "      <td>False</td>\n",
       "      <td>False</td>\n",
       "      <td>True</td>\n",
       "    </tr>\n",
       "  </tbody>\n",
       "</table>\n",
       "<p>275 rows × 3 columns</p>\n",
       "</div>"
      ],
      "text/plain": [
       "     Germany  India  United States\n",
       "0      False   True          False\n",
       "1      False  False           True\n",
       "2       True  False          False\n",
       "3      False  False           True\n",
       "4      False  False           True\n",
       "..       ...    ...            ...\n",
       "270    False   True          False\n",
       "271    False  False           True\n",
       "272    False  False           True\n",
       "273    False   True          False\n",
       "274    False  False           True\n",
       "\n",
       "[275 rows x 3 columns]"
      ]
     },
     "execution_count": 27,
     "metadata": {},
     "output_type": "execute_result"
    }
   ],
   "source": [
    "one_hot"
   ]
  },
  {
   "cell_type": "code",
   "execution_count": 32,
   "id": "a1957948",
   "metadata": {},
   "outputs": [],
   "source": [
    "# Target Engoding\n",
    "from category_encoders import TargetEncoder"
   ]
  },
  {
   "cell_type": "code",
   "execution_count": 34,
   "id": "1981ae31",
   "metadata": {},
   "outputs": [],
   "source": [
    "encoder = TargetEncoder()"
   ]
  },
  {
   "cell_type": "code",
   "execution_count": 37,
   "id": "ae065b3a",
   "metadata": {},
   "outputs": [],
   "source": [
    "df['Country_encoded'] = encoder.fit_transform(df['Country'], df['TotalPurchase'])"
   ]
  },
  {
   "cell_type": "code",
   "execution_count": 38,
   "id": "9ac316cd",
   "metadata": {},
   "outputs": [
    {
     "name": "stdout",
     "output_type": "stream",
     "text": [
      "         Country  Country_encoded\n",
      "0          India       458.388620\n",
      "1  United States       544.784730\n",
      "2        Germany       521.478897\n",
      "3  United States       544.784730\n",
      "4  United States       544.784730\n"
     ]
    }
   ],
   "source": [
    "print(df[['Country', 'Country_encoded']].head())"
   ]
  },
  {
   "cell_type": "code",
   "execution_count": null,
   "id": "cffa2e4e",
   "metadata": {},
   "outputs": [],
   "source": []
  }
 ],
 "metadata": {
  "kernelspec": {
   "display_name": ".venv",
   "language": "python",
   "name": "python3"
  },
  "language_info": {
   "codemirror_mode": {
    "name": "ipython",
    "version": 3
   },
   "file_extension": ".py",
   "mimetype": "text/x-python",
   "name": "python",
   "nbconvert_exporter": "python",
   "pygments_lexer": "ipython3",
   "version": "3.12.4"
  }
 },
 "nbformat": 4,
 "nbformat_minor": 5
}

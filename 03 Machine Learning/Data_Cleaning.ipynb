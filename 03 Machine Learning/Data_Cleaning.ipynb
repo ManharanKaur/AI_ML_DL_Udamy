{
 "cells": [
  {
   "cell_type": "code",
   "execution_count": 4,
   "id": "782d33ba",
   "metadata": {},
   "outputs": [],
   "source": [
    "import pandas as pd"
   ]
  },
  {
   "cell_type": "code",
   "execution_count": 8,
   "id": "ccb3a9a3",
   "metadata": {},
   "outputs": [
    {
     "data": {
      "text/html": [
       "<div>\n",
       "<style scoped>\n",
       "    .dataframe tbody tr th:only-of-type {\n",
       "        vertical-align: middle;\n",
       "    }\n",
       "\n",
       "    .dataframe tbody tr th {\n",
       "        vertical-align: top;\n",
       "    }\n",
       "\n",
       "    .dataframe thead th {\n",
       "        text-align: right;\n",
       "    }\n",
       "</style>\n",
       "<table border=\"1\" class=\"dataframe\">\n",
       "  <thead>\n",
       "    <tr style=\"text-align: right;\">\n",
       "      <th></th>\n",
       "      <th>CustomerID</th>\n",
       "      <th>Name</th>\n",
       "      <th>Email</th>\n",
       "      <th>Age</th>\n",
       "      <th>Country</th>\n",
       "      <th>SignupDate</th>\n",
       "      <th>LastLogin</th>\n",
       "      <th>TotalPurchase</th>\n",
       "      <th>Feedback</th>\n",
       "      <th>CartValue</th>\n",
       "      <th>ItemsBought</th>\n",
       "      <th>DiscountApplied</th>\n",
       "      <th>AvgPurchaseValue</th>\n",
       "    </tr>\n",
       "  </thead>\n",
       "  <tbody>\n",
       "    <tr>\n",
       "      <th>0</th>\n",
       "      <td>e3e70682-c209-4cac-a29f-6fbed82c07cd</td>\n",
       "      <td>Edwin Mack</td>\n",
       "      <td>timothy14@ward.com</td>\n",
       "      <td>unknown</td>\n",
       "      <td>NaN</td>\n",
       "      <td>2023-10-18</td>\n",
       "      <td>2025-02-14 03:26:26</td>\n",
       "      <td>80.63</td>\n",
       "      <td>Excellent</td>\n",
       "      <td>196.06</td>\n",
       "      <td>NaN</td>\n",
       "      <td>5.0</td>\n",
       "      <td>NaN</td>\n",
       "    </tr>\n",
       "    <tr>\n",
       "      <th>1</th>\n",
       "      <td>f728b4fa-4248-4e3a-8a5d-2f346baa9455</td>\n",
       "      <td>Kimberly Moore</td>\n",
       "      <td>brendagonzalez@atkins.org</td>\n",
       "      <td>75</td>\n",
       "      <td>USA</td>\n",
       "      <td>2025-02-28</td>\n",
       "      <td>2025-02-17 15:38:32</td>\n",
       "      <td>27.38</td>\n",
       "      <td>NaN</td>\n",
       "      <td>136.79</td>\n",
       "      <td>NaN</td>\n",
       "      <td>0.0</td>\n",
       "      <td>NaN</td>\n",
       "    </tr>\n",
       "    <tr>\n",
       "      <th>2</th>\n",
       "      <td>eb1167b3-67a9-4378-bc65-c1e582e2e662</td>\n",
       "      <td>Kaitlin Gregory</td>\n",
       "      <td>velazquezanita@yahoo.com</td>\n",
       "      <td>30</td>\n",
       "      <td>Germany</td>\n",
       "      <td>2023-09-10</td>\n",
       "      <td>2025-02-01 15:53:26</td>\n",
       "      <td>817.67</td>\n",
       "      <td>Bad</td>\n",
       "      <td>239.65</td>\n",
       "      <td>NaN</td>\n",
       "      <td>20.0</td>\n",
       "      <td>NaN</td>\n",
       "    </tr>\n",
       "    <tr>\n",
       "      <th>3</th>\n",
       "      <td>f7c1bd87-4da5-4709-9471-3d60c8a70639</td>\n",
       "      <td>Crystal Gill</td>\n",
       "      <td>allentyler@hill-smith.com</td>\n",
       "      <td>NaN</td>\n",
       "      <td>United States</td>\n",
       "      <td>NaN</td>\n",
       "      <td>2025-05-07 21:17:28</td>\n",
       "      <td>29.28</td>\n",
       "      <td>NaN</td>\n",
       "      <td>291.47</td>\n",
       "      <td>NaN</td>\n",
       "      <td>10.0</td>\n",
       "      <td>NaN</td>\n",
       "    </tr>\n",
       "    <tr>\n",
       "      <th>4</th>\n",
       "      <td>e443df78-9558-467f-9ba9-1faf7a024204</td>\n",
       "      <td>William Martinez</td>\n",
       "      <td>jonesashley@gmail.com</td>\n",
       "      <td>NaN</td>\n",
       "      <td>United States</td>\n",
       "      <td>2024-09-12</td>\n",
       "      <td>2025-05-07 13:32:36</td>\n",
       "      <td>829.67</td>\n",
       "      <td>Average</td>\n",
       "      <td>NaN</td>\n",
       "      <td>NaN</td>\n",
       "      <td>15.0</td>\n",
       "      <td>NaN</td>\n",
       "    </tr>\n",
       "  </tbody>\n",
       "</table>\n",
       "</div>"
      ],
      "text/plain": [
       "                             CustomerID              Name  \\\n",
       "0  e3e70682-c209-4cac-a29f-6fbed82c07cd        Edwin Mack   \n",
       "1  f728b4fa-4248-4e3a-8a5d-2f346baa9455    Kimberly Moore   \n",
       "2  eb1167b3-67a9-4378-bc65-c1e582e2e662   Kaitlin Gregory   \n",
       "3  f7c1bd87-4da5-4709-9471-3d60c8a70639      Crystal Gill   \n",
       "4  e443df78-9558-467f-9ba9-1faf7a024204  William Martinez   \n",
       "\n",
       "                       Email      Age        Country  SignupDate  \\\n",
       "0         timothy14@ward.com  unknown            NaN  2023-10-18   \n",
       "1  brendagonzalez@atkins.org       75            USA  2025-02-28   \n",
       "2   velazquezanita@yahoo.com       30        Germany  2023-09-10   \n",
       "3  allentyler@hill-smith.com      NaN  United States         NaN   \n",
       "4      jonesashley@gmail.com      NaN  United States  2024-09-12   \n",
       "\n",
       "             LastLogin  TotalPurchase   Feedback  CartValue  ItemsBought  \\\n",
       "0  2025-02-14 03:26:26          80.63  Excellent     196.06          NaN   \n",
       "1  2025-02-17 15:38:32          27.38        NaN     136.79          NaN   \n",
       "2  2025-02-01 15:53:26         817.67        Bad     239.65          NaN   \n",
       "3  2025-05-07 21:17:28          29.28        NaN     291.47          NaN   \n",
       "4  2025-05-07 13:32:36         829.67    Average        NaN          NaN   \n",
       "\n",
       "   DiscountApplied  AvgPurchaseValue  \n",
       "0              5.0               NaN  \n",
       "1              0.0               NaN  \n",
       "2             20.0               NaN  \n",
       "3             10.0               NaN  \n",
       "4             15.0               NaN  "
      ]
     },
     "execution_count": 8,
     "metadata": {},
     "output_type": "execute_result"
    }
   ],
   "source": [
    "dataset = pd.read_csv(r\"/Users/manharankaur/Downloads/uncleaned_customer_data_with_numerics.csv\")\n",
    "dataset.head()"
   ]
  },
  {
   "cell_type": "code",
   "execution_count": 9,
   "id": "ec0f989c",
   "metadata": {},
   "outputs": [
    {
     "data": {
      "text/plain": [
       "(310, 13)"
      ]
     },
     "execution_count": 9,
     "metadata": {},
     "output_type": "execute_result"
    }
   ],
   "source": [
    "dataset.shape"
   ]
  },
  {
   "cell_type": "code",
   "execution_count": 11,
   "id": "9ac2228d",
   "metadata": {},
   "outputs": [
    {
     "data": {
      "text/plain": [
       "CustomerID            7\n",
       "Name                 17\n",
       "Email                11\n",
       "Age                 116\n",
       "Country              40\n",
       "SignupDate           30\n",
       "LastLogin            52\n",
       "TotalPurchase        27\n",
       "Feedback            103\n",
       "CartValue            29\n",
       "ItemsBought         195\n",
       "DiscountApplied      56\n",
       "AvgPurchaseValue    206\n",
       "dtype: int64"
      ]
     },
     "execution_count": 11,
     "metadata": {},
     "output_type": "execute_result"
    }
   ],
   "source": [
    "dataset.isnull().sum() # check number of missing values"
   ]
  }
 ],
 "metadata": {
  "kernelspec": {
   "display_name": ".venv",
   "language": "python",
   "name": "python3"
  },
  "language_info": {
   "codemirror_mode": {
    "name": "ipython",
    "version": 3
   },
   "file_extension": ".py",
   "mimetype": "text/x-python",
   "name": "python",
   "nbconvert_exporter": "python",
   "pygments_lexer": "ipython3",
   "version": "3.12.4"
  }
 },
 "nbformat": 4,
 "nbformat_minor": 5
}
